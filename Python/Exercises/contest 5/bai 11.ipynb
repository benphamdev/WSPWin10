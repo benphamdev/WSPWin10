{
 "cells": [
  {
   "cell_type": "code",
   "execution_count": 1,
   "id": "afa39778",
   "metadata": {},
   "outputs": [
    {
     "ename": "SyntaxError",
     "evalue": "expected ':' (1969913341.py, line 2)",
     "output_type": "error",
     "traceback": [
      "\u001b[1;36m  Cell \u001b[1;32mIn[1], line 2\u001b[1;36m\u001b[0m\n\u001b[1;33m    def fibo(){}\u001b[0m\n\u001b[1;37m              ^\u001b[0m\n\u001b[1;31mSyntaxError\u001b[0m\u001b[1;31m:\u001b[0m expected ':'\n"
     ]
    }
   ],
   "source": [
    "fb = [0] * 95\n",
    "def fibo() :\n",
    "    global fibo\n",
    "    fb[0] = 0\n",
    "    fb[1] = 1\n",
    "    for i in range(2, 93) :\n",
    "        fb[i] = fb[i - 1] + fb[i - 2]\n",
    "\n",
    "if __name__ == '__main__' :\n",
    "    fibo();\n",
    "    n = int(input())\n",
    "    a = list(map(int, input().split()))\n",
    "    ok = True\n",
    "    for i in a :\n",
    "        if(i in fb) :\n",
    "            print(i, end = ' ')\n",
    "            ok = False\n",
    "    if(ok) : print(\"NONE\")"
   ]
  }
 ],
 "metadata": {
  "kernelspec": {
   "display_name": "Python 3 (ipykernel)",
   "language": "python",
   "name": "python3"
  },
  "language_info": {
   "codemirror_mode": {
    "name": "ipython",
    "version": 3
   },
   "file_extension": ".py",
   "mimetype": "text/x-python",
   "name": "python",
   "nbconvert_exporter": "python",
   "pygments_lexer": "ipython3",
   "version": "3.10.9"
  }
 },
 "nbformat": 4,
 "nbformat_minor": 5
}
