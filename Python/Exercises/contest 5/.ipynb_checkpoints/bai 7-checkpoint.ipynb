{
 "cells": [
  {
   "cell_type": "code",
   "execution_count": null,
   "id": "b459e6f8",
   "metadata": {},
   "outputs": [],
   "source": [
    "n = int(input())\n",
    "a = list(map(int, input().split()))\n",
    "a.sort()\n",
    "minval = 1e9\n",
    "for i in range(n - 1) :\n",
    "    if(a[i + 1] - a[i] < minval) :\n",
    "        minval = a[i + 1] - a[i]\n",
    "print(minval)"
   ]
  }
 ],
 "metadata": {
  "kernelspec": {
   "display_name": "Python 3 (ipykernel)",
   "language": "python",
   "name": "python3"
  },
  "language_info": {
   "codemirror_mode": {
    "name": "ipython",
    "version": 3
   },
   "file_extension": ".py",
   "mimetype": "text/x-python",
   "name": "python",
   "nbconvert_exporter": "python",
   "pygments_lexer": "ipython3",
   "version": "3.10.9"
  }
 },
 "nbformat": 4,
 "nbformat_minor": 5
}
