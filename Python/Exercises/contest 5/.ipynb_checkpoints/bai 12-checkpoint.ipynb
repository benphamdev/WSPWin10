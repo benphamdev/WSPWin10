{
 "cells": [
  {
   "cell_type": "code",
   "execution_count": null,
   "id": "e8d7cd60",
   "metadata": {},
   "outputs": [],
   "source": [
    "n = int(input())\n",
    "a = list(map(int, input().split()))\n",
    "\n",
    "minval, maxval = 10 ** 7, -10 ** 7\n",
    "idx, idx2 = 0, 0\n",
    "for i in range(n):\n",
    "    if a[i] <= minval :\n",
    "        minval = a[i]\n",
    "        idx = i\n",
    "    if a[i] > maxval :\n",
    "        maxval = a[i]\n",
    "        idx2 = i\n",
    "print(idx, idx2)"
   ]
  }
 ],
 "metadata": {
  "kernelspec": {
   "display_name": "Python 3 (ipykernel)",
   "language": "python",
   "name": "python3"
  },
  "language_info": {
   "codemirror_mode": {
    "name": "ipython",
    "version": 3
   },
   "file_extension": ".py",
   "mimetype": "text/x-python",
   "name": "python",
   "nbconvert_exporter": "python",
   "pygments_lexer": "ipython3",
   "version": "3.10.9"
  }
 },
 "nbformat": 4,
 "nbformat_minor": 5
}
