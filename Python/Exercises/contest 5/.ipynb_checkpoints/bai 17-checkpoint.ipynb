{
 "cells": [
  {
   "cell_type": "code",
   "execution_count": 4,
   "id": "c0cfa547",
   "metadata": {},
   "outputs": [
    {
     "name": "stdout",
     "output_type": "stream",
     "text": [
      "4\n",
      "1 2 3 4\n",
      "NO\n"
     ]
    }
   ],
   "source": [
    "def check(a, n) :\n",
    "    for i in range(0, n // 2) :\n",
    "        if(a[i] != a[n - i - 1]) : return False\n",
    "    return True\n",
    "\n",
    "if __name__ == '__main__' :\n",
    "    n = int(input())\n",
    "    a = list(map(int, input().split()))\n",
    "    print(\"YES\" if check(a, n) else \"NO\")"
   ]
  }
 ],
 "metadata": {
  "kernelspec": {
   "display_name": "Python 3 (ipykernel)",
   "language": "python",
   "name": "python3"
  },
  "language_info": {
   "codemirror_mode": {
    "name": "ipython",
    "version": 3
   },
   "file_extension": ".py",
   "mimetype": "text/x-python",
   "name": "python",
   "nbconvert_exporter": "python",
   "pygments_lexer": "ipython3",
   "version": "3.10.9"
  }
 },
 "nbformat": 4,
 "nbformat_minor": 5
}
