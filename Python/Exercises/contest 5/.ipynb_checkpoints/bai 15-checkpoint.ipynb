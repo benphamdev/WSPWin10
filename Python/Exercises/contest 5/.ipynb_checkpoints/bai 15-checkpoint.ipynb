{
 "cells": [
  {
   "cell_type": "code",
   "execution_count": null,
   "id": "df55fb66",
   "metadata": {},
   "outputs": [],
   "source": [
    "n = int(input())\n",
    "a = list(map(int, input().split()))\n",
    "max1, max2 = -10 ** 7, -10 ** 7\n",
    "\n",
    "for i in range(n) :\n",
    "    if a[i] > max1 :\n",
    "        max1, max2 = a[i], max1\n",
    "    elif a[i] > max2 :\n",
    "        max2 = a[i]\n",
    "print(max1, max2)"
   ]
  }
 ],
 "metadata": {
  "kernelspec": {
   "display_name": "Python 3 (ipykernel)",
   "language": "python",
   "name": "python3"
  },
  "language_info": {
   "codemirror_mode": {
    "name": "ipython",
    "version": 3
   },
   "file_extension": ".py",
   "mimetype": "text/x-python",
   "name": "python",
   "nbconvert_exporter": "python",
   "pygments_lexer": "ipython3",
   "version": "3.10.9"
  }
 },
 "nbformat": 4,
 "nbformat_minor": 5
}
