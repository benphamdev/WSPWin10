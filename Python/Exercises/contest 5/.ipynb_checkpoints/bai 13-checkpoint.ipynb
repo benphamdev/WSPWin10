{
 "cells": [
  {
   "cell_type": "code",
   "execution_count": null,
   "id": "fa4132b7",
   "metadata": {},
   "outputs": [],
   "source": [
    "mod = (int)(1e9 + 7)\n",
    "n = int(input())\n",
    "a = list(map(int, input().split()))\n",
    "sum , mul = 0, 1\n",
    "for i in a :\n",
    "    sum += i\n",
    "    sum %= mod\n",
    "    mul *= i\n",
    "    mul %= mod\n",
    "print(sum % mod, mul % mod, sep = '\\n')"
   ]
  }
 ],
 "metadata": {
  "kernelspec": {
   "display_name": "Python 3 (ipykernel)",
   "language": "python",
   "name": "python3"
  },
  "language_info": {
   "codemirror_mode": {
    "name": "ipython",
    "version": 3
   },
   "file_extension": ".py",
   "mimetype": "text/x-python",
   "name": "python",
   "nbconvert_exporter": "python",
   "pygments_lexer": "ipython3",
   "version": "3.10.9"
  }
 },
 "nbformat": 4,
 "nbformat_minor": 5
}
