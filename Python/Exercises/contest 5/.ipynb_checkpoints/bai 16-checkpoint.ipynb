{
 "cells": [
  {
   "cell_type": "code",
   "execution_count": null,
   "id": "600d3284",
   "metadata": {},
   "outputs": [],
   "source": [
    "from math import *\n",
    "def prime(n) :\n",
    "    if n < 2 : return False\n",
    "    for i in range(2, isqrt(n) + 1) :\n",
    "        if n % i == 0 : return False\n",
    "    return True\n",
    "\n",
    "def perfectSquare(n) :\n",
    "    can = isqrt(n)\n",
    "    return can * can == n\n",
    "\n",
    "def palindrome(n) :\n",
    "    rev, tmp = 0, n\n",
    "    while n :\n",
    "        rev = rev * 10 + n % 10\n",
    "        n //= 10\n",
    "    return rev == tmp\n",
    "\n",
    "def sumDig(n) :\n",
    "    sum = 0\n",
    "    while n :\n",
    "        sum += n % 10\n",
    "        n //= 10\n",
    "    return sum\n",
    "\n",
    "if __name__ == '__main__' :\n",
    "    n = int(input())\n",
    "    a = list(map(int, input().split()))\n",
    "    cnt, cnt1, cnt2, cnt3 = 0, 0, 0, 0\n",
    "    for i in a:\n",
    "        if(prime(i)) : cnt += 1\n",
    "        if(palindrome(i)) :cnt1 += 1\n",
    "        if(perfectSquare(i)) : cnt2 += 1\n",
    "        if(prime(sumDig(i))) : cnt3 += 1\n",
    "    print(cnt, cnt1, cnt2, cnt3, sep = '\\n')"
   ]
  }
 ],
 "metadata": {
  "kernelspec": {
   "display_name": "Python 3 (ipykernel)",
   "language": "python",
   "name": "python3"
  },
  "language_info": {
   "codemirror_mode": {
    "name": "ipython",
    "version": 3
   },
   "file_extension": ".py",
   "mimetype": "text/x-python",
   "name": "python",
   "nbconvert_exporter": "python",
   "pygments_lexer": "ipython3",
   "version": "3.10.9"
  }
 },
 "nbformat": 4,
 "nbformat_minor": 5
}
