{
 "cells": [
  {
   "cell_type": "code",
   "execution_count": 25,
   "id": "d6fbcffe",
   "metadata": {},
   "outputs": [
    {
     "name": "stdout",
     "output_type": "stream",
     "text": [
      "CHANLE\n"
     ]
    }
   ],
   "source": [
    "from sys import stdin\n",
    "\n",
    "even , odd = 0, 0\n",
    "a = []\n",
    "for s in stdin :\n",
    "    a = map(int, s.split())\n",
    "    for i in a :\n",
    "        if i % 2 == 0 :\n",
    "            even += 1\n",
    "        else : \n",
    "            odd += 1\n",
    "\n",
    "            \n",
    "if even > odd : print(\"CHAN\")\n",
    "elif even < odd : print(\"LE\")\n",
    "else : print(\"CHANLE\")"
   ]
  }
 ],
 "metadata": {
  "kernelspec": {
   "display_name": "Python 3 (ipykernel)",
   "language": "python",
   "name": "python3"
  },
  "language_info": {
   "codemirror_mode": {
    "name": "ipython",
    "version": 3
   },
   "file_extension": ".py",
   "mimetype": "text/x-python",
   "name": "python",
   "nbconvert_exporter": "python",
   "pygments_lexer": "ipython3",
   "version": "3.10.9"
  }
 },
 "nbformat": 4,
 "nbformat_minor": 5
}
