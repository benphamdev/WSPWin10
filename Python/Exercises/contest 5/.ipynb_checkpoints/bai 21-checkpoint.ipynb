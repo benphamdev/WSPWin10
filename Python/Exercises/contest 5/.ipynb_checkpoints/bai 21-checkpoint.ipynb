{
 "cells": [
  {
   "cell_type": "code",
   "execution_count": null,
   "id": "f3562f6d",
   "metadata": {},
   "outputs": [],
   "source": [
    "n = int(input())\n",
    "a = list(map(int, input().split()))\n",
    "b = [0] * 10 ** 5\n",
    "\n",
    "for i in a :\n",
    "    b[i] += 1\n",
    "c = b[:]\n",
    "for i in a:\n",
    "    if(b[i] != 0):\n",
    "        print(i, b[i])\n",
    "        b[i] = 0\n",
    "print('')\n",
    "b = c[::]\n",
    "minval, maxval = 10 ** 7, -10 ** 7\n",
    "idx, idx1 = 0, 0\n",
    "for i in range(min(a), max(a) + 1) :\n",
    "    if(c[i] != 0) :\n",
    "        print(i, c[i])\n",
    "        if(c[i] >= maxval) :\n",
    "            maxval = c[i]\n",
    "            idx1 = i\n",
    "        if (c[i] < minval) :\n",
    "            minval = c[i]\n",
    "            idx = i\n",
    "        c[i] = 0\n",
    "print('')\n",
    "print(idx1, idx, sep = '\\n')"
   ]
  }
 ],
 "metadata": {
  "kernelspec": {
   "display_name": "Python 3 (ipykernel)",
   "language": "python",
   "name": "python3"
  },
  "language_info": {
   "codemirror_mode": {
    "name": "ipython",
    "version": 3
   },
   "file_extension": ".py",
   "mimetype": "text/x-python",
   "name": "python",
   "nbconvert_exporter": "python",
   "pygments_lexer": "ipython3",
   "version": "3.10.9"
  }
 },
 "nbformat": 4,
 "nbformat_minor": 5
}
