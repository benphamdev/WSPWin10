{
 "cells": [
  {
   "cell_type": "code",
   "execution_count": null,
   "id": "e04e35fa",
   "metadata": {},
   "outputs": [],
   "source": [
    "n = int(input())\n",
    "a = list(map(int, input().split()))\n",
    "\n",
    "b = [0] * 10 ** 7\n",
    "val, idx = -1, -1e9\n",
    "for i in a :\n",
    "    b[i] += 1\n",
    "    \n",
    "for i in a :\n",
    "    if(b[i] > idx) :\n",
    "        idx = b[i]\n",
    "        val = i\n",
    "print(val, idx)"
   ]
  }
 ],
 "metadata": {
  "kernelspec": {
   "display_name": "Python 3 (ipykernel)",
   "language": "python",
   "name": "python3"
  },
  "language_info": {
   "codemirror_mode": {
    "name": "ipython",
    "version": 3
   },
   "file_extension": ".py",
   "mimetype": "text/x-python",
   "name": "python",
   "nbconvert_exporter": "python",
   "pygments_lexer": "ipython3",
   "version": "3.10.9"
  }
 },
 "nbformat": 4,
 "nbformat_minor": 5
}
