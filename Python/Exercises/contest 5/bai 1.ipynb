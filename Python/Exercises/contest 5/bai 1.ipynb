{
 "cells": [
  {
   "cell_type": "code",
   "execution_count": 17,
   "id": "e9526147",
   "metadata": {},
   "outputs": [
    {
     "name": "stdout",
     "output_type": "stream",
     "text": [
      "6\n",
      "-711 327 372 779 451 -864 \n",
      "2\n",
      "4\n",
      "-492\n",
      "846\n"
     ]
    }
   ],
   "source": [
    "n = int(input())\n",
    "a = list(map(int,input().split()))\n",
    "\n",
    "even, odd, sumEven, sumOdd = 0, 0, 0, 0\n",
    "\n",
    "for x in a :\n",
    "    if x % 2 == 0 : \n",
    "        even += 1\n",
    "        sumEven += x\n",
    "    else :\n",
    "        odd += 1\n",
    "        sumOdd += x\n",
    "print(even, odd, sumEven, sumOdd, sep = '\\n')"
   ]
  }
 ],
 "metadata": {
  "kernelspec": {
   "display_name": "Python 3 (ipykernel)",
   "language": "python",
   "name": "python3"
  },
  "language_info": {
   "codemirror_mode": {
    "name": "ipython",
    "version": 3
   },
   "file_extension": ".py",
   "mimetype": "text/x-python",
   "name": "python",
   "nbconvert_exporter": "python",
   "pygments_lexer": "ipython3",
   "version": "3.10.9"
  }
 },
 "nbformat": 4,
 "nbformat_minor": 5
}
