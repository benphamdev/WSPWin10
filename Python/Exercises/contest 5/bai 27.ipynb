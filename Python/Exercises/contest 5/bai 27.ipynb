{
 "cells": [
  {
   "cell_type": "code",
   "execution_count": null,
   "id": "eaeffe89",
   "metadata": {},
   "outputs": [],
   "source": [
    "n = int(input())\n",
    "a = list(map(int, input().split()))\n",
    "\n",
    "c = [0] * 10 ** 7\n",
    "\n",
    "for i in range(n) :\n",
    "    c[a[i]] += 1\n",
    "    \n",
    "for i in range(min(a), max(a) + 1) :\n",
    "    if(c[i] != 0) : \n",
    "        print(i, c[i])\n",
    "        c[i] = 0"
   ]
  }
 ],
 "metadata": {
  "kernelspec": {
   "display_name": "Python 3 (ipykernel)",
   "language": "python",
   "name": "python3"
  },
  "language_info": {
   "codemirror_mode": {
    "name": "ipython",
    "version": 3
   },
   "file_extension": ".py",
   "mimetype": "text/x-python",
   "name": "python",
   "nbconvert_exporter": "python",
   "pygments_lexer": "ipython3",
   "version": "3.10.9"
  }
 },
 "nbformat": 4,
 "nbformat_minor": 5
}
