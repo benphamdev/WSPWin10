{
 "cells": [
  {
   "cell_type": "code",
   "execution_count": 3,
   "id": "0ace154c",
   "metadata": {},
   "outputs": [
    {
     "name": "stdout",
     "output_type": "stream",
     "text": [
      "5\n",
      "-911 234 151 347 231 \n",
      "249.000\n"
     ]
    }
   ],
   "source": [
    "from math import *\n",
    "\n",
    "def prime(n) :\n",
    "    if n < 2 : return False\n",
    "    for i in range(2, isqrt(n) + 1) :\n",
    "        if n % i == 0 : return False\n",
    "    return True\n",
    "\n",
    "if __name__ == '__main__' :\n",
    "    n = int(input())\n",
    "    a = list(map(int, input().split()))\n",
    "    sum = 0\n",
    "    cnt = 0\n",
    "    for x in a :\n",
    "        if prime(x) :\n",
    "            cnt += 1\n",
    "            sum += x\n",
    "    print('%.3f' % (sum / cnt))"
   ]
  }
 ],
 "metadata": {
  "kernelspec": {
   "display_name": "Python 3 (ipykernel)",
   "language": "python",
   "name": "python3"
  },
  "language_info": {
   "codemirror_mode": {
    "name": "ipython",
    "version": 3
   },
   "file_extension": ".py",
   "mimetype": "text/x-python",
   "name": "python",
   "nbconvert_exporter": "python",
   "pygments_lexer": "ipython3",
   "version": "3.10.9"
  }
 },
 "nbformat": 4,
 "nbformat_minor": 5
}
