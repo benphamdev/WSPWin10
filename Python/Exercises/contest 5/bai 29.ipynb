{
 "cells": [
  {
   "cell_type": "code",
   "execution_count": null,
   "id": "7a40959a",
   "metadata": {},
   "outputs": [],
   "source": [
    "n = int(input())\n",
    "a = list(map(int, input().split()))\n",
    "\n",
    "b = [0] * 10 ** 7\n",
    "maxval, idx = -10 ** 9, -1\n",
    "for i in a :\n",
    "    b[i] += 1\n",
    "    if(b[i] > maxval) :\n",
    "        maxval = b[i]\n",
    "        idx = i\n",
    "    elif(b[i] == maxval and i < idx) :\n",
    "        idx = i\n",
    "print(idx, maxval)"
   ]
  }
 ],
 "metadata": {
  "kernelspec": {
   "display_name": "Python 3 (ipykernel)",
   "language": "python",
   "name": "python3"
  },
  "language_info": {
   "codemirror_mode": {
    "name": "ipython",
    "version": 3
   },
   "file_extension": ".py",
   "mimetype": "text/x-python",
   "name": "python",
   "nbconvert_exporter": "python",
   "pygments_lexer": "ipython3",
   "version": "3.10.9"
  }
 },
 "nbformat": 4,
 "nbformat_minor": 5
}
