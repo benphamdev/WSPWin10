{
 "cells": [
  {
   "cell_type": "code",
   "execution_count": 17,
   "id": "e8571945",
   "metadata": {},
   "outputs": [
    {
     "name": "stdout",
     "output_type": "stream",
     "text": [
      "5\n",
      "2 2 2 2 2\n"
     ]
    }
   ],
   "source": [
    "from math import *\n",
    "\n",
    "prime = [True] * 10 ** 7 \n",
    "\n",
    "def sieve() :\n",
    "    global prime\n",
    "    prime[0] = prime[1] = False\n",
    "    for i in range(2, 10 ** 3 + 1) :\n",
    "        if(prime[i]) :\n",
    "            for j in range(i * i, 10 ** 6 + 1, i) :\n",
    "                prime[j] = False\n",
    "\n",
    "if __name__ == '__main__' :\n",
    "    sieve()\n",
    "    n = int(input())\n",
    "    a = list(map(int, input().split()))\n",
    "    k = sum(a)\n",
    "    b = []\n",
    "    ans, tmp = 0, 0\n",
    "    for i in range(n) :\n",
    "        if(prime[tmp] == True and prime[k - tmp - a[i]] == True) :\n",
    "            ans += 1\n",
    "            b.append(i)\n",
    "        tmp += a[i]\n",
    "    for i in b :\n",
    "        print(i, end = ' ')"
   ]
  }
 ],
 "metadata": {
  "kernelspec": {
   "display_name": "Python 3 (ipykernel)",
   "language": "python",
   "name": "python3"
  },
  "language_info": {
   "codemirror_mode": {
    "name": "ipython",
    "version": 3
   },
   "file_extension": ".py",
   "mimetype": "text/x-python",
   "name": "python",
   "nbconvert_exporter": "python",
   "pygments_lexer": "ipython3",
   "version": "3.10.9"
  }
 },
 "nbformat": 4,
 "nbformat_minor": 5
}
