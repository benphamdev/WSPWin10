{
 "cells": [
  {
   "cell_type": "code",
   "execution_count": 2,
   "id": "c460b9bf",
   "metadata": {},
   "outputs": [
    {
     "name": "stdout",
     "output_type": "stream",
     "text": [
      "7\n",
      "4 2 6 3 0 7 7 \n",
      "4 1\n",
      "2 1\n",
      "6 1\n",
      "3 1\n",
      "0 1\n",
      "7 2\n"
     ]
    }
   ],
   "source": [
    "n = int(input())\n",
    "a = list(map(int, input().split()))\n",
    "cnt = [0] * 10 ** 4\n",
    "for i in a :\n",
    "    cnt[i] += 1\n",
    "for i in a:\n",
    "    if(cnt[i] != 0) :\n",
    "        print(i, cnt[i])\n",
    "        cnt[i] = 0\n",
    "        "
   ]
  }
 ],
 "metadata": {
  "kernelspec": {
   "display_name": "Python 3 (ipykernel)",
   "language": "python",
   "name": "python3"
  },
  "language_info": {
   "codemirror_mode": {
    "name": "ipython",
    "version": 3
   },
   "file_extension": ".py",
   "mimetype": "text/x-python",
   "name": "python",
   "nbconvert_exporter": "python",
   "pygments_lexer": "ipython3",
   "version": "3.10.9"
  }
 },
 "nbformat": 4,
 "nbformat_minor": 5
}
