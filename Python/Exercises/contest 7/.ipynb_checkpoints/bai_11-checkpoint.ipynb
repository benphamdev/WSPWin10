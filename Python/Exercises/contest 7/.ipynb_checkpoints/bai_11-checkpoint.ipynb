{
 "cells": [
  {
   "cell_type": "code",
   "execution_count": null,
   "id": "f7e77ad5",
   "metadata": {},
   "outputs": [],
   "source": [
    "n, m = map(int, input().split())\n",
    "b = list(map(int, input().split()))\n",
    "c = list(map(int, input().split()))\n",
    "\n",
    "i, j = 0, 0\n",
    "while i < n and j < m :\n",
    "    if(b[i] <= c[j]) :\n",
    "        print('b', i + 1, sep = '', end = ' ')\n",
    "        i += 1\n",
    "    else :\n",
    "        print('c', j + 1, sep = '', end = ' ')\n",
    "        j += 1\n",
    "while i < n : \n",
    "    print('b', i + 1, sep = '', end = ' ')\n",
    "    i += 1\n",
    "while j < m :\n",
    "    print('c', j + 1, sep = '', end = ' ')\n",
    "    j += 1\n",
    "    "
   ]
  }
 ],
 "metadata": {
  "kernelspec": {
   "display_name": "Python 3 (ipykernel)",
   "language": "python",
   "name": "python3"
  },
  "language_info": {
   "codemirror_mode": {
    "name": "ipython",
    "version": 3
   },
   "file_extension": ".py",
   "mimetype": "text/x-python",
   "name": "python",
   "nbconvert_exporter": "python",
   "pygments_lexer": "ipython3",
   "version": "3.10.9"
  }
 },
 "nbformat": 4,
 "nbformat_minor": 5
}
