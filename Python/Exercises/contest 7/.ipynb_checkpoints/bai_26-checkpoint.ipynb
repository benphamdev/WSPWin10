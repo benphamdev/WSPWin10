{
 "cells": [
  {
   "cell_type": "code",
   "execution_count": null,
   "id": "48a2eb23",
   "metadata": {},
   "outputs": [],
   "source": [
    "n, x = map(int, input().split())\n",
    "a = list(map(int, input().split()))\n",
    "\n",
    "def binarySearch(l, r, k) :\n",
    "    while l <= r :\n",
    "        m = (l + r) // 2\n",
    "        if(a[m] == k) : \n",
    "            return 1\n",
    "        elif(a[m] < k) :\n",
    "            l = m + 1\n",
    "        else : \n",
    "            r = m - 1\n",
    "    return -1\n",
    "\n",
    "def check():\n",
    "    a.sort()\n",
    "    for i in range(n) :\n",
    "        if(binarySearch(i + 1, n - 1, x + a[i]) == 1) :\n",
    "            return True\n",
    "    return False\n",
    "\n",
    "if __name__ == '__main__' :\n",
    "    print(1 if check() == True else -1)    "
   ]
  }
 ],
 "metadata": {
  "kernelspec": {
   "display_name": "Python 3 (ipykernel)",
   "language": "python",
   "name": "python3"
  },
  "language_info": {
   "codemirror_mode": {
    "name": "ipython",
    "version": 3
   },
   "file_extension": ".py",
   "mimetype": "text/x-python",
   "name": "python",
   "nbconvert_exporter": "python",
   "pygments_lexer": "ipython3",
   "version": "3.10.9"
  }
 },
 "nbformat": 4,
 "nbformat_minor": 5
}
