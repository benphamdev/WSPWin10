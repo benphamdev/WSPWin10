{
 "cells": [
  {
   "cell_type": "code",
   "execution_count": 1,
   "id": "78d859ed",
   "metadata": {},
   "outputs": [
    {
     "name": "stdout",
     "output_type": "stream",
     "text": [
      "7 15\n",
      "15 5 3 7 9 14 0\n",
      "5.0000000000\n"
     ]
    }
   ],
   "source": [
    "n, l = map(int, input().split())\n",
    "a = list(map(int, input().split()))\n",
    "\n",
    "a.sort()\n",
    "ans = max(a[0] - 0, l - a[n - 1])\n",
    "for i in range(n - 1) :\n",
    "    tmp = (a[i + 1] - a[i]) / 2\n",
    "    if(tmp > ans) :\n",
    "        ans = tmp\n",
    "\n",
    "print('{:.10f}'. format(ans))"
   ]
  }
 ],
 "metadata": {
  "kernelspec": {
   "display_name": "Python 3 (ipykernel)",
   "language": "python",
   "name": "python3"
  },
  "language_info": {
   "codemirror_mode": {
    "name": "ipython",
    "version": 3
   },
   "file_extension": ".py",
   "mimetype": "text/x-python",
   "name": "python",
   "nbconvert_exporter": "python",
   "pygments_lexer": "ipython3",
   "version": "3.10.9"
  }
 },
 "nbformat": 4,
 "nbformat_minor": 5
}
