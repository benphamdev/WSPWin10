{
 "cells": [
  {
   "cell_type": "code",
   "execution_count": 2,
   "id": "1c73a350",
   "metadata": {},
   "outputs": [
    {
     "name": "stdout",
     "output_type": "stream",
     "text": [
      "3\n",
      "1 2 3 \n",
      "1 2 3 "
     ]
    }
   ],
   "source": [
    "from functools import cmp_to_key\n",
    "\n",
    "def sumDig(n) :\n",
    "    sum = 0\n",
    "    while n != 0 :\n",
    "        sum += n % 10\n",
    "        n //= 10\n",
    "    return sum\n",
    "def cmp(a, b) :\n",
    "    x, y = sumDig(a), sumDig(b)\n",
    "    if (x != y) :\n",
    "        return x - y\n",
    "    return a - b\n",
    "if __name__ == '__main__' :\n",
    "    n = int(input())\n",
    "    a = list(map(int, input().split()))\n",
    "    a.sort(key = cmp_to_key(cmp))\n",
    "    for i in a :\n",
    "        print(i, end = ' ')"
   ]
  }
 ],
 "metadata": {
  "kernelspec": {
   "display_name": "Python 3 (ipykernel)",
   "language": "python",
   "name": "python3"
  },
  "language_info": {
   "codemirror_mode": {
    "name": "ipython",
    "version": 3
   },
   "file_extension": ".py",
   "mimetype": "text/x-python",
   "name": "python",
   "nbconvert_exporter": "python",
   "pygments_lexer": "ipython3",
   "version": "3.10.9"
  }
 },
 "nbformat": 4,
 "nbformat_minor": 5
}
