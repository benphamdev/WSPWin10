{
 "cells": [
  {
   "cell_type": "code",
   "execution_count": 18,
   "id": "395cd2bb",
   "metadata": {},
   "outputs": [
    {
     "name": "stdout",
     "output_type": "stream",
     "text": [
      "1\n",
      "1\n",
      "0 1\n"
     ]
    }
   ],
   "source": [
    "n = int(input())\n",
    "a = list(map(int, input().split()))\n",
    "\n",
    "a.sort()\n",
    "\n",
    "idx, ans ,cnt = 1, a[0], 1\n",
    "\n",
    "for i in range(n - 1) :\n",
    "    if(a[i] == a[i + 1]) :\n",
    "        cnt += 1\n",
    "    else : \n",
    "        cnt = 1\n",
    "    if(cnt > idx) :\n",
    "        idx = cnt\n",
    "        ans = a[i]\n",
    "print(ans, idx)"
   ]
  }
 ],
 "metadata": {
  "kernelspec": {
   "display_name": "Python 3 (ipykernel)",
   "language": "python",
   "name": "python3"
  },
  "language_info": {
   "codemirror_mode": {
    "name": "ipython",
    "version": 3
   },
   "file_extension": ".py",
   "mimetype": "text/x-python",
   "name": "python",
   "nbconvert_exporter": "python",
   "pygments_lexer": "ipython3",
   "version": "3.10.9"
  }
 },
 "nbformat": 4,
 "nbformat_minor": 5
}
