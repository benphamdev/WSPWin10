{
 "cells": [
  {
   "cell_type": "code",
   "execution_count": null,
   "id": "721b700e",
   "metadata": {},
   "outputs": [],
   "source": [
    "n, k = map(int, input().split())\n",
    "a = list(map(int, input().split()))\n",
    "\n",
    "def binarySearch(l, r, x) :\n",
    "    res = -1\n",
    "    while l <= r :\n",
    "        m = (l + r) // 2\n",
    "        if(a[m] == x) :\n",
    "            res = m\n",
    "            r = m - 1\n",
    "        elif(a[m] < x) :\n",
    "            l = m + 1\n",
    "        else :\n",
    "            r = m - 1\n",
    "    return res\n",
    "    \n",
    "def binarySearch1(l, r, x) :\n",
    "    res = -1\n",
    "    while l <= r :\n",
    "        m = (l + r) // 2\n",
    "        if(a[m] == x) :\n",
    "            res = m\n",
    "            l = m + 1\n",
    "        elif(a[m] < x) :\n",
    "            l = m + 1\n",
    "        else :\n",
    "            r = m - 1\n",
    "    return res\n",
    "\n",
    "a.sort()\n",
    "ans = 0\n",
    "for i in range(n):\n",
    "    pos1, pos2 = binarySearch(i + 1, n - 1, k - a[i]), binarySearch1(i + 1, n - 1, k - a[i])\n",
    "    if pos1 != -1 :\n",
    "        ans += pos2 - pos1 + 1\n",
    "print(ans)"
   ]
  }
 ],
 "metadata": {
  "kernelspec": {
   "display_name": "Python 3 (ipykernel)",
   "language": "python",
   "name": "python3"
  },
  "language_info": {
   "codemirror_mode": {
    "name": "ipython",
    "version": 3
   },
   "file_extension": ".py",
   "mimetype": "text/x-python",
   "name": "python",
   "nbconvert_exporter": "python",
   "pygments_lexer": "ipython3",
   "version": "3.10.9"
  }
 },
 "nbformat": 4,
 "nbformat_minor": 5
}
