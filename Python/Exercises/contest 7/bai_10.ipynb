{
 "cells": [
  {
   "cell_type": "code",
   "execution_count": 2,
   "id": "49d1ed4b",
   "metadata": {},
   "outputs": [
    {
     "ename": "SyntaxError",
     "evalue": "invalid syntax. Perhaps you forgot a comma? (3394304078.py, line 61)",
     "output_type": "error",
     "traceback": [
      "\u001b[1;36m  Cell \u001b[1;32mIn[2], line 61\u001b[1;36m\u001b[0m\n\u001b[1;33m    print(binarySearch(x), binarySearch1(x), binarySearch2(x), binarySearch3(x), binarySearch4(x)\u001b[0m\n\u001b[1;37m                                                                                 ^\u001b[0m\n\u001b[1;31mSyntaxError\u001b[0m\u001b[1;31m:\u001b[0m invalid syntax. Perhaps you forgot a comma?\n"
     ]
    }
   ],
   "source": [
    "n, x = map(int, input().split())\n",
    "a = list(map(int, input().split()))\n",
    "\n",
    "def binarySearch(k) :\n",
    "    l, r = 0, n - 1\n",
    "    res = -1\n",
    "    while l <= r : \n",
    "        m = (l + r) // 2\n",
    "        if(a[m] == k) : \n",
    "            res = m\n",
    "            r = m - 1\n",
    "        elif(a[m] > k) :\n",
    "            r = m - 1\n",
    "        else :\n",
    "            l = m + 1\n",
    "    return res\n",
    "\n",
    "def binarySearch1(k) :\n",
    "    l, r = 0, n - 1\n",
    "    res = -1\n",
    "    while l <= r : \n",
    "        m = (l + r) // 2\n",
    "        if(a[m] == k) : \n",
    "            res = m\n",
    "            l = m + 1\n",
    "        elif(a[m] > k) :\n",
    "            r = m - 1\n",
    "        else :\n",
    "            l = m + 1\n",
    "    return res\n",
    "\n",
    "def binarySearch2(k) :\n",
    "    l, r = 0, n - 1\n",
    "    res = -1\n",
    "    while l <= r : \n",
    "        m = (l + r) // 2\n",
    "        if(a[m] >= k) : \n",
    "            res = m\n",
    "            r = m - 1\n",
    "        else :\n",
    "            l = m + 1\n",
    "    return res\n",
    "\n",
    "def binarySearch3(k) :\n",
    "    l, r = 0, n - 1\n",
    "    res = -1\n",
    "    while l <= r : \n",
    "        m = (l + r) // 2\n",
    "        if(a[m] > k) : \n",
    "            res = m\n",
    "            r = m - 1\n",
    "        else :\n",
    "            l = m + 1\n",
    "    return res\n",
    "\n",
    "\n",
    "if __name__ == '__main__' :\n",
    "    z, z1 = binarySearch(x), binarySearch1(x)\n",
    "    if(z == -1) :\n",
    "        print(z, z1, binarySearch2(x), binarySearch3(x), 0, \n",
    "             sep = '\\n')\n",
    "    else :\n",
    "        print(z, z1, binarySearch2(x), binarySearch3(x), z1 - z + 1, \n",
    "             sep = '\\n')"
   ]
  }
 ],
 "metadata": {
  "kernelspec": {
   "display_name": "Python 3 (ipykernel)",
   "language": "python",
   "name": "python3"
  },
  "language_info": {
   "codemirror_mode": {
    "name": "ipython",
    "version": 3
   },
   "file_extension": ".py",
   "mimetype": "text/x-python",
   "name": "python",
   "nbconvert_exporter": "python",
   "pygments_lexer": "ipython3",
   "version": "3.10.9"
  }
 },
 "nbformat": 4,
 "nbformat_minor": 5
}
