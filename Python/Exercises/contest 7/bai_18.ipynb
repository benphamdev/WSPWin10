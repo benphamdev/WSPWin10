{
 "cells": [
  {
   "cell_type": "code",
   "execution_count": 3,
   "id": "cc94c86c",
   "metadata": {},
   "outputs": [
    {
     "ename": "SyntaxError",
     "evalue": "incomplete input (2932732561.py, line 8)",
     "output_type": "error",
     "traceback": [
      "\u001b[1;36m  Cell \u001b[1;32mIn[3], line 8\u001b[1;36m\u001b[0m\n\u001b[1;33m    if(a[m] < x) :\u001b[0m\n\u001b[1;37m                  ^\u001b[0m\n\u001b[1;31mSyntaxError\u001b[0m\u001b[1;31m:\u001b[0m incomplete input\n"
     ]
    }
   ],
   "source": [
    "n, k = map(int, input().split())\n",
    "a = list(map(int, input().split()))\n",
    "\n",
    "def binarySearch(l, r, x) :\n",
    "    res = -1\n",
    "    while l <= r :\n",
    "        m = (l + r) // 2\n",
    "        if(a[m] < x) :\n",
    "            res = m\n",
    "            r = m - 1\n",
    "        else :\n",
    "            r = m - 1\n",
    "    return res\n",
    "def binarySearch1(l, r, x) :\n",
    "    res = -1\n",
    "    while l <= r :\n",
    "        m = (l + r) // 2\n",
    "        if(a[m] < x) :\n",
    "            res = m\n",
    "            l = m + 1\n",
    "        else :\n",
    "            r = m - 1\n",
    "    return res\n",
    "\n",
    "a.sort()\n",
    "\n",
    "ans = 0\n",
    "for i in range(n) :\n",
    "    pos, pos1 = binarySearch(i + 1, n - 1, k - a[i]), binarySearch1(i + 1, n - 1, k - a[i])\n",
    "    if pos != -1 :\n",
    "        ans += pos1 - pos + 1\n",
    "print(ans)"
   ]
  }
 ],
 "metadata": {
  "kernelspec": {
   "display_name": "Python 3 (ipykernel)",
   "language": "python",
   "name": "python3"
  },
  "language_info": {
   "codemirror_mode": {
    "name": "ipython",
    "version": 3
   },
   "file_extension": ".py",
   "mimetype": "text/x-python",
   "name": "python",
   "nbconvert_exporter": "python",
   "pygments_lexer": "ipython3",
   "version": "3.10.9"
  }
 },
 "nbformat": 4,
 "nbformat_minor": 5
}
