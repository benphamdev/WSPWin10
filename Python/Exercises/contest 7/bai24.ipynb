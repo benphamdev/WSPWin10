{
 "cells": [
  {
   "cell_type": "code",
   "execution_count": 1,
   "id": "1c2b0bca",
   "metadata": {},
   "outputs": [
    {
     "name": "stdout",
     "output_type": "stream",
     "text": [
      "5 2\n",
      "28 9 5 1 69\n",
      "100\n"
     ]
    }
   ],
   "source": [
    "n, k = map(int, input().split())\n",
    "a = list(map(int, input().split()))\n",
    "a[1:] = sorted(a[1:], reverse = True)\n",
    "sum = a[0]\n",
    "for i in range(1, n) :\n",
    "    if(i <= k) :\n",
    "        sum += a[i]\n",
    "    else : \n",
    "        sum -= a[i]\n",
    "print(sum)"
   ]
  }
 ],
 "metadata": {
  "kernelspec": {
   "display_name": "Python 3 (ipykernel)",
   "language": "python",
   "name": "python3"
  },
  "language_info": {
   "codemirror_mode": {
    "name": "ipython",
    "version": 3
   },
   "file_extension": ".py",
   "mimetype": "text/x-python",
   "name": "python",
   "nbconvert_exporter": "python",
   "pygments_lexer": "ipython3",
   "version": "3.10.9"
  }
 },
 "nbformat": 4,
 "nbformat_minor": 5
}
