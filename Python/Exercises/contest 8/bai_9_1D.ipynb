{
 "cells": [
  {
   "cell_type": "code",
   "execution_count": null,
   "id": "b5546519",
   "metadata": {},
   "outputs": [],
   "source": [
    "n = int(input())\n",
    "a = list(map(int, input().split()))\n",
    "d = {}\n",
    "for x in a : \n",
    "    if x in d :  d[x] += 1\n",
    "    else :  d[x] = 1\n",
    "a.sort()\n",
    "e = d.copy()\n",
    "for x in a : \n",
    "    if(e[x] != 0) : \n",
    "        print(x, e[x])\n",
    "        e[x] = 0\n",
    "print()\n",
    "for val, fre in d.items() : \n",
    "    print(val, fre)\n",
    "\n"
   ]
  }
 ],
 "metadata": {
  "kernelspec": {
   "display_name": "Python 3 (ipykernel)",
   "language": "python",
   "name": "python3"
  },
  "language_info": {
   "codemirror_mode": {
    "name": "ipython",
    "version": 3
   },
   "file_extension": ".py",
   "mimetype": "text/x-python",
   "name": "python",
   "nbconvert_exporter": "python",
   "pygments_lexer": "ipython3",
   "version": "3.10.9"
  }
 },
 "nbformat": 4,
 "nbformat_minor": 5
}
