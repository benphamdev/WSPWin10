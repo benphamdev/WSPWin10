{
 "cells": [
  {
   "cell_type": "code",
   "execution_count": null,
   "id": "be461cdc",
   "metadata": {},
   "outputs": [],
   "source": [
    "import sys\n",
    "def numberNotDecrease (n): \n",
    "    while n >= 10 : \n",
    "        if (n % 10) < (n // 10 % 10) : return False\n",
    "        n //= 10\n",
    "    return True\n",
    "if __name__ == '__main__' : \n",
    "    d = {}\n",
    "    for line in sys.stdin : \n",
    "        a = list(map(int, line.split()))\n",
    "        for x in a :\n",
    "            if numberNotDecrease(x) : \n",
    "                if x in d : d[x] += 1\n",
    "                else : d[x] = 1\n",
    "    res = list(d.items())\n",
    "    res.sort(key = lambda x : (-x[1], x[0]))\n",
    "    for key, val in res : \n",
    "        print(key, val)\n"
   ]
  }
 ],
 "metadata": {
  "kernelspec": {
   "display_name": "Python 3 (ipykernel)",
   "language": "python",
   "name": "python3"
  },
  "language_info": {
   "codemirror_mode": {
    "name": "ipython",
    "version": 3
   },
   "file_extension": ".py",
   "mimetype": "text/x-python",
   "name": "python",
   "nbconvert_exporter": "python",
   "pygments_lexer": "ipython3",
   "version": "3.10.9"
  }
 },
 "nbformat": 4,
 "nbformat_minor": 5
}
