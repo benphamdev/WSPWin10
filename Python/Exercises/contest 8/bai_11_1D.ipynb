{
 "cells": [
  {
   "cell_type": "code",
   "execution_count": null,
   "id": "92686e7e",
   "metadata": {},
   "outputs": [],
   "source": [
    "n, m = map(int, input().split())\n",
    "a = list(map(int, input().split()))\n",
    "b = list(map(int, input().split()))\n",
    "d = dict({})\n",
    "for x in a : \n",
    "    d[x] = 1\n",
    "for x in b : \n",
    "    if x in d: \n",
    "        d[x] = 2\n",
    "    else : \n",
    "        d[x] = 1\n",
    "k = []\n",
    "for x in d : \n",
    "    k.append(x)    \n",
    "k.sort()\n",
    "for x in k : \n",
    "    print(x, end = ' ')\n",
    "print()\n",
    "z = []\n",
    "for x in d : \n",
    "    if (d[x] == 2) :\n",
    "        z.append(x)\n",
    "for x in z : \n",
    "    print(x, end = ' ')"
   ]
  }
 ],
 "metadata": {
  "kernelspec": {
   "display_name": "Python 3 (ipykernel)",
   "language": "python",
   "name": "python3"
  },
  "language_info": {
   "codemirror_mode": {
    "name": "ipython",
    "version": 3
   },
   "file_extension": ".py",
   "mimetype": "text/x-python",
   "name": "python",
   "nbconvert_exporter": "python",
   "pygments_lexer": "ipython3",
   "version": "3.10.9"
  }
 },
 "nbformat": 4,
 "nbformat_minor": 5
}
