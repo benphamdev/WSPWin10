{
 "cells": [
  {
   "cell_type": "code",
   "execution_count": 2,
   "id": "0e3cea84",
   "metadata": {},
   "outputs": [
    {
     "ename": "IndentationError",
     "evalue": "expected an indented block after 'for' statement on line 4 (3084601039.py, line 5)",
     "output_type": "error",
     "traceback": [
      "\u001b[1;36m  Cell \u001b[1;32mIn[2], line 5\u001b[1;36m\u001b[0m\n\u001b[1;33m    a = list(map(int, input().split()))\u001b[0m\n\u001b[1;37m                                       ^\u001b[0m\n\u001b[1;31mIndentationError\u001b[0m\u001b[1;31m:\u001b[0m expected an indented block after 'for' statement on line 4\n"
     ]
    }
   ],
   "source": [
    "from math import *\n",
    "def isPrime(n) : \n",
    "    if n < 2 : return False\n",
    "    for i in range(2, isqrt(n) + 1) :\n",
    "        if n % i == 0 : return False\n",
    "    return True\n",
    "if __name__ == '__main__' :\n",
    "    a = list(map(int, input().split()))\n",
    "    d = dict({})\n",
    "    for i in a : \n",
    "        if isPrime(i) :\n",
    "            if i in d : d[i] += 1\n",
    "            else : d[i] = 1\n",
    "    for i in d : \n",
    "        print(i, d[i])"
   ]
  }
 ],
 "metadata": {
  "kernelspec": {
   "display_name": "Python 3 (ipykernel)",
   "language": "python",
   "name": "python3"
  },
  "language_info": {
   "codemirror_mode": {
    "name": "ipython",
    "version": 3
   },
   "file_extension": ".py",
   "mimetype": "text/x-python",
   "name": "python",
   "nbconvert_exporter": "python",
   "pygments_lexer": "ipython3",
   "version": "3.10.9"
  }
 },
 "nbformat": 4,
 "nbformat_minor": 5
}
