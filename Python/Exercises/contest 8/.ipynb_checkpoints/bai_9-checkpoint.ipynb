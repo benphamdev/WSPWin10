{
 "cells": [
  {
   "cell_type": "code",
   "execution_count": 6,
   "id": "599e348d",
   "metadata": {},
   "outputs": [
    {
     "name": "stdout",
     "output_type": "stream",
     "text": [
      "4 4\n",
      "1 2 3 4\n",
      "1 2 3 4\n",
      "1 2 3 4 "
     ]
    }
   ],
   "source": [
    "n, m = map(int, input().split())\n",
    "a = set(map(int, input().split()))\n",
    "b = set(map(int, input().split()))\n",
    "t = a | b\n",
    "c = list(t)\n",
    "for i in range(len(c) - 1, -1, -1) :\n",
    "    print(c[i], end = ' ')"
   ]
  }
 ],
 "metadata": {
  "kernelspec": {
   "display_name": "Python 3 (ipykernel)",
   "language": "python",
   "name": "python3"
  },
  "language_info": {
   "codemirror_mode": {
    "name": "ipython",
    "version": 3
   },
   "file_extension": ".py",
   "mimetype": "text/x-python",
   "name": "python",
   "nbconvert_exporter": "python",
   "pygments_lexer": "ipython3",
   "version": "3.10.9"
  }
 },
 "nbformat": 4,
 "nbformat_minor": 5
}
