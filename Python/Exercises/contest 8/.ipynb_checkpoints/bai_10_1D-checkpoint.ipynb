{
 "cells": [
  {
   "cell_type": "code",
   "execution_count": null,
   "id": "c3557e25",
   "metadata": {},
   "outputs": [],
   "source": [
    "n, m = map(int, input().split())\n",
    "a = set(map(int, input().split()))\n",
    "b = set(map(int, input().split()))\n",
    "d = dict({})\n",
    "se = set({})\n",
    "for x in a : \n",
    "    d[x] = 1\n",
    "    se.add(x)\n",
    "for x in b : \n",
    "    se.add(x)\n",
    "    if x in d : \n",
    "        d[x] = 2\n",
    "    else : \n",
    "        d[x] = 1\n",
    "tmp = []\n",
    "for x in d : \n",
    "    if(d[x] == 2) : \n",
    "        tmp.append(x)\n",
    "tmp.sort()\n",
    "for x in tmp : \n",
    "    print(x, end = ' ')\n",
    "print()\n",
    "tmp = list(se)\n",
    "tmp.sort()\n",
    "for x in tmp : \n",
    "    print(x, end = ' ')"
   ]
  }
 ],
 "metadata": {
  "kernelspec": {
   "display_name": "Python 3 (ipykernel)",
   "language": "python",
   "name": "python3"
  },
  "language_info": {
   "codemirror_mode": {
    "name": "ipython",
    "version": 3
   },
   "file_extension": ".py",
   "mimetype": "text/x-python",
   "name": "python",
   "nbconvert_exporter": "python",
   "pygments_lexer": "ipython3",
   "version": "3.10.9"
  }
 },
 "nbformat": 4,
 "nbformat_minor": 5
}
