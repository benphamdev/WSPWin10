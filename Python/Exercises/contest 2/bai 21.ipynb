{
 "cells": [
  {
   "cell_type": "code",
   "execution_count": 18,
   "id": "480c4995",
   "metadata": {},
   "outputs": [
    {
     "name": "stdout",
     "output_type": "stream",
     "text": [
      "5\n",
      "*****\n",
      "*****\n",
      "*****\n",
      "*****\n",
      "*****\n",
      "\n",
      "*****\n",
      "*   *\n",
      "*   *\n",
      "*   *\n",
      "*****\n",
      "\n",
      "*****\n",
      "*###*\n",
      "*###*\n",
      "*###*\n",
      "*****\n",
      "\n",
      "1 1 1 1 1 \n",
      "2       2 \n",
      "3       3 \n",
      "4       4 \n",
      "5 5 5 5 5 \n"
     ]
    }
   ],
   "source": [
    "n = int(input())\n",
    "\n",
    "for _ in range(n) :\n",
    "    for _ in range(n) :\n",
    "        print('*', end = '')\n",
    "    print('')\n",
    "\n",
    "print('')\n",
    "\n",
    "for i in range (n) :\n",
    "    for j in range (n) :\n",
    "        if i != 0 and i != n - 1 :\n",
    "            if j == 0 or j == n - 1 : \n",
    "                print ('*', end = '')\n",
    "            else :\n",
    "                print('',end = ' ')\n",
    "        else :\n",
    "            print('*', end = '')\n",
    "    print('')\n",
    "\n",
    "print('')\n",
    "\n",
    "for i in range (n) :\n",
    "    for j in range(n) :\n",
    "        if i == 0 or i == n - 1 :\n",
    "            print('*', end = '')\n",
    "        else :\n",
    "            if j == 0 or j == n - 1 :\n",
    "                print('*', end = '')\n",
    "            else :\n",
    "                print('#', end = '')\n",
    "    print('')\n",
    "    \n",
    "print('')\n",
    "\n",
    "for i in range (1, n + 1) :\n",
    "    for j in range (1, n + 1) :\n",
    "        if i == 1 or i == n :\n",
    "            print(i, end = ' ')\n",
    "        else :\n",
    "            if j == 1 or j == n :\n",
    "                print(i, end = ' ')\n",
    "            else :\n",
    "                print(' ', end = ' ')\n",
    "    print('')\n"
   ]
  }
 ],
 "metadata": {
  "kernelspec": {
   "display_name": "Python 3 (ipykernel)",
   "language": "python",
   "name": "python3"
  },
  "language_info": {
   "codemirror_mode": {
    "name": "ipython",
    "version": 3
   },
   "file_extension": ".py",
   "mimetype": "text/x-python",
   "name": "python",
   "nbconvert_exporter": "python",
   "pygments_lexer": "ipython3",
   "version": "3.10.9"
  }
 },
 "nbformat": 4,
 "nbformat_minor": 5
}
