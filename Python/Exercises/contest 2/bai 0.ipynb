{
 "cells": [
  {
   "cell_type": "code",
   "execution_count": 13,
   "id": "7aa64360",
   "metadata": {},
   "outputs": [
    {
     "name": "stdout",
     "output_type": "stream",
     "text": [
      "5\n",
      "1 2 3 4 5 \n",
      "5 4 3 2 1 0 \n",
      "0 2 4 \n",
      "1 3 5 \n",
      "0 4 \n",
      "a b c d e \n",
      "v w x y z "
     ]
    }
   ],
   "source": [
    "n = int(input())\n",
    "for i in range(1, n + 1) : \n",
    "    print(i, end = ' ')\n",
    "else : print('')\n",
    "for i in range(n, -1, -1) : print(i, end = ' ')\n",
    "else : print('')\n",
    "for i in range(n + 1) : \n",
    "    if (i % 2 == 0) : print(i, end = ' ')\n",
    "else : print('')\n",
    "for i in range(n + 1) : \n",
    "    if(i % 2 == 1) : print(i, end = ' ')\n",
    "else : print('')\n",
    "for i in range(n) : \n",
    "    if(i % 4 == 0) : print(i, end = ' ')\n",
    "else : print('')\n",
    "for i in range(n) : \n",
    "    tmp = i + ord('a')\n",
    "    print(chr(tmp), end = ' ')\n",
    "else : print('')\n",
    "for i in range(n - 1, -1, -1) :\n",
    "    tmp = ord('z') - i\n",
    "    print(chr(tmp), end = ' ')"
   ]
  },
  {
   "cell_type": "code",
   "execution_count": null,
   "id": "288ef1b6",
   "metadata": {},
   "outputs": [],
   "source": []
  }
 ],
 "metadata": {
  "kernelspec": {
   "display_name": "Python 3 (ipykernel)",
   "language": "python",
   "name": "python3"
  },
  "language_info": {
   "codemirror_mode": {
    "name": "ipython",
    "version": 3
   },
   "file_extension": ".py",
   "mimetype": "text/x-python",
   "name": "python",
   "nbconvert_exporter": "python",
   "pygments_lexer": "ipython3",
   "version": "3.10.9"
  }
 },
 "nbformat": 4,
 "nbformat_minor": 5
}
