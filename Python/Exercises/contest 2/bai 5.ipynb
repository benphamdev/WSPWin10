{
 "cells": [
  {
   "cell_type": "code",
   "execution_count": 1,
   "id": "5e892acd",
   "metadata": {},
   "outputs": [
    {
     "name": "stdout",
     "output_type": "stream",
     "text": [
      "993856\n",
      "7.19328\n"
     ]
    }
   ],
   "source": [
    "n = int(input())\n",
    "res = 0\n",
    "for i in range(2, 2 * n + 1, 2) :\n",
    "    res += 1 / i\n",
    "print('{:.5f}'. format(res))\n"
   ]
  }
 ],
 "metadata": {
  "kernelspec": {
   "display_name": "Python 3 (ipykernel)",
   "language": "python",
   "name": "python3"
  },
  "language_info": {
   "codemirror_mode": {
    "name": "ipython",
    "version": 3
   },
   "file_extension": ".py",
   "mimetype": "text/x-python",
   "name": "python",
   "nbconvert_exporter": "python",
   "pygments_lexer": "ipython3",
   "version": "3.10.9"
  }
 },
 "nbformat": 4,
 "nbformat_minor": 5
}
