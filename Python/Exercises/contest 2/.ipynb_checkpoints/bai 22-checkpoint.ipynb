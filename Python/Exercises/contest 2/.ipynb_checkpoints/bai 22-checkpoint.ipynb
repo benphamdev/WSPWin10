{
 "cells": [
  {
   "cell_type": "code",
   "execution_count": 53,
   "id": "78cdb012",
   "metadata": {},
   "outputs": [
    {
     "name": "stdout",
     "output_type": "stream",
     "text": [
      "5\n",
      "*    \n",
      "**   \n",
      "***  \n",
      "**** \n",
      "*****\n",
      "\n",
      "*****\n",
      "****\n",
      "***\n",
      "**\n",
      "*\n",
      "\n",
      "    *\n",
      "   **\n",
      "  ***\n",
      " ****\n",
      "*****\n",
      "\n",
      "*****\n",
      " ****\n",
      "  ***\n",
      "   **\n",
      "    *\n",
      "\n",
      "*    \n",
      "**   \n",
      "* *  \n",
      "*  * \n",
      "*****\n"
     ]
    }
   ],
   "source": [
    "n = int(input())\n",
    "\n",
    "for i in range(n) :\n",
    "    for j in range(n) :\n",
    "        if j <= i :\n",
    "            print('*', end = '')\n",
    "        else :\n",
    "            print(' ', end = '')\n",
    "    print('')  \n",
    "print('')\n",
    "\n",
    "for i in range(1, n + 1) :\n",
    "    for j in range(1, n + 1) :\n",
    "        if j <= n - i + 1 :\n",
    "            print('*', end = '')\n",
    "        else :\n",
    "            print('', end = '')\n",
    "    print('')\n",
    "print('')\n",
    "\n",
    "for i in range(1, n + 1) :\n",
    "    for j in range(1, n + 1) :\n",
    "        if j >= n - i + 1 :\n",
    "            print('*', end = '')\n",
    "        else :\n",
    "            print(' ', end = '')\n",
    "    print('')\n",
    "print('')\n",
    "\n",
    "for i in range(1, n + 1) :\n",
    "    for j in range(1, n + 1) :\n",
    "        if j >= i : \n",
    "            print('*', end = '')\n",
    "        else :\n",
    "            print(' ', end = '')\n",
    "    print('')\n",
    "print('')\n",
    "\n",
    "for i in range(1, n + 1) :\n",
    "    for j in range(1, n + 1) :\n",
    "        if i == n :\n",
    "            print('*', end = '')\n",
    "        elif j == 1 or j == i :\n",
    "            print('*', end = '')\n",
    "        else :\n",
    "            print(' ', end = '')\n",
    "    print('')\n"
   ]
  }
 ],
 "metadata": {
  "kernelspec": {
   "display_name": "Python 3 (ipykernel)",
   "language": "python",
   "name": "python3"
  },
  "language_info": {
   "codemirror_mode": {
    "name": "ipython",
    "version": 3
   },
   "file_extension": ".py",
   "mimetype": "text/x-python",
   "name": "python",
   "nbconvert_exporter": "python",
   "pygments_lexer": "ipython3",
   "version": "3.10.9"
  }
 },
 "nbformat": 4,
 "nbformat_minor": 5
}
