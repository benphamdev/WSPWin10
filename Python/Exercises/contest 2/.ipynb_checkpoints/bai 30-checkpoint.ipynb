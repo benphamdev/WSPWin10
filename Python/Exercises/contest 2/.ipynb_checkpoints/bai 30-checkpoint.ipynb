{
 "cells": [
  {
   "cell_type": "code",
   "execution_count": 5,
   "id": "7c2b4b4e",
   "metadata": {},
   "outputs": [
    {
     "name": "stdout",
     "output_type": "stream",
     "text": [
      "3\n",
      "1\n",
      "ODD\n",
      "2\n",
      "EVEN\n",
      "3\n",
      "ODD\n"
     ]
    }
   ],
   "source": [
    "n = int(input())\n",
    "\n",
    "while n:\n",
    "    k = int(input())\n",
    "    if k % 2 == 0 : print(\"EVEN\")\n",
    "    else : print(\"ODD\")\n",
    "    n -= 1"
   ]
  }
 ],
 "metadata": {
  "kernelspec": {
   "display_name": "Python 3 (ipykernel)",
   "language": "python",
   "name": "python3"
  },
  "language_info": {
   "codemirror_mode": {
    "name": "ipython",
    "version": 3
   },
   "file_extension": ".py",
   "mimetype": "text/x-python",
   "name": "python",
   "nbconvert_exporter": "python",
   "pygments_lexer": "ipython3",
   "version": "3.10.9"
  }
 },
 "nbformat": 4,
 "nbformat_minor": 5
}
