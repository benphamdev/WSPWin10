{
 "cells": [
  {
   "cell_type": "code",
   "execution_count": 4,
   "id": "f364f5d8",
   "metadata": {},
   "outputs": [
    {
     "name": "stdout",
     "output_type": "stream",
     "text": [
      "4\n",
      "2.6667\n"
     ]
    }
   ],
   "source": [
    "n = int(input())\n",
    "\n",
    "f = 1\n",
    "ans = 1\n",
    "\n",
    "for i in range(1, n) :\n",
    "    f *= i\n",
    "    ans += 1 / f\n",
    "\n",
    "print('%.4f' % ans)"
   ]
  }
 ],
 "metadata": {
  "kernelspec": {
   "display_name": "Python 3 (ipykernel)",
   "language": "python",
   "name": "python3"
  },
  "language_info": {
   "codemirror_mode": {
    "name": "ipython",
    "version": 3
   },
   "file_extension": ".py",
   "mimetype": "text/x-python",
   "name": "python",
   "nbconvert_exporter": "python",
   "pygments_lexer": "ipython3",
   "version": "3.10.9"
  }
 },
 "nbformat": 4,
 "nbformat_minor": 5
}
