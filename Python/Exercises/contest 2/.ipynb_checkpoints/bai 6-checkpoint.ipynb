{
 "cells": [
  {
   "cell_type": "code",
   "execution_count": 5,
   "id": "28085e8d",
   "metadata": {},
   "outputs": [
    {
     "name": "stdout",
     "output_type": "stream",
     "text": [
      "28\n",
      "56\n"
     ]
    }
   ],
   "source": [
    "from math import *\n",
    "n = int(input())\n",
    "res = 0\n",
    "for i in range(1, (int)(sqrt(n)) + 1) : \n",
    "    if n % i == 0 : \n",
    "        res += i\n",
    "        if(n // i != i) : res += n // i\n",
    "print(res)"
   ]
  }
 ],
 "metadata": {
  "kernelspec": {
   "display_name": "Python 3 (ipykernel)",
   "language": "python",
   "name": "python3"
  },
  "language_info": {
   "codemirror_mode": {
    "name": "ipython",
    "version": 3
   },
   "file_extension": ".py",
   "mimetype": "text/x-python",
   "name": "python",
   "nbconvert_exporter": "python",
   "pygments_lexer": "ipython3",
   "version": "3.10.9"
  }
 },
 "nbformat": 4,
 "nbformat_minor": 5
}
