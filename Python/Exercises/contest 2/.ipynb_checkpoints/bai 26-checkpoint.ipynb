{
 "cells": [
  {
   "cell_type": "code",
   "execution_count": 6,
   "id": "60fed7bb",
   "metadata": {},
   "outputs": [
    {
     "name": "stdout",
     "output_type": "stream",
     "text": [
      "5 8 28\n",
      "YES\n"
     ]
    }
   ],
   "source": [
    "a, b, n = map(int, input().split())\n",
    "\n",
    "ok = True\n",
    "for i in range(n + 1) :\n",
    "    for j in range(n + 1) :\n",
    "        if(i * a + b * j == n) :\n",
    "            print(\"YES\")\n",
    "            ok = False\n",
    "            break\n",
    "    if (ok == False) :\n",
    "        break\n",
    "if(ok == True) : \n",
    "    print(\"NO\")"
   ]
  }
 ],
 "metadata": {
  "kernelspec": {
   "display_name": "Python 3 (ipykernel)",
   "language": "python",
   "name": "python3"
  },
  "language_info": {
   "codemirror_mode": {
    "name": "ipython",
    "version": 3
   },
   "file_extension": ".py",
   "mimetype": "text/x-python",
   "name": "python",
   "nbconvert_exporter": "python",
   "pygments_lexer": "ipython3",
   "version": "3.10.9"
  }
 },
 "nbformat": 4,
 "nbformat_minor": 5
}
