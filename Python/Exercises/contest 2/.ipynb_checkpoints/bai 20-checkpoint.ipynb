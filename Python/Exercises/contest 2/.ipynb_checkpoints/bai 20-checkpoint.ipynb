{
 "cells": [
  {
   "cell_type": "code",
   "execution_count": 10,
   "id": "ceb703e4",
   "metadata": {},
   "outputs": [
    {
     "name": "stdout",
     "output_type": "stream",
     "text": [
      "5\n",
      "2\n",
      "2\n",
      "3 "
     ]
    }
   ],
   "source": [
    "n = int(input())\n",
    "if n % 2 == 0 : \n",
    "    print(n // 2)\n",
    "    for i in range(n // 2) : \n",
    "        print(2, end = ' ')\n",
    "elif n >= 3 :\n",
    "    print(1 + (n - 3) // 2)\n",
    "    for _ in range((n - 3) // 2) :\n",
    "        print(2, end = ' ')\n",
    "    print(3, end = ' ') \n",
    "else : \n",
    "    print(-1)"
   ]
  }
 ],
 "metadata": {
  "kernelspec": {
   "display_name": "Python 3 (ipykernel)",
   "language": "python",
   "name": "python3"
  },
  "language_info": {
   "codemirror_mode": {
    "name": "ipython",
    "version": 3
   },
   "file_extension": ".py",
   "mimetype": "text/x-python",
   "name": "python",
   "nbconvert_exporter": "python",
   "pygments_lexer": "ipython3",
   "version": "3.10.9"
  }
 },
 "nbformat": 4,
 "nbformat_minor": 5
}
