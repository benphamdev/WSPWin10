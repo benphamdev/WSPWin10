{
 "cells": [
  {
   "cell_type": "code",
   "execution_count": 27,
   "id": "03530fd4",
   "metadata": {},
   "outputs": [
    {
     "name": "stdout",
     "output_type": "stream",
     "text": [
      "5\n",
      "1 2 3 4 5 \n",
      "6 7 8 9 10 \n",
      "11 12 13 14 15 \n",
      "16 17 18 19 20 \n",
      "21 22 23 24 25 \n",
      "\n",
      "1 2 3 4 5 \n",
      "2 3 4 5 6 \n",
      "3 4 5 6 7 \n",
      "4 5 6 7 8 \n",
      "5 6 7 8 9 \n",
      "\n",
      "~~~~1\n",
      "~~~22\n",
      "~~333\n",
      "~4444\n",
      "55555\n",
      "\n",
      "1     \n",
      "2 6    \n",
      "3 7 10   \n",
      "4 8 11 13  \n",
      "5 9 12 14 15 \n"
     ]
    }
   ],
   "source": [
    "n = int(input())\n",
    "cnt = 1\n",
    "\n",
    "for i in range(n) :\n",
    "    for j in range(n) :\n",
    "        print(cnt, end = ' ')\n",
    "        cnt += 1\n",
    "    print('')\n",
    "print('')\n",
    "\n",
    "cnt = 1\n",
    "tmp = 1\n",
    "for _ in range(n) :\n",
    "    cnt = tmp\n",
    "    for _ in range(n) :\n",
    "        print(cnt, end = ' ')\n",
    "        cnt += 1\n",
    "    print('')\n",
    "    tmp += 1\n",
    "print('')\n",
    "\n",
    "tmp = 1\n",
    "for i in range(1, n + 1) :\n",
    "    for j in range(1, n + 1) :\n",
    "        if j < n - i +1: \n",
    "            print('~', end = '')\n",
    "        else :\n",
    "            print(tmp, end = '')\n",
    "    print('')\n",
    "    tmp += 1\n",
    "print('')\n",
    "\n",
    "tmp , cnt = 1, 1\n",
    "res = n - 1\n",
    "for i in range(1, n + 1) :\n",
    "    for j in range(1, n + 1) :\n",
    "        if j <= i : \n",
    "            print(tmp, end = ' ')\n",
    "            tmp += res\n",
    "            res -= 1\n",
    "        else :\n",
    "            print(' ', end = '')\n",
    "    print('')\n",
    "    cnt += 1\n",
    "    tmp = cnt\n",
    "    res = n - 1\n"
   ]
  }
 ],
 "metadata": {
  "kernelspec": {
   "display_name": "Python 3 (ipykernel)",
   "language": "python",
   "name": "python3"
  },
  "language_info": {
   "codemirror_mode": {
    "name": "ipython",
    "version": 3
   },
   "file_extension": ".py",
   "mimetype": "text/x-python",
   "name": "python",
   "nbconvert_exporter": "python",
   "pygments_lexer": "ipython3",
   "version": "3.10.9"
  }
 },
 "nbformat": 4,
 "nbformat_minor": 5
}
