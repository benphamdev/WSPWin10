{
 "cells": [
  {
   "cell_type": "code",
   "execution_count": 5,
   "id": "b7d12fa2",
   "metadata": {},
   "outputs": [
    {
     "name": "stdout",
     "output_type": "stream",
     "text": [
      "1\n",
      "0\n",
      "1\n"
     ]
    }
   ],
   "source": [
    "prime = [True] * (10 ** 6 + 1)\n",
    "\n",
    "def init() :\n",
    "    prime[0], prime[1] = False, False\n",
    "    for i in range(2, 10 ** 3 + 1) :\n",
    "        if(prime[i]) :\n",
    "            for j in range(i * i, 10 ** 6 + 1, i) :\n",
    "                prime[j] = False\n",
    "                \n",
    "init()\n",
    "F = [0] * (10 ** 6 + 1) \n",
    "mod = (10 ** 9 + 7)\n",
    "F[2] = 2\n",
    "for i in range(3, 10 ** 6 + 1) :\n",
    "    F[i] = F[i - 1] * (i if prime[i] else 1)\n",
    "    F[i] %= mod\n",
    "\n",
    "n = int(input())\n",
    "for i in range(n) :\n",
    "    k = int(input())\n",
    "    print(F[k])"
   ]
  }
 ],
 "metadata": {
  "kernelspec": {
   "display_name": "Python 3 (ipykernel)",
   "language": "python",
   "name": "python3"
  },
  "language_info": {
   "codemirror_mode": {
    "name": "ipython",
    "version": 3
   },
   "file_extension": ".py",
   "mimetype": "text/x-python",
   "name": "python",
   "nbconvert_exporter": "python",
   "pygments_lexer": "ipython3",
   "version": "3.10.9"
  }
 },
 "nbformat": 4,
 "nbformat_minor": 5
}
