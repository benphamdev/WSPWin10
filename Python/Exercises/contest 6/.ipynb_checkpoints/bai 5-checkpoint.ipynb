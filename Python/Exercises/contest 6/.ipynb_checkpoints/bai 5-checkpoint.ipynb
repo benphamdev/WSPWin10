{
 "cells": [
  {
   "cell_type": "code",
   "execution_count": 1,
   "id": "513327d2",
   "metadata": {},
   "outputs": [
    {
     "ename": "SyntaxError",
     "evalue": "incomplete input (1054525342.py, line 3)",
     "output_type": "error",
     "traceback": [
      "\u001b[1;36m  Cell \u001b[1;32mIn[1], line 3\u001b[1;36m\u001b[0m\n\u001b[1;33m    def sieve()  :\u001b[0m\n\u001b[1;37m                  ^\u001b[0m\n\u001b[1;31mSyntaxError\u001b[0m\u001b[1;31m:\u001b[0m incomplete input\n"
     ]
    }
   ],
   "source": [
    "prime = [True] * (10 ** 6 + 1)\n",
    "\n",
    "def sieve() :\n",
    "    prime[0], prime[1] = False, False\n",
    "    for i in range(2, 10 ** 3 + 1) :\n",
    "        if(prime[i]) :\n",
    "            for j in range(i * i, 10 ** 6 + 1, i) :\n",
    "                prime[j] = False\n",
    "\n",
    "sieve()\n",
    "\n",
    "F = [0] * (10 ** 6 + 1)\n",
    "for i in range(2, 10 ** 6 + 1) :\n",
    "    F[i] = F[i - 1] + (1 if prime[i] else 0)\n",
    "\n",
    "n = int(input())\n",
    "\n",
    "for i in range(n) :\n",
    "    l, r = map(int, input().split())\n",
    "    if(l == 0) : \n",
    "        print(F[r])\n",
    "    else :\n",
    "        print(F[r] - F[l - 1])"
   ]
  }
 ],
 "metadata": {
  "kernelspec": {
   "display_name": "Python 3 (ipykernel)",
   "language": "python",
   "name": "python3"
  },
  "language_info": {
   "codemirror_mode": {
    "name": "ipython",
    "version": 3
   },
   "file_extension": ".py",
   "mimetype": "text/x-python",
   "name": "python",
   "nbconvert_exporter": "python",
   "pygments_lexer": "ipython3",
   "version": "3.10.9"
  }
 },
 "nbformat": 4,
 "nbformat_minor": 5
}
