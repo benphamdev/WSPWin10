{
 "cells": [
  {
   "cell_type": "code",
   "execution_count": 2,
   "id": "cb789a84",
   "metadata": {},
   "outputs": [
    {
     "name": "stdout",
     "output_type": "stream",
     "text": [
      "4\n",
      "5\n",
      "120\n",
      "11\n",
      "39916800\n",
      "10\n",
      "3628800\n",
      "13\n",
      "227020758\n"
     ]
    }
   ],
   "source": [
    "fac = [0] * (10 ** 6  + 1)\n",
    "mod = (10 ** 9 + 7)\n",
    "def init() :\n",
    "    fac[0] = 1\n",
    "    for i in range(1, 10 ** 6 + 1) :\n",
    "        fac[i] = fac[i - 1] * i\n",
    "        fac[i] %= mod\n",
    "init()\n",
    "n = int(input())\n",
    "for i in range(n) :\n",
    "    k = int(input())\n",
    "    print(fac[k])"
   ]
  }
 ],
 "metadata": {
  "kernelspec": {
   "display_name": "Python 3 (ipykernel)",
   "language": "python",
   "name": "python3"
  },
  "language_info": {
   "codemirror_mode": {
    "name": "ipython",
    "version": 3
   },
   "file_extension": ".py",
   "mimetype": "text/x-python",
   "name": "python",
   "nbconvert_exporter": "python",
   "pygments_lexer": "ipython3",
   "version": "3.10.9"
  }
 },
 "nbformat": 4,
 "nbformat_minor": 5
}
