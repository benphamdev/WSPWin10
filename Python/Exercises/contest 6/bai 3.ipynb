{
 "cells": [
  {
   "cell_type": "code",
   "execution_count": 6,
   "id": "5bb592cb",
   "metadata": {},
   "outputs": [
    {
     "name": "stdout",
     "output_type": "stream",
     "text": [
      "1\n",
      "3\n",
      "1\n"
     ]
    }
   ],
   "source": [
    "Tribo = [0] * (10 ** 6 + 1)\n",
    "mod = (10 ** 9 + 7)\n",
    "\n",
    "def init() :\n",
    "    global Tribonacci\n",
    "    Tribo[0], Tribo[1], Tribo[2] = 0, 0, 1\n",
    "    for i in range(3, 10 ** 6 + 1) :\n",
    "        Tribo[i]  = Tribo[i - 1] + Tribo[i - 2] + Tribo[i - 3]\n",
    "        Tribo[i] %= mod\n",
    "\n",
    "init()\n",
    "n = int(input())\n",
    "for i in range(n) :\n",
    "    k = int(input())\n",
    "    print(Tribo[k])"
   ]
  }
 ],
 "metadata": {
  "kernelspec": {
   "display_name": "Python 3 (ipykernel)",
   "language": "python",
   "name": "python3"
  },
  "language_info": {
   "codemirror_mode": {
    "name": "ipython",
    "version": 3
   },
   "file_extension": ".py",
   "mimetype": "text/x-python",
   "name": "python",
   "nbconvert_exporter": "python",
   "pygments_lexer": "ipython3",
   "version": "3.10.9"
  }
 },
 "nbformat": 4,
 "nbformat_minor": 5
}
