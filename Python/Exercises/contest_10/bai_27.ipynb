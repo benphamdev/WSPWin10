{
 "cells": [
  {
   "cell_type": "code",
   "execution_count": null,
   "id": "5640b876",
   "metadata": {},
   "outputs": [],
   "source": [
    "if __name__ == '__main__' :\n",
    "    s = input()\n",
    "    ans, cnt = s[0], 1\n",
    "    t, tmp = s[0], 1\n",
    "    for i in range(1, len(s)) :\n",
    "        if (s[i] != s[i - 1]) :\n",
    "            t += s[i]\n",
    "            tmp += 1\n",
    "            if (tmp > cnt) :\n",
    "                cnt = tmp\n",
    "                ans = t\n",
    "            elif(tmp == cnt) :\n",
    "                if (ans < t) :\n",
    "                    ans = t\n",
    "        else :\n",
    "            t = s[i]\n",
    "            tmp = 1\n",
    "    print(ans)"
   ]
  }
 ],
 "metadata": {
  "kernelspec": {
   "display_name": "Python 3 (ipykernel)",
   "language": "python",
   "name": "python3"
  },
  "language_info": {
   "codemirror_mode": {
    "name": "ipython",
    "version": 3
   },
   "file_extension": ".py",
   "mimetype": "text/x-python",
   "name": "python",
   "nbconvert_exporter": "python",
   "pygments_lexer": "ipython3",
   "version": "3.10.9"
  }
 },
 "nbformat": 4,
 "nbformat_minor": 5
}
