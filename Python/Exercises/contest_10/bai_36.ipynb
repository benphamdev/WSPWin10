{
 "cells": [
  {
   "cell_type": "code",
   "execution_count": null,
   "id": "b27b38a2",
   "metadata": {},
   "outputs": [],
   "source": [
    "s = input()\n",
    "\n",
    "def check() :\n",
    "    n = len(s)\n",
    "    if n == 1 :\n",
    "        return  ((ord(s) - ord('0')) % 4 == 0)\n",
    "    tmp = (ord(s[n - 1]) - ord('0')) + (ord(s[n - 2]) - ord('0')) * 10\n",
    "    return tmp % 4 == 0\n",
    "\n",
    "if __name__ == '__main__' :\n",
    "    print(\"YES\" if check() else \"NO\")"
   ]
  }
 ],
 "metadata": {
  "kernelspec": {
   "display_name": "Python 3 (ipykernel)",
   "language": "python",
   "name": "python3"
  },
  "language_info": {
   "codemirror_mode": {
    "name": "ipython",
    "version": 3
   },
   "file_extension": ".py",
   "mimetype": "text/x-python",
   "name": "python",
   "nbconvert_exporter": "python",
   "pygments_lexer": "ipython3",
   "version": "3.10.9"
  }
 },
 "nbformat": 4,
 "nbformat_minor": 5
}
