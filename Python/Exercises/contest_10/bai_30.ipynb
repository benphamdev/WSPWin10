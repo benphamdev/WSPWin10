{
 "cells": [
  {
   "cell_type": "code",
   "execution_count": 2,
   "id": "03ba7c00",
   "metadata": {},
   "outputs": [
    {
     "name": "stdout",
     "output_type": "stream",
     "text": [
      "12121dfsdf12\n",
      "['12121', '12']\n",
      "1212121\n"
     ]
    }
   ],
   "source": [
    "from functools import cmp_to_key\n",
    "def cmp(a, b) :\n",
    "    ab = a + b\n",
    "    ba = b + a\n",
    "    if ab < ba :\n",
    "        return 1\n",
    "    return -1\n",
    "if __name__ == '__main__' :\n",
    "    s = input()\n",
    "    s += '#'\n",
    "    a = []\n",
    "    sum = 0\n",
    "    for i in range(len(s)) :\n",
    "        if (s[i].isdigit()) :\n",
    "            sum = sum * 10 + (ord(s[i]) - ord('0'))\n",
    "        else :\n",
    "            if(s[i - 1] == '0' or sum != 0) :\n",
    "                a.append(str(sum))\n",
    "            sum = 0\n",
    "    a.sort(key = cmp_to_key(cmp))\n",
    "    t = ''.join(a)\n",
    "    print(t)"
   ]
  }
 ],
 "metadata": {
  "kernelspec": {
   "display_name": "Python 3 (ipykernel)",
   "language": "python",
   "name": "python3"
  },
  "language_info": {
   "codemirror_mode": {
    "name": "ipython",
    "version": 3
   },
   "file_extension": ".py",
   "mimetype": "text/x-python",
   "name": "python",
   "nbconvert_exporter": "python",
   "pygments_lexer": "ipython3",
   "version": "3.10.9"
  }
 },
 "nbformat": 4,
 "nbformat_minor": 5
}
