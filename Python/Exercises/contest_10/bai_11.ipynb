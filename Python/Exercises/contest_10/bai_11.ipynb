{
 "cells": [
  {
   "cell_type": "code",
   "execution_count": null,
   "id": "576a5a02",
   "metadata": {},
   "outputs": [],
   "source": [
    "from functools import cmp_to_key\n",
    "s = list(map(str, input().split()))\n",
    "\n",
    "def cmp(a, b) : \n",
    "    if len(a) != len(b) : \n",
    "        return len(a) - len(b)\n",
    "    return -1 if a < b else 1\n",
    "if __name__ == '__main__' : \n",
    "    for x in sorted(s) : \n",
    "        print(x, end = ' ')\n",
    "    print()\n",
    "    for x in sorted(s, key = cmp_to_key(cmp)) : \n",
    "        print(x, end = ' ')"
   ]
  }
 ],
 "metadata": {
  "kernelspec": {
   "display_name": "Python 3 (ipykernel)",
   "language": "python",
   "name": "python3"
  },
  "language_info": {
   "codemirror_mode": {
    "name": "ipython",
    "version": 3
   },
   "file_extension": ".py",
   "mimetype": "text/x-python",
   "name": "python",
   "nbconvert_exporter": "python",
   "pygments_lexer": "ipython3",
   "version": "3.10.9"
  }
 },
 "nbformat": 4,
 "nbformat_minor": 5
}
