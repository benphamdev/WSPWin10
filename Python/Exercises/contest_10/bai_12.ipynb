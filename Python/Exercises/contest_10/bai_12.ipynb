{
 "cells": [
  {
   "cell_type": "code",
   "execution_count": null,
   "id": "96044c81",
   "metadata": {},
   "outputs": [],
   "source": [
    "from functools import cmp_to_key\n",
    "s = list(map(str, input().split()))\n",
    "def palindrome(x) : \n",
    "    t = x[::-1]\n",
    "    return t == x\n",
    "\n",
    "if __name__ == '__main__' : \n",
    "    b = [x for x in s if palindrome(x)]\n",
    "    se = set({})\n",
    "    for x in sorted(b, key = len) : \n",
    "        if x not in se : \n",
    "            print(x, end = ' ')\n",
    "            se.add(x)"
   ]
  }
 ],
 "metadata": {
  "kernelspec": {
   "display_name": "Python 3 (ipykernel)",
   "language": "python",
   "name": "python3"
  },
  "language_info": {
   "codemirror_mode": {
    "name": "ipython",
    "version": 3
   },
   "file_extension": ".py",
   "mimetype": "text/x-python",
   "name": "python",
   "nbconvert_exporter": "python",
   "pygments_lexer": "ipython3",
   "version": "3.10.9"
  }
 },
 "nbformat": 4,
 "nbformat_minor": 5
}
