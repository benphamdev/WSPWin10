{
 "cells": [
  {
   "cell_type": "code",
   "execution_count": null,
   "id": "3cc7947a",
   "metadata": {},
   "outputs": [],
   "source": [
    "s1 = input()\n",
    "s2 = input()\n",
    "cnt = [0] * 256\n",
    "cnt1 = [0] * 256\n",
    "for x in s1 : \n",
    "    cnt[ord(x)] = 1\n",
    "for x in s2 : \n",
    "    cnt1[ord(x)] = 1\n",
    "for x in range(256) : \n",
    "    if(cnt[x] == 1 and cnt1[x] == 1) : \n",
    "        print(chr(x), end = '')\n",
    "print()\n",
    "for x in range(256) : \n",
    "    if(cnt[x] == 1 or cnt1[x] == 1) : \n",
    "        print(chr(x), end = '')\n",
    "        cnt[x] = cnt1[x] = 0\n"
   ]
  }
 ],
 "metadata": {
  "kernelspec": {
   "display_name": "Python 3 (ipykernel)",
   "language": "python",
   "name": "python3"
  },
  "language_info": {
   "codemirror_mode": {
    "name": "ipython",
    "version": 3
   },
   "file_extension": ".py",
   "mimetype": "text/x-python",
   "name": "python",
   "nbconvert_exporter": "python",
   "pygments_lexer": "ipython3",
   "version": "3.10.9"
  }
 },
 "nbformat": 4,
 "nbformat_minor": 5
}
