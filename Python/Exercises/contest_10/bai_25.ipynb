{
 "cells": [
  {
   "cell_type": "code",
   "execution_count": null,
   "id": "46cd43fc",
   "metadata": {},
   "outputs": [],
   "source": [
    "def minNumber(m, s) :\n",
    "    if (m * 9 < s) : \n",
    "        return False\n",
    "    ans = \"\";\n",
    "    s -= 1\n",
    "    while(m > 1) :\n",
    "        if (s >= 10) :\n",
    "            ans = \"9\" + ans\n",
    "            s -= 9\n",
    "        else :\n",
    "            ans = str(s) + ans\n",
    "            s = 0\n",
    "        m -= 1\n",
    "    ans = str(s + 1) + ans\n",
    "    return ans\n",
    "\n",
    "def maxNumber(m, s) : \n",
    "    if (m * 9 < s) : \n",
    "        return False\n",
    "    ans = \"\"\n",
    "    while(m) :\n",
    "        if s >= 10 :\n",
    "            ans += \"9\"\n",
    "            s -= 9\n",
    "        else : \n",
    "            ans += str(s)\n",
    "            s = 0\n",
    "        m -= 1\n",
    "    return ans\n",
    "        \n",
    "if __name__ == '__main__' : \n",
    "    m, s = map(int, input().split())\n",
    "    if maxNumber(m, s) == False : \n",
    "        print(\"NOT FOUND\")\n",
    "    else : \n",
    "        print(minNumber(m, s))\n",
    "        print(maxNumber(m, s))"
   ]
  }
 ],
 "metadata": {
  "kernelspec": {
   "display_name": "Python 3 (ipykernel)",
   "language": "python",
   "name": "python3"
  },
  "language_info": {
   "codemirror_mode": {
    "name": "ipython",
    "version": 3
   },
   "file_extension": ".py",
   "mimetype": "text/x-python",
   "name": "python",
   "nbconvert_exporter": "python",
   "pygments_lexer": "ipython3",
   "version": "3.10.9"
  }
 },
 "nbformat": 4,
 "nbformat_minor": 5
}
