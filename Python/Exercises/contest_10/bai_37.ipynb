{
 "cells": [
  {
   "cell_type": "code",
   "execution_count": 1,
   "id": "f70c0ec4",
   "metadata": {},
   "outputs": [
    {
     "ename": "IndentationError",
     "evalue": "expected an indented block after 'if' statement on line 5 (3389495401.py, line 6)",
     "output_type": "error",
     "traceback": [
      "\u001b[1;36m  Cell \u001b[1;32mIn[1], line 6\u001b[1;36m\u001b[0m\n\u001b[1;33m    if __name__ == '__main__' :\u001b[0m\n\u001b[1;37m                               ^\u001b[0m\n\u001b[1;31mIndentationError\u001b[0m\u001b[1;31m:\u001b[0m expected an indented block after 'if' statement on line 5\n"
     ]
    }
   ],
   "source": [
    "s = input()\n",
    "\n",
    "def check() :\n",
    "    n = len(s)\n",
    "    if s[n - 1] != '0' and s[n - 1] != '5' :\n",
    "        return False\n",
    "    ans = 0\n",
    "    for i in range(n) :\n",
    "        ans += (ord(s[i])- ord('0'))\n",
    "    return ans % 3 == 0\n",
    "if __name__ == '__main__' :\n",
    "    print(\"YES\" if check() else \"NO\")"
   ]
  }
 ],
 "metadata": {
  "kernelspec": {
   "display_name": "Python 3 (ipykernel)",
   "language": "python",
   "name": "python3"
  },
  "language_info": {
   "codemirror_mode": {
    "name": "ipython",
    "version": 3
   },
   "file_extension": ".py",
   "mimetype": "text/x-python",
   "name": "python",
   "nbconvert_exporter": "python",
   "pygments_lexer": "ipython3",
   "version": "3.10.9"
  }
 },
 "nbformat": 4,
 "nbformat_minor": 5
}
