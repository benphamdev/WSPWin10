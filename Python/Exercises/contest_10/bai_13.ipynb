{
 "cells": [
  {
   "cell_type": "code",
   "execution_count": null,
   "id": "b67bbcd3",
   "metadata": {},
   "outputs": [],
   "source": [
    "a = list(map(str, input().split()))\n",
    "d = dict({})\n",
    "for x in a : \n",
    "    if x not in d : d[x] = 1\n",
    "    else : d[x] += 1\n",
    "for x in sorted(d) : \n",
    "    print(x, d[x])\n",
    "print()\n",
    "for x in a : \n",
    "    if d[x] != 0 : \n",
    "        print(x, d[x])\n",
    "        d[x] = 0"
   ]
  }
 ],
 "metadata": {
  "kernelspec": {
   "display_name": "Python 3 (ipykernel)",
   "language": "python",
   "name": "python3"
  },
  "language_info": {
   "codemirror_mode": {
    "name": "ipython",
    "version": 3
   },
   "file_extension": ".py",
   "mimetype": "text/x-python",
   "name": "python",
   "nbconvert_exporter": "python",
   "pygments_lexer": "ipython3",
   "version": "3.10.9"
  }
 },
 "nbformat": 4,
 "nbformat_minor": 5
}
