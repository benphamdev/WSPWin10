{
 "cells": [
  {
   "cell_type": "code",
   "execution_count": null,
   "id": "2058764b",
   "metadata": {},
   "outputs": [],
   "source": [
    "s = input()\n",
    "def check() : \n",
    "    cnt = [0] * 26\n",
    "    for x in s : \n",
    "        cnt[ord(x.lower()) - ord('a')] = 1\n",
    "    ans = 0\n",
    "    for x in range(26) : \n",
    "        if(cnt[x] == 1) : ans += 1\n",
    "    return ans == 26\n",
    "if __name__ == '__main__' : \n",
    "    print(('YES' if check() else \"NO\"))"
   ]
  }
 ],
 "metadata": {
  "kernelspec": {
   "display_name": "Python 3 (ipykernel)",
   "language": "python",
   "name": "python3"
  },
  "language_info": {
   "codemirror_mode": {
    "name": "ipython",
    "version": 3
   },
   "file_extension": ".py",
   "mimetype": "text/x-python",
   "name": "python",
   "nbconvert_exporter": "python",
   "pygments_lexer": "ipython3",
   "version": "3.10.9"
  }
 },
 "nbformat": 4,
 "nbformat_minor": 5
}
