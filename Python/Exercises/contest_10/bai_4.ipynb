{
 "cells": [
  {
   "cell_type": "code",
   "execution_count": null,
   "id": "d8a75fcd",
   "metadata": {},
   "outputs": [],
   "source": [
    "s = input()\n",
    "cnt = [0] * 256\n",
    "for x in s : \n",
    "    cnt[ord(x)] += 1\n",
    "min_val, min_fre, max_val, max_fre = 0, 10 ** 18, 0, -10 ** 18\n",
    "for x in range(256) : \n",
    "    if(cnt[x] != 0) : \n",
    "        if min_fre >= cnt[x] : \n",
    "            min_fre = cnt[x]\n",
    "            min_val = chr(x)\n",
    "        if max_fre <= cnt[x] : \n",
    "            max_fre = cnt[x]\n",
    "            max_val = chr(x)\n",
    "print(max_val, max_fre)\n",
    "print(min_val, min_fre)"
   ]
  }
 ],
 "metadata": {
  "kernelspec": {
   "display_name": "Python 3 (ipykernel)",
   "language": "python",
   "name": "python3"
  },
  "language_info": {
   "codemirror_mode": {
    "name": "ipython",
    "version": 3
   },
   "file_extension": ".py",
   "mimetype": "text/x-python",
   "name": "python",
   "nbconvert_exporter": "python",
   "pygments_lexer": "ipython3",
   "version": "3.10.9"
  }
 },
 "nbformat": 4,
 "nbformat_minor": 5
}
