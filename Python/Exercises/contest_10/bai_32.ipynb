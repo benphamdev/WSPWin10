{
 "cells": [
  {
   "cell_type": "code",
   "execution_count": 1,
   "id": "9880de7c",
   "metadata": {},
   "outputs": [
    {
     "ename": "SyntaxError",
     "evalue": "incomplete input (1738326598.py, line 2)",
     "output_type": "error",
     "traceback": [
      "\u001b[1;36m  Cell \u001b[1;32mIn[1], line 2\u001b[1;36m\u001b[0m\n\u001b[1;33m    def beautifulNum() :\u001b[0m\n\u001b[1;37m                        ^\u001b[0m\n\u001b[1;31mSyntaxError\u001b[0m\u001b[1;31m:\u001b[0m incomplete input\n"
     ]
    }
   ],
   "source": [
    "s = input()\n",
    "\n",
    "prime = [1] * (10 ** 6 + 1)\n",
    "def sieve() :\n",
    "    prime[0] = prime[1]  = 0\n",
    "    for i in range(2, 10 ** 3 + 1) :\n",
    "        if (prime[i]) :\n",
    "            for j in range(i * i, 10 ** 6 + 1, i) :\n",
    "                prime[j] = 0\n",
    "def num(s) :\n",
    "    return ord(s) - ord('0')\n",
    "def beautifulNum() :\n",
    "    ans = 0\n",
    "    for i in range(len(s)) :\n",
    "        if (prime[num(s[i])] == 0) : return False\n",
    "        ans += num(s[i])\n",
    "    return prime[ans]\n",
    "\n",
    "if __name__ == '__main__' :\n",
    "    sieve()\n",
    "    print(\"YES\" if beautifulNum() else \"NO\")"
   ]
  }
 ],
 "metadata": {
  "kernelspec": {
   "display_name": "Python 3 (ipykernel)",
   "language": "python",
   "name": "python3"
  },
  "language_info": {
   "codemirror_mode": {
    "name": "ipython",
    "version": 3
   },
   "file_extension": ".py",
   "mimetype": "text/x-python",
   "name": "python",
   "nbconvert_exporter": "python",
   "pygments_lexer": "ipython3",
   "version": "3.10.9"
  }
 },
 "nbformat": 4,
 "nbformat_minor": 5
}
