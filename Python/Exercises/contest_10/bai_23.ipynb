{
 "cells": [
  {
   "cell_type": "code",
   "execution_count": null,
   "id": "ae8d2a5a",
   "metadata": {},
   "outputs": [],
   "source": [
    "from functools import cmp_to_key\n",
    "\n",
    "def cmp (a, b) : \n",
    "    ab = a + b\n",
    "    ba = b + a\n",
    "    if ab < ba : \n",
    "        return -1\n",
    "    else : \n",
    "        return 1\n",
    "if __name__ == '__main__' : \n",
    "    n = int(input())\n",
    "    a = list(map(str, input().split()))\n",
    "    a.sort(key = cmp_to_key(cmp), reverse = True)\n",
    "    t = ''.join(a)\n",
    "    print(t)"
   ]
  }
 ],
 "metadata": {
  "kernelspec": {
   "display_name": "Python 3 (ipykernel)",
   "language": "python",
   "name": "python3"
  },
  "language_info": {
   "codemirror_mode": {
    "name": "ipython",
    "version": 3
   },
   "file_extension": ".py",
   "mimetype": "text/x-python",
   "name": "python",
   "nbconvert_exporter": "python",
   "pygments_lexer": "ipython3",
   "version": "3.10.9"
  }
 },
 "nbformat": 4,
 "nbformat_minor": 5
}
