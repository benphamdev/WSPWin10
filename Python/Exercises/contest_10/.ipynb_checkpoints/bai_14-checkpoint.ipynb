{
 "cells": [
  {
   "cell_type": "code",
   "execution_count": null,
   "id": "4a358316",
   "metadata": {},
   "outputs": [],
   "source": [
    "a = list(map(str, input().split()))\n",
    "d = dict({})\n",
    "for x in a : \n",
    "    if x not in d : d[x] = 1\n",
    "    else : d[x] += 1\n",
    "max_val, max_fre, min_fre, min_val = -10 **18, 0, 10 ** 18, 0\n",
    "for x in sorted(d) : \n",
    "    if d[x] >= max_fre : \n",
    "        max_val = x\n",
    "        max_fre = d[x]\n",
    "    if d[x] <= min_fre : \n",
    "        min_val = x \n",
    "        min_fre = d[x]\n",
    "print(max_val, max_fre)\n",
    "print(min_val, min_fre)"
   ]
  }
 ],
 "metadata": {
  "kernelspec": {
   "display_name": "Python 3 (ipykernel)",
   "language": "python",
   "name": "python3"
  },
  "language_info": {
   "codemirror_mode": {
    "name": "ipython",
    "version": 3
   },
   "file_extension": ".py",
   "mimetype": "text/x-python",
   "name": "python",
   "nbconvert_exporter": "python",
   "pygments_lexer": "ipython3",
   "version": "3.10.9"
  }
 },
 "nbformat": 4,
 "nbformat_minor": 5
}
