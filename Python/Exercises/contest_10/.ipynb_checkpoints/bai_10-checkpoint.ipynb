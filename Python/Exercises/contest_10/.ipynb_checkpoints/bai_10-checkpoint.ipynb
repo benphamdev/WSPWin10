{
 "cells": [
  {
   "cell_type": "code",
   "execution_count": null,
   "id": "084d64bf",
   "metadata": {},
   "outputs": [],
   "source": [
    "s = list(map(str, input().split()))\n",
    "se = set(s)\n",
    "for x in sorted(se) : \n",
    "    print(x, end = ' ')\n",
    "print()\n",
    "for x in s : \n",
    "    if x in se : \n",
    "        print(x, end = ' ')\n",
    "        se.discard(x)"
   ]
  }
 ],
 "metadata": {
  "kernelspec": {
   "display_name": "Python 3 (ipykernel)",
   "language": "python",
   "name": "python3"
  },
  "language_info": {
   "codemirror_mode": {
    "name": "ipython",
    "version": 3
   },
   "file_extension": ".py",
   "mimetype": "text/x-python",
   "name": "python",
   "nbconvert_exporter": "python",
   "pygments_lexer": "ipython3",
   "version": "3.10.9"
  }
 },
 "nbformat": 4,
 "nbformat_minor": 5
}
