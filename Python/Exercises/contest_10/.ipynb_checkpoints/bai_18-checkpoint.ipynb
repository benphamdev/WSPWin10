{
 "cells": [
  {
   "cell_type": "code",
   "execution_count": null,
   "id": "ea8b2c77",
   "metadata": {},
   "outputs": [],
   "source": [
    "n = int(input())\n",
    "\n",
    "def getEmail(x) : \n",
    "    ans = str(x[len(x) - 1].lower())\n",
    "    for i in range(len(x) - 1) : \n",
    "        ans += str(x[i][0].lower())\n",
    "    ans += '@xyz.edu.vn'\n",
    "    return ans\n",
    "\n",
    "def getPassWord(s) : \n",
    "    ans = (str(int(str(s[0:2:])))) + (str(int(str(s[3:5:])))) + str(s[6::])\n",
    "    return ans\n",
    "if __name__ == '__main__' : \n",
    "    for i in range(n) : \n",
    "        a = list(map(str, input().split()))\n",
    "        print(getEmail(a[:len(a) - 1:]))\n",
    "        print(getPassWord(a[len(a) - 1]))"
   ]
  }
 ],
 "metadata": {
  "kernelspec": {
   "display_name": "Python 3 (ipykernel)",
   "language": "python",
   "name": "python3"
  },
  "language_info": {
   "codemirror_mode": {
    "name": "ipython",
    "version": 3
   },
   "file_extension": ".py",
   "mimetype": "text/x-python",
   "name": "python",
   "nbconvert_exporter": "python",
   "pygments_lexer": "ipython3",
   "version": "3.10.9"
  }
 },
 "nbformat": 4,
 "nbformat_minor": 5
}
