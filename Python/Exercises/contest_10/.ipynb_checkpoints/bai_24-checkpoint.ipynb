{
 "cells": [
  {
   "cell_type": "code",
   "execution_count": null,
   "id": "86861c0c",
   "metadata": {},
   "outputs": [],
   "source": [
    "s = input()\n",
    "def check() : \n",
    "    cnt = 0\n",
    "    d = dict({})\n",
    "    for r in range(len(s)) : \n",
    "        cnt += 1\n",
    "        if s[r] not in d : \n",
    "            d[s[r]] = 1\n",
    "        else : \n",
    "            d[s[r]] += 1\n",
    "    for x in d : \n",
    "        if d[x] != 0: \n",
    "            cnt += (d[x] - 1) * d[x] // 2\n",
    "    return cnt\n",
    "if __name__ == '__main__' : \n",
    "    print(check())"
   ]
  }
 ],
 "metadata": {
  "kernelspec": {
   "display_name": "Python 3 (ipykernel)",
   "language": "python",
   "name": "python3"
  },
  "language_info": {
   "codemirror_mode": {
    "name": "ipython",
    "version": 3
   },
   "file_extension": ".py",
   "mimetype": "text/x-python",
   "name": "python",
   "nbconvert_exporter": "python",
   "pygments_lexer": "ipython3",
   "version": "3.10.9"
  }
 },
 "nbformat": 4,
 "nbformat_minor": 5
}
