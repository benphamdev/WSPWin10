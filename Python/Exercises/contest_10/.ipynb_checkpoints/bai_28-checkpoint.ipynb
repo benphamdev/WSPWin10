{
 "cells": [
  {
   "cell_type": "code",
   "execution_count": null,
   "id": "496ebd9d",
   "metadata": {},
   "outputs": [],
   "source": [
    "if __name__ == '__main__' :\n",
    "    s = input()\n",
    "    s += '#'\n",
    "    ans, tmp = 0, 0\n",
    "    for i in range(len(s)) :\n",
    "        if(s[i].isdigit()) :\n",
    "            tmp = tmp * 10 + (ord(s[i]) - ord('0'))\n",
    "        else :\n",
    "            ans = max(tmp, ans)\n",
    "            tmp = 0\n",
    "    print(ans)"
   ]
  }
 ],
 "metadata": {
  "kernelspec": {
   "display_name": "Python 3 (ipykernel)",
   "language": "python",
   "name": "python3"
  },
  "language_info": {
   "codemirror_mode": {
    "name": "ipython",
    "version": 3
   },
   "file_extension": ".py",
   "mimetype": "text/x-python",
   "name": "python",
   "nbconvert_exporter": "python",
   "pygments_lexer": "ipython3",
   "version": "3.10.9"
  }
 },
 "nbformat": 4,
 "nbformat_minor": 5
}
