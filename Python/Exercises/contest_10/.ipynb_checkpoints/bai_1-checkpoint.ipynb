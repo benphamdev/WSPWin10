{
 "cells": [
  {
   "cell_type": "code",
   "execution_count": null,
   "id": "1a0e6e8b",
   "metadata": {},
   "outputs": [],
   "source": [
    "s = input()\n",
    "cnt, cnt1, cnt2 = 0, 0, 0\n",
    "for x in s : \n",
    "    if x.isalpha() : cnt += 1\n",
    "    elif x.isdigit() : cnt1 += 1\n",
    "    else : cnt2 += 1\n",
    "print(cnt, cnt1, cnt2)"
   ]
  }
 ],
 "metadata": {
  "kernelspec": {
   "display_name": "Python 3 (ipykernel)",
   "language": "python",
   "name": "python3"
  },
  "language_info": {
   "codemirror_mode": {
    "name": "ipython",
    "version": 3
   },
   "file_extension": ".py",
   "mimetype": "text/x-python",
   "name": "python",
   "nbconvert_exporter": "python",
   "pygments_lexer": "ipython3",
   "version": "3.10.9"
  }
 },
 "nbformat": 4,
 "nbformat_minor": 5
}
