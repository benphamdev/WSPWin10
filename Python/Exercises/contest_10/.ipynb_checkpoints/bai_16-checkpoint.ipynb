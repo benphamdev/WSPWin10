{
 "cells": [
  {
   "cell_type": "code",
   "execution_count": 15,
   "id": "ab900c11",
   "metadata": {},
   "outputs": [
    {
     "name": "stdout",
     "output_type": "stream",
     "text": [
      "pham duy chien\n",
      "1/5/2003\n",
      "01/5/2003\n",
      "Pham Duy Chien\n",
      "01/05/2003\n"
     ]
    }
   ],
   "source": [
    "s = input()\n",
    "s = ' '.join((s.title()).split())\n",
    "t = input()\n",
    "if (t[2]) != ('/') :\n",
    "    t = '0' + t\n",
    "z = ''\n",
    "if t[5] != '/' :\n",
    "    t = t[0:3] + '0' + t[3::]\n",
    "print(s)\n",
    "print(t)"
   ]
  }
 ],
 "metadata": {
  "kernelspec": {
   "display_name": "Python 3 (ipykernel)",
   "language": "python",
   "name": "python3"
  },
  "language_info": {
   "codemirror_mode": {
    "name": "ipython",
    "version": 3
   },
   "file_extension": ".py",
   "mimetype": "text/x-python",
   "name": "python",
   "nbconvert_exporter": "python",
   "pygments_lexer": "ipython3",
   "version": "3.10.9"
  }
 },
 "nbformat": 4,
 "nbformat_minor": 5
}
