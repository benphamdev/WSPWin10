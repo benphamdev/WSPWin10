{
 "cells": [
  {
   "cell_type": "code",
   "execution_count": 1,
   "id": "8e86b2ed",
   "metadata": {},
   "outputs": [
    {
     "ename": "IndentationError",
     "evalue": "expected an indented block after 'for' statement on line 5 (1306102896.py, line 6)",
     "output_type": "error",
     "traceback": [
      "\u001b[1;36m  Cell \u001b[1;32mIn[1], line 6\u001b[1;36m\u001b[0m\n\u001b[1;33m    if __name__ == '__main__' :\u001b[0m\n\u001b[1;37m                               ^\u001b[0m\n\u001b[1;31mIndentationError\u001b[0m\u001b[1;31m:\u001b[0m expected an indented block after 'for' statement on line 5\n"
     ]
    }
   ],
   "source": [
    "s = input()\n",
    "\n",
    "def num(s) :\n",
    "    return ord(s) - ord('0')\n",
    "def check() :\n",
    "    even, odd = 0, 0\n",
    "    for i in range(len(s)) :\n",
    "        if i % 2 == 0 : \n",
    "            even += num(s[i])\n",
    "        else :\n",
    "            odd += num(s[i])\n",
    "    return (odd - even) % 11 == 0\n",
    "if __name__ == '__main__' :\n",
    "    print(\"YES\" if check() else \"NO\")"
   ]
  }
 ],
 "metadata": {
  "kernelspec": {
   "display_name": "Python 3 (ipykernel)",
   "language": "python",
   "name": "python3"
  },
  "language_info": {
   "codemirror_mode": {
    "name": "ipython",
    "version": 3
   },
   "file_extension": ".py",
   "mimetype": "text/x-python",
   "name": "python",
   "nbconvert_exporter": "python",
   "pygments_lexer": "ipython3",
   "version": "3.10.9"
  }
 },
 "nbformat": 4,
 "nbformat_minor": 5
}
