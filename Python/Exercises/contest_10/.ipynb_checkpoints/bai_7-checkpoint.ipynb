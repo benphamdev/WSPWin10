{
 "cells": [
  {
   "cell_type": "code",
   "execution_count": 6,
   "id": "8472d67b",
   "metadata": {},
   "outputs": [
    {
     "name": "stdout",
     "output_type": "stream",
     "text": [
      "sdlfj\n",
      "NO\n"
     ]
    }
   ],
   "source": [
    "s = input()\n",
    "cnt = 0\n",
    "def check() : \n",
    "    global s\n",
    "    l, r = 0, len(s) - 1\n",
    "    while(l <= r) : \n",
    "        if(s[l] != s[r]) : return False\n",
    "        l += 1\n",
    "        r -= 1\n",
    "    return True\n",
    "if __name__ == '__main__' : \n",
    "    print(('YES' if check() else \"NO\"))"
   ]
  }
 ],
 "metadata": {
  "kernelspec": {
   "display_name": "Python 3 (ipykernel)",
   "language": "python",
   "name": "python3"
  },
  "language_info": {
   "codemirror_mode": {
    "name": "ipython",
    "version": 3
   },
   "file_extension": ".py",
   "mimetype": "text/x-python",
   "name": "python",
   "nbconvert_exporter": "python",
   "pygments_lexer": "ipython3",
   "version": "3.10.9"
  }
 },
 "nbformat": 4,
 "nbformat_minor": 5
}
