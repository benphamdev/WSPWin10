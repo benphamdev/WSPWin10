{
 "cells": [
  {
   "cell_type": "code",
   "execution_count": 5,
   "id": "1e18b560",
   "metadata": {},
   "outputs": [
    {
     "name": "stdout",
     "output_type": "stream",
     "text": [
      "pham duy chien\n",
      "Pham Duy , CHIEN\n",
      "CHIEN , Pham Duy\n"
     ]
    }
   ],
   "source": [
    "s = input()\n",
    "a = list(map(str, (s.title()).split()))\n",
    "t = ' '.join(a[0:len(a) - 1:])\n",
    "print(f'{t}, {a[len(a) - 1].upper()}')\n",
    "print(f'{a[len(a) - 1].upper()}, {t}')"
   ]
  }
 ],
 "metadata": {
  "kernelspec": {
   "display_name": "Python 3 (ipykernel)",
   "language": "python",
   "name": "python3"
  },
  "language_info": {
   "codemirror_mode": {
    "name": "ipython",
    "version": 3
   },
   "file_extension": ".py",
   "mimetype": "text/x-python",
   "name": "python",
   "nbconvert_exporter": "python",
   "pygments_lexer": "ipython3",
   "version": "3.10.9"
  }
 },
 "nbformat": 4,
 "nbformat_minor": 5
}
