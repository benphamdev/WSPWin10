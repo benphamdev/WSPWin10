{
 "cells": [
  {
   "cell_type": "code",
   "execution_count": null,
   "id": "2aac248d",
   "metadata": {},
   "outputs": [],
   "source": [
    "s = set(map(str, input().lower().split()))\n",
    "t = set(map(str, input().lower().split()))\n",
    "ans = []\n",
    "for x in s : \n",
    "    if x in t :\n",
    "        ans.append(x)\n",
    "ans.sort()\n",
    "for x in ans :\n",
    "    print(x, end = ' ')"
   ]
  }
 ],
 "metadata": {
  "kernelspec": {
   "display_name": "Python 3 (ipykernel)",
   "language": "python",
   "name": "python3"
  },
  "language_info": {
   "codemirror_mode": {
    "name": "ipython",
    "version": 3
   },
   "file_extension": ".py",
   "mimetype": "text/x-python",
   "name": "python",
   "nbconvert_exporter": "python",
   "pygments_lexer": "ipython3",
   "version": "3.10.9"
  }
 },
 "nbformat": 4,
 "nbformat_minor": 5
}
