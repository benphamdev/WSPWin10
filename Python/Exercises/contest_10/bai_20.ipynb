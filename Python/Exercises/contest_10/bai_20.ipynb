{
 "cells": [
  {
   "cell_type": "code",
   "execution_count": null,
   "id": "67736b54",
   "metadata": {},
   "outputs": [],
   "source": [
    "s = input()\n",
    "def check() : \n",
    "    d = 0\n",
    "    tmp = 'python'\n",
    "    for x in s :\n",
    "        if tmp[d] == x : \n",
    "            if d == 5 : return True\n",
    "            d += 1\n",
    "    return False\n",
    "if __name__ == '__main__' : \n",
    "    print('YES' if check() else 'NO')"
   ]
  }
 ],
 "metadata": {
  "kernelspec": {
   "display_name": "Python 3 (ipykernel)",
   "language": "python",
   "name": "python3"
  },
  "language_info": {
   "codemirror_mode": {
    "name": "ipython",
    "version": 3
   },
   "file_extension": ".py",
   "mimetype": "text/x-python",
   "name": "python",
   "nbconvert_exporter": "python",
   "pygments_lexer": "ipython3",
   "version": "3.10.9"
  }
 },
 "nbformat": 4,
 "nbformat_minor": 5
}
