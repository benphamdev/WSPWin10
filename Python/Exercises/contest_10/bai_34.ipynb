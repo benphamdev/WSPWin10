{
 "cells": [
  {
   "cell_type": "code",
   "execution_count": null,
   "id": "55a9124f",
   "metadata": {},
   "outputs": [],
   "source": [
    "s = input()\n",
    "\n",
    "def num(s) :\n",
    "    return ord(s) - ord('0')\n",
    "def beautifulNum() :\n",
    "    for i in range(1, len(s)) :\n",
    "        if (num(s[i]) < num(s[i - 1])) : return False\n",
    "    return True\n",
    "\n",
    "def beautifulNum1() :\n",
    "    for i in range(1, len(s)) :\n",
    "        if (num(s[i]) > num(s[i - 1])) : return False\n",
    "    return True\n",
    "if __name__ == '__main__' :\n",
    "    print(\"YES\" if beautifulNum() or beautifulNum1() else \"NO\")"
   ]
  }
 ],
 "metadata": {
  "kernelspec": {
   "display_name": "Python 3 (ipykernel)",
   "language": "python",
   "name": "python3"
  },
  "language_info": {
   "codemirror_mode": {
    "name": "ipython",
    "version": 3
   },
   "file_extension": ".py",
   "mimetype": "text/x-python",
   "name": "python",
   "nbconvert_exporter": "python",
   "pygments_lexer": "ipython3",
   "version": "3.10.9"
  }
 },
 "nbformat": 4,
 "nbformat_minor": 5
}
