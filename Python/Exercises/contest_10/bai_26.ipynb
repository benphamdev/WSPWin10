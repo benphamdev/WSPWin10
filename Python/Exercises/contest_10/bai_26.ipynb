{
 "cells": [
  {
   "cell_type": "code",
   "execution_count": 1,
   "id": "cc538f36",
   "metadata": {},
   "outputs": [
    {
     "ename": "SyntaxError",
     "evalue": "invalid syntax (2198816068.py, line 6)",
     "output_type": "error",
     "traceback": [
      "\u001b[1;36m  Cell \u001b[1;32mIn[1], line 6\u001b[1;36m\u001b[0m\n\u001b[1;33m    if (s[i] == s[i + 1]){}\u001b[0m\n\u001b[1;37m                         ^\u001b[0m\n\u001b[1;31mSyntaxError\u001b[0m\u001b[1;31m:\u001b[0m invalid syntax\n"
     ]
    }
   ],
   "source": [
    "if __name__ == \"__main__\" : \n",
    "    s = input()\n",
    "    s += \"#\"\n",
    "    ans, tmp = s[0], 1\n",
    "    t, cnt = s[0], 1\n",
    "    for i in range(1, len(s)) :\n",
    "        if (s[i] == s[i - 1]) : \n",
    "            t += s[i]\n",
    "            cnt  += 1\n",
    "        else :\n",
    "            if (tmp < cnt) :\n",
    "                tmp = cnt\n",
    "                ans = t\n",
    "            elif (tmp == cnt) :\n",
    "                if ans < t :\n",
    "                    ans = t\n",
    "            t = s[i]\n",
    "            cnt = 1\n",
    "    print(ans)"
   ]
  }
 ],
 "metadata": {
  "kernelspec": {
   "display_name": "Python 3 (ipykernel)",
   "language": "python",
   "name": "python3"
  },
  "language_info": {
   "codemirror_mode": {
    "name": "ipython",
    "version": 3
   },
   "file_extension": ".py",
   "mimetype": "text/x-python",
   "name": "python",
   "nbconvert_exporter": "python",
   "pygments_lexer": "ipython3",
   "version": "3.10.9"
  }
 },
 "nbformat": 4,
 "nbformat_minor": 5
}
