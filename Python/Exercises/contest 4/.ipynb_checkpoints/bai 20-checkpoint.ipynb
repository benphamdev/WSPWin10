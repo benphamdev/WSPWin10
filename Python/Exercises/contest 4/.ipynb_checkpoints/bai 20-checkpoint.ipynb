{
 "cells": [
  {
   "cell_type": "code",
   "execution_count": 19,
   "id": "b085b11d",
   "metadata": {},
   "outputs": [
    {
     "name": "stdout",
     "output_type": "stream",
     "text": [
      "38\n",
      "5\n"
     ]
    }
   ],
   "source": [
    "INF = 1e18\n",
    "def solve(n) :\n",
    "    if n == 1 : \n",
    "        return 0\n",
    "    cnt1, cnt2, cnt3 = INF, INF, INF\n",
    "    if n % 2 == 0 :\n",
    "        cnt1 = 0\n",
    "        cnt1 += solve(n // 2)\n",
    "    if n % 3 == 0 :\n",
    "        cnt2 = 0\n",
    "        cnt2 += solve(n // 3)\n",
    "    if n > 1 :\n",
    "        cnt3 = 0\n",
    "        cnt3 += solve(n - 1)\n",
    "    return 1 + min({cnt1, cnt2, cnt3})\n",
    "\n",
    "if __name__ == '__main__' :\n",
    "    n = int(input())\n",
    "    print(solve(n))"
   ]
  }
 ],
 "metadata": {
  "kernelspec": {
   "display_name": "Python 3 (ipykernel)",
   "language": "python",
   "name": "python3"
  },
  "language_info": {
   "codemirror_mode": {
    "name": "ipython",
    "version": 3
   },
   "file_extension": ".py",
   "mimetype": "text/x-python",
   "name": "python",
   "nbconvert_exporter": "python",
   "pygments_lexer": "ipython3",
   "version": "3.10.9"
  }
 },
 "nbformat": 4,
 "nbformat_minor": 5
}
