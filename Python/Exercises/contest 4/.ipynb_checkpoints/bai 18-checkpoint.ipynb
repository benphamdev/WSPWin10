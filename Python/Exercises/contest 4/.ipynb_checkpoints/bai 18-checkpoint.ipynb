{
 "cells": [
  {
   "cell_type": "code",
   "execution_count": 7,
   "id": "de0f2c16",
   "metadata": {},
   "outputs": [
    {
     "name": "stdout",
     "output_type": "stream",
     "text": [
      "0\n",
      "0\n",
      "0\n"
     ]
    }
   ],
   "source": [
    "def sumEven(n) :\n",
    "    if n <= 9 : \n",
    "        if n % 2 == 0 : return n\n",
    "        else : return 0\n",
    "    else : \n",
    "        r = n % 10\n",
    "        if r % 2 == 0 : \n",
    "            return r + sumEven(n // 10)\n",
    "        else : \n",
    "            return sumEven(n // 10)\n",
    "    \n",
    "def sumOdd(n) : \n",
    "    if n <= 9: \n",
    "        if n % 2 == 1 : return n\n",
    "        else : return 0\n",
    "    else : \n",
    "        r = n % 10\n",
    "        if r % 2 == 1 :\n",
    "            return r + sumOdd(n // 10)\n",
    "        else :\n",
    "            return sumOdd(n // 10)\n",
    "    \n",
    "if __name__ == '__main__' :\n",
    "    n = int(input())\n",
    "    print(sumEven(n), sumOdd(n), sep = '\\n')  "
   ]
  }
 ],
 "metadata": {
  "kernelspec": {
   "display_name": "Python 3 (ipykernel)",
   "language": "python",
   "name": "python3"
  },
  "language_info": {
   "codemirror_mode": {
    "name": "ipython",
    "version": 3
   },
   "file_extension": ".py",
   "mimetype": "text/x-python",
   "name": "python",
   "nbconvert_exporter": "python",
   "pygments_lexer": "ipython3",
   "version": "3.10.9"
  }
 },
 "nbformat": 4,
 "nbformat_minor": 5
}
