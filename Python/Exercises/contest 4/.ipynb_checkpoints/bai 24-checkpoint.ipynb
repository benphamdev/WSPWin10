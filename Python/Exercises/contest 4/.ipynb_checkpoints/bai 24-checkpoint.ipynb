{
 "cells": [
  {
   "cell_type": "code",
   "execution_count": null,
   "id": "4efcc805",
   "metadata": {},
   "outputs": [],
   "source": [
    "n = int(input())\n",
    "a = list(map(int, input().split()))\n",
    "\n",
    "def check(t) :\n",
    "    if(t == n) :\n",
    "        return True\n",
    "    if (a[t] <= a[t - 1]) :\n",
    "        return False\n",
    "    return check(t + 1)\n",
    "     \n",
    "print(\"YES\" if check(1) else \"NO\")"
   ]
  }
 ],
 "metadata": {
  "kernelspec": {
   "display_name": "Python 3 (ipykernel)",
   "language": "python",
   "name": "python3"
  },
  "language_info": {
   "codemirror_mode": {
    "name": "ipython",
    "version": 3
   },
   "file_extension": ".py",
   "mimetype": "text/x-python",
   "name": "python",
   "nbconvert_exporter": "python",
   "pygments_lexer": "ipython3",
   "version": "3.10.9"
  }
 },
 "nbformat": 4,
 "nbformat_minor": 5
}
