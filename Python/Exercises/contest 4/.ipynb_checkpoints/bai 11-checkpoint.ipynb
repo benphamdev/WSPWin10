{
 "cells": [
  {
   "cell_type": "code",
   "execution_count": 10,
   "id": "647b6cf6",
   "metadata": {},
   "outputs": [
    {
     "name": "stdout",
     "output_type": "stream",
     "text": [
      "0\n",
      "0\n"
     ]
    }
   ],
   "source": [
    "def convertbi(n):\n",
    "    if n == 0 : \n",
    "        return 0\n",
    "    convertbi(n // 2)\n",
    "    print(n % 2, end = '')\n",
    "\n",
    "if __name__ == '__main__' :\n",
    "    n = int(input())\n",
    "    if n == 0 : \n",
    "        print(0)\n",
    "    else :\n",
    "        convertbi(n)"
   ]
  }
 ],
 "metadata": {
  "kernelspec": {
   "display_name": "Python 3 (ipykernel)",
   "language": "python",
   "name": "python3"
  },
  "language_info": {
   "codemirror_mode": {
    "name": "ipython",
    "version": 3
   },
   "file_extension": ".py",
   "mimetype": "text/x-python",
   "name": "python",
   "nbconvert_exporter": "python",
   "pygments_lexer": "ipython3",
   "version": "3.10.9"
  }
 },
 "nbformat": 4,
 "nbformat_minor": 5
}
