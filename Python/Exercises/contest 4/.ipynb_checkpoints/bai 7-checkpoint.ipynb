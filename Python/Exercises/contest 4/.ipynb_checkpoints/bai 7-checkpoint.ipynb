{
 "cells": [
  {
   "cell_type": "code",
   "execution_count": 1,
   "id": "c786da66",
   "metadata": {},
   "outputs": [
    {
     "name": "stdout",
     "output_type": "stream",
     "text": [
      "10 2\n",
      "45\n"
     ]
    }
   ],
   "source": [
    "def nCk(n, k) :\n",
    "    if k == 0 or k == n : return 1\n",
    "    return nCk(n - 1, k - 1) + nCk(n - 1, k)\n",
    "\n",
    "if __name__ == '__main__' :\n",
    "    n, k = map(int, input().split())\n",
    "    print(nCk(n, k))"
   ]
  }
 ],
 "metadata": {
  "kernelspec": {
   "display_name": "Python 3 (ipykernel)",
   "language": "python",
   "name": "python3"
  },
  "language_info": {
   "codemirror_mode": {
    "name": "ipython",
    "version": 3
   },
   "file_extension": ".py",
   "mimetype": "text/x-python",
   "name": "python",
   "nbconvert_exporter": "python",
   "pygments_lexer": "ipython3",
   "version": "3.10.9"
  }
 },
 "nbformat": 4,
 "nbformat_minor": 5
}
