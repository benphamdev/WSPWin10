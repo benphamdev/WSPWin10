{
 "cells": [
  {
   "cell_type": "code",
   "execution_count": 8,
   "id": "eb9e2cad",
   "metadata": {},
   "outputs": [
    {
     "name": "stdout",
     "output_type": "stream",
     "text": [
      "995\n",
      "3E3"
     ]
    }
   ],
   "source": [
    "def convertHex(n) :\n",
    "    if n == 0 :\n",
    "        return\n",
    "    convertHex(n // 16)\n",
    "    r = n % 16\n",
    "    if r <= 9 : \n",
    "        print(r, end = '')\n",
    "    else :\n",
    "        print(chr(r - 10 + ord('A')), end = '')\n",
    "\n",
    "if __name__ == '__main__' :\n",
    "    n = int(input())\n",
    "    if n == 0 : \n",
    "        print(0)\n",
    "    else :\n",
    "        convertHex(n)"
   ]
  }
 ],
 "metadata": {
  "kernelspec": {
   "display_name": "Python 3 (ipykernel)",
   "language": "python",
   "name": "python3"
  },
  "language_info": {
   "codemirror_mode": {
    "name": "ipython",
    "version": 3
   },
   "file_extension": ".py",
   "mimetype": "text/x-python",
   "name": "python",
   "nbconvert_exporter": "python",
   "pygments_lexer": "ipython3",
   "version": "3.10.9"
  }
 },
 "nbformat": 4,
 "nbformat_minor": 5
}
