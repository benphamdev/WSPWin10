{
 "cells": [
  {
   "cell_type": "code",
   "execution_count": 3,
   "id": "26ff2253",
   "metadata": {},
   "outputs": [
    {
     "name": "stdout",
     "output_type": "stream",
     "text": [
      "5\n",
      "1 2 3 4 4\n",
      "1 2 3 4 4 \n",
      "4 4 3 2 1 "
     ]
    }
   ],
   "source": [
    "n = int(input())\n",
    "a = list(map(int, input().split()))\n",
    "\n",
    "def solve(t) :\n",
    "    if(t == n) :\n",
    "        return\n",
    "    print(a[t], end = ' ')\n",
    "    solve(t + 1)\n",
    "def solve1(t) :\n",
    "    if (t == n) :\n",
    "        return\n",
    "    solve1(t + 1)\n",
    "    print(a[t], end = ' ')\n",
    "\n",
    "solve(0)\n",
    "print()\n",
    "solve1(0)"
   ]
  }
 ],
 "metadata": {
  "kernelspec": {
   "display_name": "Python 3 (ipykernel)",
   "language": "python",
   "name": "python3"
  },
  "language_info": {
   "codemirror_mode": {
    "name": "ipython",
    "version": 3
   },
   "file_extension": ".py",
   "mimetype": "text/x-python",
   "name": "python",
   "nbconvert_exporter": "python",
   "pygments_lexer": "ipython3",
   "version": "3.10.9"
  }
 },
 "nbformat": 4,
 "nbformat_minor": 5
}
