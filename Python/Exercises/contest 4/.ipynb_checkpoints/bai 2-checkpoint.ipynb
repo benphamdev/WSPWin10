{
 "cells": [
  {
   "cell_type": "code",
   "execution_count": 1,
   "id": "2ae17de6",
   "metadata": {},
   "outputs": [
    {
     "name": "stdout",
     "output_type": "stream",
     "text": [
      "53\n",
      "51039\n"
     ]
    }
   ],
   "source": [
    "def sum(n) :\n",
    "    if n == 1 : return 1\n",
    "    return n ** 2 + sum(n - 1)\n",
    "\n",
    "if __name__ == '__main__' :\n",
    "    n = int(input())\n",
    "    print(sum(n))"
   ]
  }
 ],
 "metadata": {
  "kernelspec": {
   "display_name": "Python 3 (ipykernel)",
   "language": "python",
   "name": "python3"
  },
  "language_info": {
   "codemirror_mode": {
    "name": "ipython",
    "version": 3
   },
   "file_extension": ".py",
   "mimetype": "text/x-python",
   "name": "python",
   "nbconvert_exporter": "python",
   "pygments_lexer": "ipython3",
   "version": "3.10.9"
  }
 },
 "nbformat": 4,
 "nbformat_minor": 5
}
