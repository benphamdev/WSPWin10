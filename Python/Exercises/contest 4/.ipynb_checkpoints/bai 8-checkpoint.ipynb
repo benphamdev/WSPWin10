{
 "cells": [
  {
   "cell_type": "code",
   "execution_count": 2,
   "id": "4f696261",
   "metadata": {},
   "outputs": [
    {
     "name": "stdout",
     "output_type": "stream",
     "text": [
      "10 20\n",
      "10 20\n"
     ]
    }
   ],
   "source": [
    "def gcd(a, b) :\n",
    "    return a if b == 0 else gcd(b, a % b)\n",
    "\n",
    "def lcm(a, b) :\n",
    "    return a // gcd(a, b) * b\n",
    "\n",
    "if __name__ == '__main__' :\n",
    "    a, b = map(int, input().split())\n",
    "    print(gcd(a, b), lcm(a, b))"
   ]
  }
 ],
 "metadata": {
  "kernelspec": {
   "display_name": "Python 3 (ipykernel)",
   "language": "python",
   "name": "python3"
  },
  "language_info": {
   "codemirror_mode": {
    "name": "ipython",
    "version": 3
   },
   "file_extension": ".py",
   "mimetype": "text/x-python",
   "name": "python",
   "nbconvert_exporter": "python",
   "pygments_lexer": "ipython3",
   "version": "3.10.9"
  }
 },
 "nbformat": 4,
 "nbformat_minor": 5
}
