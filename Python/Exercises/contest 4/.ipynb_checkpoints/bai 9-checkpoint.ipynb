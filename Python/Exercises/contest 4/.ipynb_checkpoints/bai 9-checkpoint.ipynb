{
 "cells": [
  {
   "cell_type": "code",
   "execution_count": 8,
   "id": "98487d70",
   "metadata": {},
   "outputs": [
    {
     "name": "stdout",
     "output_type": "stream",
     "text": [
      "2 10\n",
      "2 10\n",
      "2 5\n",
      "2 2\n",
      "2 1\n",
      "1\n",
      "2\n",
      "4\n",
      "32\n",
      "1024\n"
     ]
    }
   ],
   "source": [
    "mod = int(1e9 + 7)\n",
    "\n",
    "def binPow(a, b) :\n",
    "    if b == 0 : return 1\n",
    "    tmp = binPow(a, b // 2)\n",
    "    if b % 2 == 0 : \n",
    "        return ((tmp % mod) * (tmp % mod) ) % mod\n",
    "    return ((tmp % mod) * (tmp % mod) * a % mod) % mod\n",
    "\n",
    "if __name__ == '__main__' :\n",
    "    a, b = map(int, input().split())\n",
    "    print(binPow(a, b))\n",
    "    "
   ]
  }
 ],
 "metadata": {
  "kernelspec": {
   "display_name": "Python 3 (ipykernel)",
   "language": "python",
   "name": "python3"
  },
  "language_info": {
   "codemirror_mode": {
    "name": "ipython",
    "version": 3
   },
   "file_extension": ".py",
   "mimetype": "text/x-python",
   "name": "python",
   "nbconvert_exporter": "python",
   "pygments_lexer": "ipython3",
   "version": "3.10.9"
  }
 },
 "nbformat": 4,
 "nbformat_minor": 5
}
