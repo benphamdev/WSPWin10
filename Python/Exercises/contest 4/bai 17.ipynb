{
 "cells": [
  {
   "cell_type": "code",
   "execution_count": 9,
   "id": "ee60b6a4",
   "metadata": {},
   "outputs": [
    {
     "name": "stdout",
     "output_type": "stream",
     "text": [
      "123\n",
      "3 2 1\n",
      "\n",
      "1 2 3 "
     ]
    }
   ],
   "source": [
    "def oke(n):\n",
    "    if n <= 9 : \n",
    "        print(n)\n",
    "        return\n",
    "    print(n % 10, end = ' ')\n",
    "    oke(n // 10)\n",
    "def rin(n) :\n",
    "    if n <= 9: \n",
    "        print(n, end = ' ')\n",
    "        return\n",
    "    rin(n // 10)\n",
    "    print(n % 10, end = ' ')\n",
    "    \n",
    "if __name__ == '__main__' :\n",
    "    n = int(input())\n",
    "    rin(n)\n",
    "    print(\"\")\n",
    "    oke(n)"
   ]
  }
 ],
 "metadata": {
  "kernelspec": {
   "display_name": "Python 3 (ipykernel)",
   "language": "python",
   "name": "python3"
  },
  "language_info": {
   "codemirror_mode": {
    "name": "ipython",
    "version": 3
   },
   "file_extension": ".py",
   "mimetype": "text/x-python",
   "name": "python",
   "nbconvert_exporter": "python",
   "pygments_lexer": "ipython3",
   "version": "3.10.9"
  }
 },
 "nbformat": 4,
 "nbformat_minor": 5
}
