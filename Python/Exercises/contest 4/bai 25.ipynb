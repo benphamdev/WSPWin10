{
 "cells": [
  {
   "cell_type": "code",
   "execution_count": 5,
   "id": "2346bbb0",
   "metadata": {},
   "outputs": [
    {
     "name": "stdout",
     "output_type": "stream",
     "text": [
      "6\n",
      "1 2 3 4 5 6\n",
      "0\n",
      "0\n"
     ]
    }
   ],
   "source": [
    "n = int(input())\n",
    "a = list(map(int, input().split()))\n",
    "x = int(input())\n",
    "\n",
    "def binary_search(l, r) :\n",
    "    m = (l + r) // 2\n",
    "    if l > r : \n",
    "        return 0\n",
    "    if(a[m] == x) :\n",
    "        return 1\n",
    "    elif(a[m] > x) :\n",
    "        return binary_search(m + 1, r)    \n",
    "    else :\n",
    "        return binary_search(l, m - 1) \n",
    "print(binary_search(0, n - 1))"
   ]
  }
 ],
 "metadata": {
  "kernelspec": {
   "display_name": "Python 3 (ipykernel)",
   "language": "python",
   "name": "python3"
  },
  "language_info": {
   "codemirror_mode": {
    "name": "ipython",
    "version": 3
   },
   "file_extension": ".py",
   "mimetype": "text/x-python",
   "name": "python",
   "nbconvert_exporter": "python",
   "pygments_lexer": "ipython3",
   "version": "3.10.9"
  }
 },
 "nbformat": 4,
 "nbformat_minor": 5
}
