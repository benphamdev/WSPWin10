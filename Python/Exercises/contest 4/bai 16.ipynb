{
 "cells": [
  {
   "cell_type": "code",
   "execution_count": 10,
   "id": "d47d8976",
   "metadata": {},
   "outputs": [
    {
     "name": "stdout",
     "output_type": "stream",
     "text": [
      "123\n",
      "3 1\n"
     ]
    }
   ],
   "source": [
    "def maxDig(n) :\n",
    "    if n <= 9 : return n\n",
    "    return max(n % 10, maxDig(n // 10))\n",
    "def minDig(n) :\n",
    "    if n <= 9 : return n\n",
    "    return min(n % 10, minDig(n // 10))\n",
    "\n",
    "if __name__ == '__main__' :\n",
    "    n = int(input())\n",
    "    print(maxDig(n), minDig(n))"
   ]
  }
 ],
 "metadata": {
  "kernelspec": {
   "display_name": "Python 3 (ipykernel)",
   "language": "python",
   "name": "python3"
  },
  "language_info": {
   "codemirror_mode": {
    "name": "ipython",
    "version": 3
   },
   "file_extension": ".py",
   "mimetype": "text/x-python",
   "name": "python",
   "nbconvert_exporter": "python",
   "pygments_lexer": "ipython3",
   "version": "3.10.9"
  }
 },
 "nbformat": 4,
 "nbformat_minor": 5
}
