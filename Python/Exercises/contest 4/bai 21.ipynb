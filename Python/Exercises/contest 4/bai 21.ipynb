{
 "cells": [
  {
   "cell_type": "code",
   "execution_count": 19,
   "id": "1902da52",
   "metadata": {},
   "outputs": [
    {
     "name": "stdout",
     "output_type": "stream",
     "text": [
      "6\n",
      "1 1 2 2 1 1\n",
      "2\n",
      "1\n",
      "0\n",
      "YES\n"
     ]
    }
   ],
   "source": [
    "\n",
    "n = int(input())\n",
    "a = list(map(int, input().split()))\n",
    "\n",
    "def solve(t, cnt) :\n",
    "    if t == 0 : \n",
    "        return a[0] == a[n - 1]\n",
    "    if a[t] != a[t + cnt] :\n",
    "        return False\n",
    "    else :\n",
    "        return solve(t - 1, cnt + 2)\n",
    "\n",
    "if __name__ == '__main__' :\n",
    "#     n = int(input())\n",
    "#     a = list(map(int, input().split()))\n",
    "    if n % 2 == 1 :\n",
    "        print(\"YES\" if solve(n // 2, 0) else \"NO\")\n",
    "    else :\n",
    "        print(\"YES\" if solve((n - 1) // 2, 1) else \"NO\")"
   ]
  }
 ],
 "metadata": {
  "kernelspec": {
   "display_name": "Python 3 (ipykernel)",
   "language": "python",
   "name": "python3"
  },
  "language_info": {
   "codemirror_mode": {
    "name": "ipython",
    "version": 3
   },
   "file_extension": ".py",
   "mimetype": "text/x-python",
   "name": "python",
   "nbconvert_exporter": "python",
   "pygments_lexer": "ipython3",
   "version": "3.10.9"
  }
 },
 "nbformat": 4,
 "nbformat_minor": 5
}
