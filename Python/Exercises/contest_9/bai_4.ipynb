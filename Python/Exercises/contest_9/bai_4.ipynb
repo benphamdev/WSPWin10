{
 "cells": [
  {
   "cell_type": "code",
   "execution_count": 1,
   "id": "a68a50c3",
   "metadata": {},
   "outputs": [
    {
     "ename": "SyntaxError",
     "evalue": "incomplete input (1869849742.py, line 14)",
     "output_type": "error",
     "traceback": [
      "\u001b[1;36m  Cell \u001b[1;32mIn[1], line 14\u001b[1;36m\u001b[0m\n\u001b[1;33m    for j in range(n) :\u001b[0m\n\u001b[1;37m                        ^\u001b[0m\n\u001b[1;31mSyntaxError\u001b[0m\u001b[1;31m:\u001b[0m incomplete input\n"
     ]
    }
   ],
   "source": [
    "def palindrome(n) : \n",
    "    tmp = n\n",
    "    ans = 0\n",
    "    while(n) : \n",
    "        ans = ans * 10 + n % 10\n",
    "        n //= 10\n",
    "    return ans == tmp\n",
    "if __name__ == '__main__' : \n",
    "    n = int(input())\n",
    "    a = [[0 for _ in range(n)] for _ in range(n)]\n",
    "    for i in range(n) : \n",
    "        a[i] = list(map(int, input().split()))\n",
    "    cnt = 0\n",
    "    for i in range(n) : \n",
    "        for j in range(n) : \n",
    "            if i >= j and palindrome(a[i][j]):\n",
    "                cnt += 1\n",
    "    print(cnt)"
   ]
  }
 ],
 "metadata": {
  "kernelspec": {
   "display_name": "Python 3 (ipykernel)",
   "language": "python",
   "name": "python3"
  },
  "language_info": {
   "codemirror_mode": {
    "name": "ipython",
    "version": 3
   },
   "file_extension": ".py",
   "mimetype": "text/x-python",
   "name": "python",
   "nbconvert_exporter": "python",
   "pygments_lexer": "ipython3",
   "version": "3.10.9"
  }
 },
 "nbformat": 4,
 "nbformat_minor": 5
}
