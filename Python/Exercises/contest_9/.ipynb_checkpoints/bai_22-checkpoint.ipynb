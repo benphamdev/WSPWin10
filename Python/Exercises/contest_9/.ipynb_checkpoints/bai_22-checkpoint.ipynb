{
 "cells": [
  {
   "cell_type": "code",
   "execution_count": null,
   "id": "8beaaa6f",
   "metadata": {},
   "outputs": [],
   "source": [
    "n = int(input())\n",
    "a = []\n",
    "for i in range(n) : \n",
    "    b = list(map(int, input().split()))\n",
    "    a.append(b)\n",
    "for i in range(n) : \n",
    "    if i % 2 == 0 : \n",
    "        for j in range(n) : \n",
    "            print(a[i][j], end = ' ')\n",
    "    else : \n",
    "        for j in range(n - 1, -1, -1) : \n",
    "            print(a[i][j], end = ' ')\n",
    "    print()"
   ]
  }
 ],
 "metadata": {
  "kernelspec": {
   "display_name": "Python 3 (ipykernel)",
   "language": "python",
   "name": "python3"
  },
  "language_info": {
   "codemirror_mode": {
    "name": "ipython",
    "version": 3
   },
   "file_extension": ".py",
   "mimetype": "text/x-python",
   "name": "python",
   "nbconvert_exporter": "python",
   "pygments_lexer": "ipython3",
   "version": "3.10.9"
  }
 },
 "nbformat": 4,
 "nbformat_minor": 5
}
