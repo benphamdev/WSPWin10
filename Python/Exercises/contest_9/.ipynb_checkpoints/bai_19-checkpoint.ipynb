{
 "cells": [
  {
   "cell_type": "code",
   "execution_count": null,
   "id": "780f70e6",
   "metadata": {},
   "outputs": [],
   "source": [
    "n, m = map(int, input().split())\n",
    "a = []\n",
    "for i in range(n) : \n",
    "    b = list(map(int, input().split()))\n",
    "    a.append(b)\n",
    "dp = [[0 for _ in range(m + 1)] for _ in range(n + 1)]\n",
    "for i in range(n) : \n",
    "    for j in range(m) : \n",
    "        if i == 0 and j != 0: \n",
    "            dp[i][j] = a[i][j] + dp[i][j - 1]  \n",
    "        elif j == 0 and i != 0: \n",
    "            dp[i][j] =  a[i][j] + dp[i - 1][j]\n",
    "        else : \n",
    "            dp[i][j] = max(dp[i - 1][j], dp[i][j - 1]) + a[i][j]\n",
    "print(dp[n - 1][m - 1])"
   ]
  }
 ],
 "metadata": {
  "kernelspec": {
   "display_name": "Python 3 (ipykernel)",
   "language": "python",
   "name": "python3"
  },
  "language_info": {
   "codemirror_mode": {
    "name": "ipython",
    "version": 3
   },
   "file_extension": ".py",
   "mimetype": "text/x-python",
   "name": "python",
   "nbconvert_exporter": "python",
   "pygments_lexer": "ipython3",
   "version": "3.10.9"
  }
 },
 "nbformat": 4,
 "nbformat_minor": 5
}
