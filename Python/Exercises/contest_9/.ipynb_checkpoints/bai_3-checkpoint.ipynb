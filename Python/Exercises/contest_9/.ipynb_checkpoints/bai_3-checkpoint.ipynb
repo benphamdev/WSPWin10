{
 "cells": [
  {
   "cell_type": "code",
   "execution_count": null,
   "id": "c7ce0a36",
   "metadata": {},
   "outputs": [],
   "source": [
    "n, m = map(int, input().split())\n",
    "a = [[0 for _ in range(m)] for _ in range(n)]\n",
    "for i in range(n) : \n",
    "    a[i] = list(map(int, input().split()))\n",
    "max_val, min_val = -10 ** 18, 10 ** 18\n",
    "for row in a : \n",
    "    max_val = max(max_val, max(row))\n",
    "    min_val = min(min_val, min(row))\n",
    "b, c = [], []\n",
    "for i in range(n) : \n",
    "    for j in range(m) : \n",
    "        if(a[i][j] == min_val) : \n",
    "            b.append([i, j])\n",
    "        if(a[i][j] == max_val) : \n",
    "            c.append([i, j])\n",
    "print(min_val)\n",
    "for row in b : \n",
    "    print(row[0] + 1, row[1] + 1)\n",
    "print(max_val)\n",
    "for row in c : \n",
    "    print(row[0] + 1, row[1] + 1)"
   ]
  }
 ],
 "metadata": {
  "kernelspec": {
   "display_name": "Python 3 (ipykernel)",
   "language": "python",
   "name": "python3"
  },
  "language_info": {
   "codemirror_mode": {
    "name": "ipython",
    "version": 3
   },
   "file_extension": ".py",
   "mimetype": "text/x-python",
   "name": "python",
   "nbconvert_exporter": "python",
   "pygments_lexer": "ipython3",
   "version": "3.10.9"
  }
 },
 "nbformat": 4,
 "nbformat_minor": 5
}
