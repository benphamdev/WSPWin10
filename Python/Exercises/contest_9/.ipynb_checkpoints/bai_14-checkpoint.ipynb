{
 "cells": [
  {
   "cell_type": "code",
   "execution_count": 10,
   "id": "c4156fd5",
   "metadata": {},
   "outputs": [
    {
     "name": "stdout",
     "output_type": "stream",
     "text": [
      "4\n",
      "1 2 3 4 \n",
      "12 13 14 5 \n",
      "11 16 15 6 \n",
      "10 9 8 7 \n"
     ]
    }
   ],
   "source": [
    "n = int(input())\n",
    "r1, r2, c1, c2 = 0, n - 1, 0, n - 1\n",
    "k = 1\n",
    "a = [[0 for _ in range(n)] for _ in range(n)]\n",
    "while r1 <= r2 and c1 <= c2 : \n",
    "    for i in range(c1, c2 + 1) : \n",
    "        a[r1][i] = k\n",
    "        k += 1\n",
    "    r1 += 1\n",
    "    for i in range(r1, r2 + 1) : \n",
    "        a[i][c2] = k\n",
    "        k += 1\n",
    "    c2 -= 1\n",
    "    if r1 <= r2 : \n",
    "        for i in range(c2, c1 - 1, -1) : \n",
    "            a[r2][i] = k\n",
    "            k += 1\n",
    "    r2 -= 1\n",
    "    if c1 <= c2 : \n",
    "        for i in range(r2, r1 - 1, -1) : \n",
    "            a[i][c1] = k\n",
    "            k += 1\n",
    "    c1 += 1\n",
    "\n",
    "for i in range(n) : \n",
    "    for j in range(n) : \n",
    "        print(a[i][j], end = ' ')\n",
    "    print()"
   ]
  }
 ],
 "metadata": {
  "kernelspec": {
   "display_name": "Python 3 (ipykernel)",
   "language": "python",
   "name": "python3"
  },
  "language_info": {
   "codemirror_mode": {
    "name": "ipython",
    "version": 3
   },
   "file_extension": ".py",
   "mimetype": "text/x-python",
   "name": "python",
   "nbconvert_exporter": "python",
   "pygments_lexer": "ipython3",
   "version": "3.10.9"
  }
 },
 "nbformat": 4,
 "nbformat_minor": 5
}
