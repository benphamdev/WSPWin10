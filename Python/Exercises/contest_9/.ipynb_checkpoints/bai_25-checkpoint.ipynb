{
 "cells": [
  {
   "cell_type": "code",
   "execution_count": null,
   "id": "b8ad0dfc",
   "metadata": {},
   "outputs": [],
   "source": [
    "path = [[-1, 0], [0, -1], [1, 0], [0, 1]]\n",
    "ans = 0\n",
    "n, m = 0, 0\n",
    "cnt = 0\n",
    "def dfs(u, v) : \n",
    "    global cnt \n",
    "    a[u][v] = 0\n",
    "    cnt += 1\n",
    "    for x in path : \n",
    "        i1, j1 = u + x[0], v + x[1]\n",
    "        if i1 >= 0 and i1 < n and j1 >= 0 and j1 < m and a[i1][j1] == 1 : \n",
    "            dfs(i1, j1)\n",
    "if __name__ == '__main__' :     \n",
    "    n, m = map(int, input().split())\n",
    "    a = [[0 for _ in range(m)] for _ in range(n)]\n",
    "    for i in range(n) : \n",
    "        a[i] = list(map(int, input().split()))\n",
    "    for i in range(n) : \n",
    "        for j in range(m) : \n",
    "            if a[i][j] == 1:\n",
    "                cnt = 0\n",
    "                dfs(i, j)\n",
    "                ans = max(cnt, ans)\n",
    "    print(ans)"
   ]
  }
 ],
 "metadata": {
  "kernelspec": {
   "display_name": "Python 3 (ipykernel)",
   "language": "python",
   "name": "python3"
  },
  "language_info": {
   "codemirror_mode": {
    "name": "ipython",
    "version": 3
   },
   "file_extension": ".py",
   "mimetype": "text/x-python",
   "name": "python",
   "nbconvert_exporter": "python",
   "pygments_lexer": "ipython3",
   "version": "3.10.9"
  }
 },
 "nbformat": 4,
 "nbformat_minor": 5
}
