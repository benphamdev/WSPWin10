{
 "cells": [
  {
   "cell_type": "code",
   "execution_count": null,
   "id": "558b51f8",
   "metadata": {},
   "outputs": [],
   "source": [
    "n = int(input())\n",
    "a = [[0 for _ in range(n)] for _ in range(n)]\n",
    "for i in range(n) : \n",
    "    a[i] = list(map(int, input().split()))\n",
    "for i in range(n) : \n",
    "    a[i][i], a[i][n - i - 1] = a[i][n - i - 1], a[i][i]\n",
    "for i in range(n) : \n",
    "    for j in range(n) : \n",
    "        print(a[i][j], end = ' ')\n",
    "    print()"
   ]
  }
 ],
 "metadata": {
  "kernelspec": {
   "display_name": "Python 3 (ipykernel)",
   "language": "python",
   "name": "python3"
  },
  "language_info": {
   "codemirror_mode": {
    "name": "ipython",
    "version": 3
   },
   "file_extension": ".py",
   "mimetype": "text/x-python",
   "name": "python",
   "nbconvert_exporter": "python",
   "pygments_lexer": "ipython3",
   "version": "3.10.9"
  }
 },
 "nbformat": 4,
 "nbformat_minor": 5
}
