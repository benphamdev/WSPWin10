{
 "cells": [
  {
   "cell_type": "code",
   "execution_count": 1,
   "id": "86bb8b0f",
   "metadata": {},
   "outputs": [
    {
     "ename": "SyntaxError",
     "evalue": "incomplete input (4253300448.py, line 7)",
     "output_type": "error",
     "traceback": [
      "\u001b[1;36m  Cell \u001b[1;32mIn[1], line 7\u001b[1;36m\u001b[0m\n\u001b[1;33m    for j in range(n) :\u001b[0m\n\u001b[1;37m                        ^\u001b[0m\n\u001b[1;31mSyntaxError\u001b[0m\u001b[1;31m:\u001b[0m incomplete input\n"
     ]
    }
   ],
   "source": [
    "n = int(input())\n",
    "a = []\n",
    "for i in range(n) : \n",
    "    b = list(map(int, input().split()))\n",
    "    a.append(b)\n",
    "for i in range(n) : \n",
    "    for j in range(n) : \n",
    "        if i == 0 : \n",
    "            print(a[i][j], end = ' ')\n",
    "        elif i == n - 1 : \n",
    "            print(a[i][j], end = ' ')\n",
    "        else : \n",
    "            if j == 0 or j == n - 1 : \n",
    "                print(a[i][j], end = ' ')\n",
    "            else : \n",
    "                print(end = '')"
   ]
  }
 ],
 "metadata": {
  "kernelspec": {
   "display_name": "Python 3 (ipykernel)",
   "language": "python",
   "name": "python3"
  },
  "language_info": {
   "codemirror_mode": {
    "name": "ipython",
    "version": 3
   },
   "file_extension": ".py",
   "mimetype": "text/x-python",
   "name": "python",
   "nbconvert_exporter": "python",
   "pygments_lexer": "ipython3",
   "version": "3.10.9"
  }
 },
 "nbformat": 4,
 "nbformat_minor": 5
}
