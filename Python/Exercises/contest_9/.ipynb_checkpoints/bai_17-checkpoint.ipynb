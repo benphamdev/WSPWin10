{
 "cells": [
  {
   "cell_type": "code",
   "execution_count": null,
   "id": "158097d0",
   "metadata": {},
   "outputs": [],
   "source": [
    "path = [[-1, 0], [0, -1], [1, 0], [0, 1],\n",
    "        [-1, 1], [-1, -1], [1, -1], [1, 1]]\n",
    "def isValid(i, j) : \n",
    "    return i >= 0 and i < n and j >= 0 and j < m\n",
    "def dfs(u, v): \n",
    "    for x in path : \n",
    "        i1, j1 = u + x[0], v + x[1]\n",
    "        if isValid(i1, j1) and a[i1][j1] : \n",
    "            a[i1][j1] = 0\n",
    "            dfs(i1, j1)\n",
    "if __name__ == '__main__' : \n",
    "    n, m = map(int, input().split())\n",
    "    a = []\n",
    "    for i in range(n) : \n",
    "        b = list(map(int, input().split()))\n",
    "        a.append(b)\n",
    "    cnt = 0\n",
    "    for i in range(n) : \n",
    "        for j in range(m) : \n",
    "            if a[i][j] : \n",
    "                dfs(i, j)\n",
    "                cnt += 1\n",
    "    print(cnt)"
   ]
  }
 ],
 "metadata": {
  "kernelspec": {
   "display_name": "Python 3 (ipykernel)",
   "language": "python",
   "name": "python3"
  },
  "language_info": {
   "codemirror_mode": {
    "name": "ipython",
    "version": 3
   },
   "file_extension": ".py",
   "mimetype": "text/x-python",
   "name": "python",
   "nbconvert_exporter": "python",
   "pygments_lexer": "ipython3",
   "version": "3.10.9"
  }
 },
 "nbformat": 4,
 "nbformat_minor": 5
}
