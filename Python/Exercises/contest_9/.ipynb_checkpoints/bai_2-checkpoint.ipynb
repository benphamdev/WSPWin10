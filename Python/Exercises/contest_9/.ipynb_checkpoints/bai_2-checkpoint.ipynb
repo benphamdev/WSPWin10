{
 "cells": [
  {
   "cell_type": "code",
   "execution_count": null,
   "id": "ed8a9ee1",
   "metadata": {},
   "outputs": [],
   "source": [
    "n, m = map(int, input().split())\n",
    "a = [[0 for _ in range(m)] for _ in range(n)]\n",
    "for i in range(n) : \n",
    "    a[i] = list(map(int, input().split()))\n",
    "b = [sum(row) for row in a]\n",
    "column = 0\n",
    "c = [sum(row[column] for row in a) for column in range(len(a[0]))]\n",
    "for x in b : \n",
    "    print(x, end = ' ')\n",
    "print()\n",
    "for x in c : \n",
    "    print(x, end = ' ')"
   ]
  }
 ],
 "metadata": {
  "kernelspec": {
   "display_name": "Python 3 (ipykernel)",
   "language": "python",
   "name": "python3"
  },
  "language_info": {
   "codemirror_mode": {
    "name": "ipython",
    "version": 3
   },
   "file_extension": ".py",
   "mimetype": "text/x-python",
   "name": "python",
   "nbconvert_exporter": "python",
   "pygments_lexer": "ipython3",
   "version": "3.10.9"
  }
 },
 "nbformat": 4,
 "nbformat_minor": 5
}
