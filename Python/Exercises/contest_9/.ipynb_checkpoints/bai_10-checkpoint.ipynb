{
 "cells": [
  {
   "cell_type": "code",
   "execution_count": 1,
   "id": "16aacc9d",
   "metadata": {},
   "outputs": [
    {
     "ename": "SyntaxError",
     "evalue": "incomplete input (1999926377.py, line 12)",
     "output_type": "error",
     "traceback": [
      "\u001b[1;36m  Cell \u001b[1;32mIn[1], line 12\u001b[1;36m\u001b[0m\n\u001b[1;33m    for i in range(n) :\u001b[0m\n\u001b[1;37m                        ^\u001b[0m\n\u001b[1;31mSyntaxError\u001b[0m\u001b[1;31m:\u001b[0m incomplete input\n"
     ]
    }
   ],
   "source": [
    "from math import *\n",
    "def isPrime(n) : \n",
    "    if n < 2 : return False\n",
    "    for i in range(2, isqrt(n) + 1) : \n",
    "         if n % i == 0 :\n",
    "                return False\n",
    "    return True\n",
    "\n",
    "if __name__ == '__main__' : \n",
    "    n = int(input())\n",
    "    a = []\n",
    "    for i in range(n) : \n",
    "        b = list(map(int, input().split()))\n",
    "        a.append(b)\n",
    "    d = dict({})\n",
    "    cnt = 0\n",
    "    for i in range(n) : \n",
    "        if a[i][i] not in d :\n",
    "            if nt(a[i][i]) :\n",
    "                cnt += 1\n",
    "            d[a[i][i]] = 1\n",
    "        if a[i][n - i - 1] not in d : \n",
    "            if nt(a[i][n - i - 1]) : \n",
    "                cnt += 1\n",
    "            d[a[i][n - i - 1]] = 1\n",
    "    print(cnt)"
   ]
  }
 ],
 "metadata": {
  "kernelspec": {
   "display_name": "Python 3 (ipykernel)",
   "language": "python",
   "name": "python3"
  },
  "language_info": {
   "codemirror_mode": {
    "name": "ipython",
    "version": 3
   },
   "file_extension": ".py",
   "mimetype": "text/x-python",
   "name": "python",
   "nbconvert_exporter": "python",
   "pygments_lexer": "ipython3",
   "version": "3.10.9"
  }
 },
 "nbformat": 4,
 "nbformat_minor": 5
}
