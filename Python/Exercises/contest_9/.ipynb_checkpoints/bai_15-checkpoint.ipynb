{
 "cells": [
  {
   "cell_type": "code",
   "execution_count": null,
   "id": "52435a63",
   "metadata": {},
   "outputs": [],
   "source": [
    "fibo = [0] * 95\n",
    "\n",
    "def init() : \n",
    "    fibo[0], fibo[1] = 0, 1\n",
    "    for i in range(2, 94) :\n",
    "        fibo[i] = fibo[i - 1] + fibo[i - 2]\n",
    "if __name__ == '__main__' : \n",
    "    n = int(input())\n",
    "    init()\n",
    "    r1, r2, c1, c2 = 0, n - 1, 0, n - 1\n",
    "    k = 0\n",
    "    a = [[0 for _ in range(n)] for _ in range(n)]\n",
    "    while r1 <= r2 and c1 <= c2 : \n",
    "        for i in range(c1, c2 + 1) : \n",
    "            a[r1][i] = fibo[k]\n",
    "            k += 1\n",
    "        r1 += 1\n",
    "        for i in range(r1, r2 + 1) : \n",
    "            a[i][c2] = fibo[k]\n",
    "            k += 1\n",
    "        c2 -= 1\n",
    "        if r1 <= r2 : \n",
    "            for i in range(c2, c1 - 1, -1) : \n",
    "                a[r2][i] = fibo[k]\n",
    "                k += 1\n",
    "        r2 -= 1\n",
    "        if c1 <= c2 : \n",
    "            for i in range(r2, r1 - 1, -1) : \n",
    "                a[i][c1] = fibo[k]\n",
    "                k += 1\n",
    "        c1 += 1\n",
    "\n",
    "    for i in range(n) : \n",
    "        for j in range(n) : \n",
    "            print(a[i][j], end = ' ')\n",
    "        print()"
   ]
  }
 ],
 "metadata": {
  "kernelspec": {
   "display_name": "Python 3 (ipykernel)",
   "language": "python",
   "name": "python3"
  },
  "language_info": {
   "codemirror_mode": {
    "name": "ipython",
    "version": 3
   },
   "file_extension": ".py",
   "mimetype": "text/x-python",
   "name": "python",
   "nbconvert_exporter": "python",
   "pygments_lexer": "ipython3",
   "version": "3.10.9"
  }
 },
 "nbformat": 4,
 "nbformat_minor": 5
}
