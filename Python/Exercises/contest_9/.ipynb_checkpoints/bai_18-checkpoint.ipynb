{
 "cells": [
  {
   "cell_type": "code",
   "execution_count": null,
   "id": "bad2e45a",
   "metadata": {},
   "outputs": [],
   "source": [
    "path = [[-1, 0], [0, -1], [1, 0], [0, 1],\n",
    "        [-1, 1], [-1, -1], [1, -1], [1, 1]]\n",
    "def isValid(i, j) : \n",
    "    return i >= 0 and i < n and j >= 0 and j < m\n",
    "def check(u, v): \n",
    "    for x in path : \n",
    "        i1, j1 = x[0] + u, x[1] + v\n",
    "        if isValid(i1, j1) and a[i1][j1] >= a[u][v]: \n",
    "            return False\n",
    "    return True\n",
    "\n",
    "if __name__ == '__main__' : \n",
    "    n, m = map(int, input().split())\n",
    "    a = []\n",
    "    for i in range(n) : \n",
    "        b = list(map(int, input().split()))\n",
    "        a.append(b)\n",
    "    cnt = 0\n",
    "    for i in range(n) : \n",
    "        for j in range(m) : \n",
    "            if a[i][j] : \n",
    "                cnt += 1 if check(i, j) else 0\n",
    "    print(cnt)"
   ]
  }
 ],
 "metadata": {
  "kernelspec": {
   "display_name": "Python 3 (ipykernel)",
   "language": "python",
   "name": "python3"
  },
  "language_info": {
   "codemirror_mode": {
    "name": "ipython",
    "version": 3
   },
   "file_extension": ".py",
   "mimetype": "text/x-python",
   "name": "python",
   "nbconvert_exporter": "python",
   "pygments_lexer": "ipython3",
   "version": "3.10.9"
  }
 },
 "nbformat": 4,
 "nbformat_minor": 5
}
