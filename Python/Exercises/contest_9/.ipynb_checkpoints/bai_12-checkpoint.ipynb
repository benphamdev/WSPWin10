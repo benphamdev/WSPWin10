{
 "cells": [
  {
   "cell_type": "code",
   "execution_count": 5,
   "id": "d0dc0236",
   "metadata": {},
   "outputs": [
    {
     "name": "stdout",
     "output_type": "stream",
     "text": [
      "2\n",
      "1 2\n",
      "1 2\n",
      "[[1, 1], [2, 2]]\n"
     ]
    }
   ],
   "source": [
    "n = int(input())\n",
    "a = [[0 for _ in range(n)] for _ in range(n)]\n",
    "for i in range(n) : \n",
    "    a[i] = list(map(int, input().split()))\n",
    "c = []\n",
    "for i in range(n) : \n",
    "    b = [row[i] for row in a] \n",
    "    b.sort()\n",
    "    c.append(b)\n",
    "for i in range(n) : \n",
    "    for j in range(n) : \n",
    "        print(c[j][i], end = ' ')\n",
    "    print()"
   ]
  }
 ],
 "metadata": {
  "kernelspec": {
   "display_name": "Python 3 (ipykernel)",
   "language": "python",
   "name": "python3"
  },
  "language_info": {
   "codemirror_mode": {
    "name": "ipython",
    "version": 3
   },
   "file_extension": ".py",
   "mimetype": "text/x-python",
   "name": "python",
   "nbconvert_exporter": "python",
   "pygments_lexer": "ipython3",
   "version": "3.10.9"
  }
 },
 "nbformat": 4,
 "nbformat_minor": 5
}
