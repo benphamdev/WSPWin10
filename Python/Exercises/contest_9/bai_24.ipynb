{
 "cells": [
  {
   "cell_type": "code",
   "execution_count": 2,
   "id": "adb91bff",
   "metadata": {},
   "outputs": [
    {
     "name": "stdout",
     "output_type": "stream",
     "text": [
      "4\n",
      "1 2 1 2\n",
      "1 2 3 4\n",
      "1 2 3 2\n",
      "1 2 1 2\n"
     ]
    },
    {
     "ename": "KeyError",
     "evalue": "3",
     "output_type": "error",
     "traceback": [
      "\u001b[1;31m---------------------------------------------------------------------------\u001b[0m",
      "\u001b[1;31mKeyError\u001b[0m                                  Traceback (most recent call last)",
      "Cell \u001b[1;32mIn[2], line 11\u001b[0m\n\u001b[0;32m      9\u001b[0m             d[a[i][j]] \u001b[38;5;241m=\u001b[39m \u001b[38;5;241m1\u001b[39m\n\u001b[0;32m     10\u001b[0m         \u001b[38;5;28;01melse\u001b[39;00m : \n\u001b[1;32m---> 11\u001b[0m             d[a[i][j]] \u001b[38;5;241m+\u001b[39m\u001b[38;5;241m=\u001b[39m \u001b[38;5;241m1\u001b[39m\n\u001b[0;32m     12\u001b[0m \u001b[38;5;28;01mfor\u001b[39;00m key \u001b[38;5;129;01min\u001b[39;00m d\u001b[38;5;241m.\u001b[39mkeys() : \n\u001b[0;32m     13\u001b[0m     \u001b[38;5;28;01mif\u001b[39;00m d[key] \u001b[38;5;241m==\u001b[39m n : \n",
      "\u001b[1;31mKeyError\u001b[0m: 3"
     ]
    }
   ],
   "source": [
    "n = int(input())\n",
    "a = [[0 for _ in range(n)] for _ in range(n)]\n",
    "for i in range(n) : \n",
    "    a[i] = list(map(int, input().split()))\n",
    "d = dict({})\n",
    "for i in range(n) : \n",
    "    for j in range(n) : \n",
    "        if i == 0 : \n",
    "            d[a[i][j]] = i + 1\n",
    "        else : \n",
    "            if a[i][j] in d and d[a[i][j]] == i:\n",
    "                d[a[i][j]] = i + 1\n",
    "b = []\n",
    "for key in d.keys() : \n",
    "    if d[key] == n : \n",
    "        b.append(key)\n",
    "if len(b) != 0 : \n",
    "    b.sort()\n",
    "    for x in b : \n",
    "        print(x, end = ' ')\n",
    "else : \n",
    "    print('NOT FOUND')"
   ]
  }
 ],
 "metadata": {
  "kernelspec": {
   "display_name": "Python 3 (ipykernel)",
   "language": "python",
   "name": "python3"
  },
  "language_info": {
   "codemirror_mode": {
    "name": "ipython",
    "version": 3
   },
   "file_extension": ".py",
   "mimetype": "text/x-python",
   "name": "python",
   "nbconvert_exporter": "python",
   "pygments_lexer": "ipython3",
   "version": "3.10.9"
  }
 },
 "nbformat": 4,
 "nbformat_minor": 5
}
