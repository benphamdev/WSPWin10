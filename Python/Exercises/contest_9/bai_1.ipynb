{
 "cells": [
  {
   "cell_type": "code",
   "execution_count": 1,
   "id": "4755a003",
   "metadata": {},
   "outputs": [
    {
     "ename": "SyntaxError",
     "evalue": "incomplete input (3695336075.py, line 4)",
     "output_type": "error",
     "traceback": [
      "\u001b[1;36m  Cell \u001b[1;32mIn[1], line 4\u001b[1;36m\u001b[0m\n\u001b[1;33m    for i in range(2, isqrt(n) + 1) :\u001b[0m\n\u001b[1;37m                                      ^\u001b[0m\n\u001b[1;31mSyntaxError\u001b[0m\u001b[1;31m:\u001b[0m incomplete input\n"
     ]
    }
   ],
   "source": [
    "from math import *\n",
    "# prime = [0] * (10**9 + 1)\n",
    "# def sieve() : \n",
    "#     prime[0] = prime[1] = 1\n",
    "#     for i in range(2, isqrt(10 ** 9 + 1) + 1) :\n",
    "#         if prime[i] == 0 :\n",
    "#             for j in range(i * i, 10 ** 9 + 1, i) :\n",
    "#                 prime[j] = 1\n",
    "def isPrime(n) : \n",
    "    if n < 2 : return False\n",
    "    for i in range(2, isqrt(n) + 1) : \n",
    "        if n % i == 0 : \n",
    "            return False\n",
    "    return True\n",
    "if __name__ == '__main__' : \n",
    "    # sieve()\n",
    "    n, m = map(int, input().split())\n",
    "    a = [[0 for _ in range(m)] for _ in range(n)]\n",
    "    for i in range(n) : \n",
    "        a[i] = list(map(int, input().split()))\n",
    "        b = [x for x in a[i] if isPrime(x) == True]\n",
    "        for x in b : \n",
    "            print(x, end = ' ')\n",
    "        print()"
   ]
  }
 ],
 "metadata": {
  "kernelspec": {
   "display_name": "Python 3 (ipykernel)",
   "language": "python",
   "name": "python3"
  },
  "language_info": {
   "codemirror_mode": {
    "name": "ipython",
    "version": 3
   },
   "file_extension": ".py",
   "mimetype": "text/x-python",
   "name": "python",
   "nbconvert_exporter": "python",
   "pygments_lexer": "ipython3",
   "version": "3.10.9"
  }
 },
 "nbformat": 4,
 "nbformat_minor": 5
}
