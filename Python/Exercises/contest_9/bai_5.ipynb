{
 "cells": [
  {
   "cell_type": "code",
   "execution_count": null,
   "id": "f7589cdc",
   "metadata": {},
   "outputs": [],
   "source": [
    "n = int(input())\n",
    "a = [[0 for _ in range(n)] for _ in range(n)]\n",
    "for i in range(n) : \n",
    "    a[i] = list(map(int, input().split()))\n",
    "\n",
    "print('Pattern 1: ')\n",
    "b = [[row[i] for row in a] for i in range(n)]\n",
    "for i in range(n) : \n",
    "    for j in range(n) : \n",
    "        print(b[i][j], end = ' ')\n",
    "    print()\n",
    "\n",
    "print('Pattern 2: ')\n",
    "for i in range(n - 1, -1, -1) : \n",
    "    for j in range(n - 1, -1, -1) : \n",
    "        print(a[i][j], end = ' ')\n",
    "    print()\n",
    "\n",
    "print('Pattern 3: ')\n",
    "d = [[row[i] for row in a] for i in range(n - 1, -1, -1)]\n",
    "for i in range(n) : \n",
    "    for j in range(n) : \n",
    "        print(d[i][j], end = ' ')\n",
    "    print()\n",
    "\n",
    "print('Pattern 4: ')\n",
    "e = [[a[i][j] for j in range(n - 1, -1, -1)] for i in range(n)]\n",
    "for i in range(n) : \n",
    "    for j in range(n) : \n",
    "        print(e[i][j], end = ' ')\n",
    "    print()"
   ]
  }
 ],
 "metadata": {
  "kernelspec": {
   "display_name": "Python 3 (ipykernel)",
   "language": "python",
   "name": "python3"
  },
  "language_info": {
   "codemirror_mode": {
    "name": "ipython",
    "version": 3
   },
   "file_extension": ".py",
   "mimetype": "text/x-python",
   "name": "python",
   "nbconvert_exporter": "python",
   "pygments_lexer": "ipython3",
   "version": "3.10.9"
  }
 },
 "nbformat": 4,
 "nbformat_minor": 5
}
