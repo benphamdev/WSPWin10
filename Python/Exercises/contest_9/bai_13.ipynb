{
 "cells": [
  {
   "cell_type": "code",
   "execution_count": null,
   "id": "e733e0ff",
   "metadata": {},
   "outputs": [],
   "source": [
    "n, m, p = map(int, input().split())\n",
    "a, b = [0] * n, [0] * m\n",
    "for i in range(n) : \n",
    "    a[i] = list(map(int, input().split()))\n",
    "for i in range(m) : \n",
    "    b[i] = list(map(int, input().split()))\n",
    "c = [[0 for _ in range(p)] for _ in range(n)]\n",
    "for i in range(n) : \n",
    "    for j in range(p) : \n",
    "        for k in range(m) : \n",
    "            c[i][j] += a[i][k] * b[k][j]\n",
    "for i in range(n) : \n",
    "    for j in range(p) : \n",
    "        print(c[i][j], end = ' ')\n",
    "    print()"
   ]
  }
 ],
 "metadata": {
  "kernelspec": {
   "display_name": "Python 3 (ipykernel)",
   "language": "python",
   "name": "python3"
  },
  "language_info": {
   "codemirror_mode": {
    "name": "ipython",
    "version": 3
   },
   "file_extension": ".py",
   "mimetype": "text/x-python",
   "name": "python",
   "nbconvert_exporter": "python",
   "pygments_lexer": "ipython3",
   "version": "3.10.9"
  }
 },
 "nbformat": 4,
 "nbformat_minor": 5
}
