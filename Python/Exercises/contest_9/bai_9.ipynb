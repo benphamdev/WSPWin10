{
 "cells": [
  {
   "cell_type": "code",
   "execution_count": null,
   "id": "ea781139",
   "metadata": {},
   "outputs": [],
   "source": [
    "from math import * \n",
    "def nt(n) : \n",
    "    if n < 2 : return False\n",
    "    for i in range(2, isqrt(n) + 1) : \n",
    "        if n % i == 0 : \n",
    "            return False\n",
    "    return True\n",
    "\n",
    "if __name__ == '__main__' : \n",
    "    n = int(input())\n",
    "    a = []\n",
    "    for i in range(n) : \n",
    "        b = list(map(int, input().split()))\n",
    "        a.append(b)\n",
    "    cnt = 0\n",
    "    for i in range(n) : \n",
    "        if nt(a[i][i]) : cnt += 1\n",
    "        if nt(a[i][n - i - 1]) : cnt += 1\n",
    "    if n % 2 == 1 :\n",
    "        if nt(a[n//2][n//2]): cnt -= 1\n",
    "    print(cnt)"
   ]
  }
 ],
 "metadata": {
  "kernelspec": {
   "display_name": "Python 3 (ipykernel)",
   "language": "python",
   "name": "python3"
  },
  "language_info": {
   "codemirror_mode": {
    "name": "ipython",
    "version": 3
   },
   "file_extension": ".py",
   "mimetype": "text/x-python",
   "name": "python",
   "nbconvert_exporter": "python",
   "pygments_lexer": "ipython3",
   "version": "3.10.9"
  }
 },
 "nbformat": 4,
 "nbformat_minor": 5
}
