{
 "cells": [
  {
   "cell_type": "code",
   "execution_count": 3,
   "id": "a7994bfb",
   "metadata": {},
   "outputs": [
    {
     "name": "stdout",
     "output_type": "stream",
     "text": [
      "666\n",
      "True\n"
     ]
    }
   ],
   "source": [
    "from math import *\n",
    "\n",
    "def sumDig(n) :\n",
    "    sum = 0\n",
    "    while n :\n",
    "        sum += n % 10\n",
    "        n //= 10\n",
    "    return sum\n",
    "\n",
    "def smith(n) :\n",
    "    sum = 0\n",
    "    ans = sumDig(n)\n",
    "    for i in range(2, isqrt(n) + 1) :\n",
    "        if n % i == 0 :\n",
    "            while (n % i == 0) : \n",
    "                sum += sumDig(i)\n",
    "                n //= i\n",
    "    if sum == 0 :\n",
    "        return 0\n",
    "    if n != 1 : \n",
    "        sum += sumDig(n)\n",
    "    return sum == ans\n",
    "\n",
    "if __name__ == '__main__' :\n",
    "    n = int(input())\n",
    "    print(\"YES\" if smith(n) else \"NO\")"
   ]
  },
  {
   "cell_type": "code",
   "execution_count": null,
   "id": "98447ccf",
   "metadata": {},
   "outputs": [],
   "source": []
  }
 ],
 "metadata": {
  "kernelspec": {
   "display_name": "Python 3 (ipykernel)",
   "language": "python",
   "name": "python3"
  },
  "language_info": {
   "codemirror_mode": {
    "name": "ipython",
    "version": 3
   },
   "file_extension": ".py",
   "mimetype": "text/x-python",
   "name": "python",
   "nbconvert_exporter": "python",
   "pygments_lexer": "ipython3",
   "version": "3.10.9"
  }
 },
 "nbformat": 4,
 "nbformat_minor": 5
}
