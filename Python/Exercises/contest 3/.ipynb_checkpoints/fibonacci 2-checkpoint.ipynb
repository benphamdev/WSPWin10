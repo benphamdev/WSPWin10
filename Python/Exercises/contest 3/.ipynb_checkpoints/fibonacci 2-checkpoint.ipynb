{
 "cells": [
  {
   "cell_type": "code",
   "execution_count": 4,
   "id": "e61660c4",
   "metadata": {},
   "outputs": [
    {
     "name": "stdout",
     "output_type": "stream",
     "text": [
      "18636\n",
      "NO\n"
     ]
    }
   ],
   "source": [
    "def fibo(n) :\n",
    "    if n == 0 or n == 1 : return True\n",
    "    fn1, fn2 = 1, 0\n",
    "    for i in range(2, 93) :\n",
    "        fn = fn1 + fn2\n",
    "        if fn == n : return True\n",
    "        fn2, fn1 = fn1, fn\n",
    "    return False\n",
    "\n",
    "if __name__ == '__main__' :\n",
    "    n = int(input())\n",
    "    print(\"YES\" if fibo(n) else \"NO\")"
   ]
  }
 ],
 "metadata": {
  "kernelspec": {
   "display_name": "Python 3 (ipykernel)",
   "language": "python",
   "name": "python3"
  },
  "language_info": {
   "codemirror_mode": {
    "name": "ipython",
    "version": 3
   },
   "file_extension": ".py",
   "mimetype": "text/x-python",
   "name": "python",
   "nbconvert_exporter": "python",
   "pygments_lexer": "ipython3",
   "version": "3.10.9"
  }
 },
 "nbformat": 4,
 "nbformat_minor": 5
}
