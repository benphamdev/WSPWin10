{
 "cells": [
  {
   "cell_type": "code",
   "execution_count": 10,
   "id": "2b102501",
   "metadata": {},
   "outputs": [
    {
     "name": "stdout",
     "output_type": "stream",
     "text": [
      "2\n",
      "2\n",
      "2\n",
      "5\n",
      "5\n"
     ]
    }
   ],
   "source": [
    "from math import *\n",
    "\n",
    "def prime(n) :\n",
    "    mx = 1\n",
    "    for i in range(2, isqrt(n) + 1) : \n",
    "        if n % i == 0 :\n",
    "            mx = i\n",
    "            while (n % i == 0) :\n",
    "                n //= i\n",
    "    if (n != 1) : \n",
    "        mx = n\n",
    "    return mx\n",
    "\n",
    "if __name__ == '__main__' :\n",
    "    n = int(input())\n",
    "    while n:\n",
    "        k = int(input())\n",
    "        print(prime(k))\n",
    "        n -= 1"
   ]
  }
 ],
 "metadata": {
  "kernelspec": {
   "display_name": "Python 3 (ipykernel)",
   "language": "python",
   "name": "python3"
  },
  "language_info": {
   "codemirror_mode": {
    "name": "ipython",
    "version": 3
   },
   "file_extension": ".py",
   "mimetype": "text/x-python",
   "name": "python",
   "nbconvert_exporter": "python",
   "pygments_lexer": "ipython3",
   "version": "3.10.9"
  }
 },
 "nbformat": 4,
 "nbformat_minor": 5
}
