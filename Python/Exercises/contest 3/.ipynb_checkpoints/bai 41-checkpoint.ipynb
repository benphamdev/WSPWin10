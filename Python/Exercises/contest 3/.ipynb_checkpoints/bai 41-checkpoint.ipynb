{
 "cells": [
  {
   "cell_type": "code",
   "execution_count": 18,
   "id": "2d65042b",
   "metadata": {},
   "outputs": [
    {
     "name": "stdout",
     "output_type": "stream",
     "text": [
      "36788766\n",
      "678876 678876 6 3\n",
      "YES\n"
     ]
    }
   ],
   "source": [
    "def pralidrome(n) :\n",
    "    rev, rrev, mu, r = 0, 0, 0, n % 10\n",
    "    n //= 10\n",
    "    while n >= 10:\n",
    "        rev = rev * 10 + n % 10\n",
    "        rrev = (n % 10) * 10 ** (mu) + rrev \n",
    "        mu += 1\n",
    "        n //= 10\n",
    "#     print(rrev, rev, r, n)\n",
    "    return (r == n * 2 or n == r * 2) and rev == rrev\n",
    "\n",
    "if __name__ == '__main__' :\n",
    "    n = int(input())\n",
    "    print(\"YES\" if pralidrome(n) else \"NO\")"
   ]
  }
 ],
 "metadata": {
  "kernelspec": {
   "display_name": "Python 3 (ipykernel)",
   "language": "python",
   "name": "python3"
  },
  "language_info": {
   "codemirror_mode": {
    "name": "ipython",
    "version": 3
   },
   "file_extension": ".py",
   "mimetype": "text/x-python",
   "name": "python",
   "nbconvert_exporter": "python",
   "pygments_lexer": "ipython3",
   "version": "3.10.9"
  }
 },
 "nbformat": 4,
 "nbformat_minor": 5
}
