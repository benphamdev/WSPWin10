{
 "cells": [
  {
   "cell_type": "code",
   "execution_count": 4,
   "id": "92ffe9d4",
   "metadata": {},
   "outputs": [
    {
     "name": "stdout",
     "output_type": "stream",
     "text": [
      "1 400\n",
      "161 "
     ]
    }
   ],
   "source": [
    "def check(n) :\n",
    "    c6, rev, sum, tmp = 0, 0, 0, n\n",
    "    while n :\n",
    "        r = n % 10\n",
    "        if r == 6 : c6 += 1\n",
    "        sum += r\n",
    "        rev = rev * 10 + r\n",
    "        n //= 10\n",
    "    return c6 != 0 and sum % 10 == 8 and rev == tmp \n",
    "\n",
    "if __name__ == '__main__' :\n",
    "    a, b = map(int, input().split())\n",
    "    cnt = 0\n",
    "    for i in range(a, b + 1) :\n",
    "        if check(i) :\n",
    "            print(i, end = ' ')"
   ]
  }
 ],
 "metadata": {
  "kernelspec": {
   "display_name": "Python 3 (ipykernel)",
   "language": "python",
   "name": "python3"
  },
  "language_info": {
   "codemirror_mode": {
    "name": "ipython",
    "version": 3
   },
   "file_extension": ".py",
   "mimetype": "text/x-python",
   "name": "python",
   "nbconvert_exporter": "python",
   "pygments_lexer": "ipython3",
   "version": "3.10.9"
  }
 },
 "nbformat": 4,
 "nbformat_minor": 5
}
