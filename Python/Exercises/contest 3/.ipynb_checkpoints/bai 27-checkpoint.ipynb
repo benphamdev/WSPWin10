{
 "cells": [
  {
   "cell_type": "code",
   "execution_count": 9,
   "id": "31baef3e",
   "metadata": {},
   "outputs": [
    {
     "name": "stdout",
     "output_type": "stream",
     "text": [
      "1 1000\n",
      "66 222 252 282 414 434 444 474 494 525 555 585 595 606 616 636 646 666 696 777 828 858 868 888 969 "
     ]
    }
   ],
   "source": [
    "from math import *\n",
    "def palidrome(n) :\n",
    "    rev = 0\n",
    "    tmp = n\n",
    "    while n :\n",
    "        rev = rev * 10 + n % 10\n",
    "        n //= 10\n",
    "    return rev == tmp\n",
    "\n",
    "def divisorPrime(n) :\n",
    "    cnt = 0\n",
    "    for i in range (2, isqrt(n) + 1) :\n",
    "        if n % i == 0 :\n",
    "            cnt += 1\n",
    "            if cnt >= 3 : return True\n",
    "            while n % i == 0 :\n",
    "                n //= i\n",
    "    if n != 1 : cnt += 1\n",
    "    return cnt >= 3\n",
    "\n",
    "if __name__ == '__main__' :\n",
    "    a, b = map(int, input().split())\n",
    "    flag = True\n",
    "    for i in range(a, b + 1) :\n",
    "        if(palidrome(i) and divisorPrime(i)) : \n",
    "            print(i, end = ' ')\n",
    "            flag = False\n",
    "    if flag: print(-1) "
   ]
  }
 ],
 "metadata": {
  "kernelspec": {
   "display_name": "Python 3 (ipykernel)",
   "language": "python",
   "name": "python3"
  },
  "language_info": {
   "codemirror_mode": {
    "name": "ipython",
    "version": 3
   },
   "file_extension": ".py",
   "mimetype": "text/x-python",
   "name": "python",
   "nbconvert_exporter": "python",
   "pygments_lexer": "ipython3",
   "version": "3.10.9"
  }
 },
 "nbformat": 4,
 "nbformat_minor": 5
}
