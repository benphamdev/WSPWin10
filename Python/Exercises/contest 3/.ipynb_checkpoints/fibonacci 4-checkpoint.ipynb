{
 "cells": [
  {
   "cell_type": "code",
   "execution_count": 4,
   "id": "9c8f6ff1",
   "metadata": {},
   "outputs": [
    {
     "name": "stdout",
     "output_type": "stream",
     "text": [
      "114\n",
      "2 3 5 11 17 23 41 53 67 71 101 107 113 "
     ]
    }
   ],
   "source": [
    "from math import *\n",
    "\n",
    "def prime(n) :\n",
    "    for i in range(2, isqrt(n) + 1) :\n",
    "        if n % i == 0 :\n",
    "            return False\n",
    "    return n > 1\n",
    "\n",
    "def sumDig(n) :\n",
    "    sum = 0\n",
    "    while n : \n",
    "        sum += n % 10\n",
    "        n //= 10\n",
    "    return sum\n",
    "\n",
    "def fibo(n) :\n",
    "    fn1, fn2 = 1, 1\n",
    "    for i in range(2, 93) :\n",
    "        fn = fn1 + fn2\n",
    "        if fn == n : return True\n",
    "        fn2, fn1 = fn1, fn\n",
    "    return False\n",
    "\n",
    "if __name__ == '__main__' :\n",
    "    n = int(input())\n",
    "    for i in range(2, n) :\n",
    "        if prime(i) and fibo(sumDig(i)):\n",
    "            print(i, end = ' ')"
   ]
  }
 ],
 "metadata": {
  "kernelspec": {
   "display_name": "Python 3 (ipykernel)",
   "language": "python",
   "name": "python3"
  },
  "language_info": {
   "codemirror_mode": {
    "name": "ipython",
    "version": 3
   },
   "file_extension": ".py",
   "mimetype": "text/x-python",
   "name": "python",
   "nbconvert_exporter": "python",
   "pygments_lexer": "ipython3",
   "version": "3.10.9"
  }
 },
 "nbformat": 4,
 "nbformat_minor": 5
}
