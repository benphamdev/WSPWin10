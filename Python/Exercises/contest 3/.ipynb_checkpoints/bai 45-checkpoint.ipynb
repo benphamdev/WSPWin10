{
 "cells": [
  {
   "cell_type": "code",
   "execution_count": 10,
   "id": "db509dbe",
   "metadata": {},
   "outputs": [
    {
     "name": "stdout",
     "output_type": "stream",
     "text": [
      "33\n",
      "YES\n"
     ]
    }
   ],
   "source": [
    "def check(n) :\n",
    "    for i in range(1, n // 111 + 1) :\n",
    "        if (n - 111 * i) % 11 == 0 :\n",
    "            return True\n",
    "    return False\n",
    "\n",
    "if __name__ == '__main__' :\n",
    "    n = int(input())\n",
    "    print(\"YES\" if check(n) else \"NO\")"
   ]
  }
 ],
 "metadata": {
  "kernelspec": {
   "display_name": "Python 3 (ipykernel)",
   "language": "python",
   "name": "python3"
  },
  "language_info": {
   "codemirror_mode": {
    "name": "ipython",
    "version": 3
   },
   "file_extension": ".py",
   "mimetype": "text/x-python",
   "name": "python",
   "nbconvert_exporter": "python",
   "pygments_lexer": "ipython3",
   "version": "3.10.9"
  }
 },
 "nbformat": 4,
 "nbformat_minor": 5
}
