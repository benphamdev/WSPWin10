{
 "cells": [
  {
   "cell_type": "code",
   "execution_count": 3,
   "id": "b49886cb",
   "metadata": {},
   "outputs": [
    {
     "name": "stdout",
     "output_type": "stream",
     "text": [
      "12\n",
      "2^2 * 3^1"
     ]
    }
   ],
   "source": [
    "from math import *\n",
    "\n",
    "if __name__ == '__main__' :\n",
    "    n = int(input())\n",
    "    for i in range(2, isqrt(n) + 1) :\n",
    "        if n % i == 0 :\n",
    "            mu = 0\n",
    "            while n % i == 0 :\n",
    "                mu += 1\n",
    "                n //= i\n",
    "            print(i, mu, sep = '^', end = '')\n",
    "            if n != 1 : \n",
    "                print (' * ', end = '')\n",
    "    if n != 1 :\n",
    "        print (n, 1, sep = '^')\n"
   ]
  }
 ],
 "metadata": {
  "kernelspec": {
   "display_name": "Python 3 (ipykernel)",
   "language": "python",
   "name": "python3"
  },
  "language_info": {
   "codemirror_mode": {
    "name": "ipython",
    "version": 3
   },
   "file_extension": ".py",
   "mimetype": "text/x-python",
   "name": "python",
   "nbconvert_exporter": "python",
   "pygments_lexer": "ipython3",
   "version": "3.10.9"
  }
 },
 "nbformat": 4,
 "nbformat_minor": 5
}
