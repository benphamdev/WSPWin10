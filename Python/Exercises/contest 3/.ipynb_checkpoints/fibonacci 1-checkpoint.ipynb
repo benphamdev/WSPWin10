{
 "cells": [
  {
   "cell_type": "code",
   "execution_count": 3,
   "id": "697b5108",
   "metadata": {},
   "outputs": [
    {
     "name": "stdout",
     "output_type": "stream",
     "text": [
      "1\n",
      "1\n",
      "1\n"
     ]
    }
   ],
   "source": [
    "n = int(input())\n",
    "\n",
    "fn1, fn2 = 1, 1\n",
    "if n == 1 : \n",
    "    print (fn1)\n",
    "else:\n",
    "    print(fn1, fn2, sep = '\\n')\n",
    "for i in range(2, n) :\n",
    "    fn = fn1 + fn2\n",
    "    print(fn)\n",
    "    fn2, fn1 = fn1, fn"
   ]
  }
 ],
 "metadata": {
  "kernelspec": {
   "display_name": "Python 3 (ipykernel)",
   "language": "python",
   "name": "python3"
  },
  "language_info": {
   "codemirror_mode": {
    "name": "ipython",
    "version": 3
   },
   "file_extension": ".py",
   "mimetype": "text/x-python",
   "name": "python",
   "nbconvert_exporter": "python",
   "pygments_lexer": "ipython3",
   "version": "3.10.9"
  }
 },
 "nbformat": 4,
 "nbformat_minor": 5
}
