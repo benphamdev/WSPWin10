{
 "cells": [
  {
   "cell_type": "code",
   "execution_count": 7,
   "id": "982a70fe",
   "metadata": {},
   "outputs": [
    {
     "name": "stdout",
     "output_type": "stream",
     "text": [
      "100\n",
      "217\n"
     ]
    }
   ],
   "source": [
    "from math import *\n",
    "\n",
    "if __name__ == '__main__' :\n",
    "    n = int(input())\n",
    "    sum = 1\n",
    "    for i in range (2, isqrt(n) + 1) :\n",
    "        if n % i == 0 :\n",
    "            sum += i\n",
    "            if n // i != i :\n",
    "                sum += n // i\n",
    "    sum += n\n",
    "    print(sum)"
   ]
  }
 ],
 "metadata": {
  "kernelspec": {
   "display_name": "Python 3 (ipykernel)",
   "language": "python",
   "name": "python3"
  },
  "language_info": {
   "codemirror_mode": {
    "name": "ipython",
    "version": 3
   },
   "file_extension": ".py",
   "mimetype": "text/x-python",
   "name": "python",
   "nbconvert_exporter": "python",
   "pygments_lexer": "ipython3",
   "version": "3.10.9"
  }
 },
 "nbformat": 4,
 "nbformat_minor": 5
}
