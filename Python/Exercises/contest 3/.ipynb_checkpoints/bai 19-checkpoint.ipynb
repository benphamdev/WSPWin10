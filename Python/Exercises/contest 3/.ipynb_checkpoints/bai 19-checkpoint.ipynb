{
 "cells": [
  {
   "cell_type": "code",
   "execution_count": 1,
   "id": "c26a75a7",
   "metadata": {},
   "outputs": [
    {
     "ename": "SyntaxError",
     "evalue": "incomplete input (3525174092.py, line 7)",
     "output_type": "error",
     "traceback": [
      "\u001b[1;36m  Cell \u001b[1;32mIn[1], line 7\u001b[1;36m\u001b[0m\n\u001b[1;33m    while n % i == 0 :\u001b[0m\n\u001b[1;37m                      ^\u001b[0m\n\u001b[1;31mSyntaxError\u001b[0m\u001b[1;31m:\u001b[0m incomplete input\n"
     ]
    }
   ],
   "source": [
    "from math import *\n",
    "\n",
    "def prime(n) :\n",
    "    for i in range(2, isqrt(n) + 1) :\n",
    "        if (n % i == 0) :\n",
    "            mu = 0\n",
    "            while n % i == 0 :\n",
    "                mu += 1\n",
    "                n //= i\n",
    "            if mu < 2 : return False\n",
    "    if n != 1 : return False\n",
    "    return True\n",
    "\n",
    "if __name__ == '__main__' :\n",
    "    a, b = map(int, input().split())\n",
    "    for i in range(a, b + 1) :\n",
    "        if prime(i) :\n",
    "            print(i, end = ' ')"
   ]
  }
 ],
 "metadata": {
  "kernelspec": {
   "display_name": "Python 3 (ipykernel)",
   "language": "python",
   "name": "python3"
  },
  "language_info": {
   "codemirror_mode": {
    "name": "ipython",
    "version": 3
   },
   "file_extension": ".py",
   "mimetype": "text/x-python",
   "name": "python",
   "nbconvert_exporter": "python",
   "pygments_lexer": "ipython3",
   "version": "3.10.9"
  }
 },
 "nbformat": 4,
 "nbformat_minor": 5
}
