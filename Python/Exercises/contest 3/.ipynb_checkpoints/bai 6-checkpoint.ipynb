{
 "cells": [
  {
   "cell_type": "code",
   "execution_count": 10,
   "id": "97ee4f28",
   "metadata": {},
   "outputs": [
    {
     "name": "stdout",
     "output_type": "stream",
     "text": [
      "2345 6789\n",
      "15\n"
     ]
    }
   ],
   "source": [
    "from math import *\n",
    "\n",
    "def prime(n) :\n",
    "    for i in range (2, isqrt(n) + 1) :\n",
    "        if n % i == 0 :\n",
    "            return False\n",
    "    return n > 1\n",
    "\n",
    "def csnt(n) :\n",
    "    sum = 0\n",
    "    while n :\n",
    "        r = n % 10\n",
    "        if r != 2 and r != 5 and r != 7 and r != 3 :\n",
    "            return False\n",
    "        sum += r\n",
    "        n //= 10\n",
    "    return prime(sum)\n",
    "\n",
    "if __name__ == '__main__' :\n",
    "    a, b = map(int, input().split())\n",
    "    cnt = 0\n",
    "    for i in range(a, b + 1) :\n",
    "        if csnt(i) and prime(i) :\n",
    "            cnt += 1\n",
    "    print(cnt)"
   ]
  }
 ],
 "metadata": {
  "kernelspec": {
   "display_name": "Python 3 (ipykernel)",
   "language": "python",
   "name": "python3"
  },
  "language_info": {
   "codemirror_mode": {
    "name": "ipython",
    "version": 3
   },
   "file_extension": ".py",
   "mimetype": "text/x-python",
   "name": "python",
   "nbconvert_exporter": "python",
   "pygments_lexer": "ipython3",
   "version": "3.10.9"
  }
 },
 "nbformat": 4,
 "nbformat_minor": 5
}
