{
 "cells": [
  {
   "cell_type": "code",
   "execution_count": null,
   "id": "ec408b12",
   "metadata": {},
   "outputs": [],
   "source": [
    "from math import *\n",
    "\n",
    "if __name__ == '__main__' :\n",
    "    a, b = map(int, input().split())\n",
    "    \n",
    "    a, b = ceil(sqrt(a)) , floor(sqrt(b))\n",
    "    \n",
    "    print(b - a + 1)"
   ]
  }
 ],
 "metadata": {
  "kernelspec": {
   "display_name": "Python 3 (ipykernel)",
   "language": "python",
   "name": "python3"
  },
  "language_info": {
   "codemirror_mode": {
    "name": "ipython",
    "version": 3
   },
   "file_extension": ".py",
   "mimetype": "text/x-python",
   "name": "python",
   "nbconvert_exporter": "python",
   "pygments_lexer": "ipython3",
   "version": "3.10.9"
  }
 },
 "nbformat": 4,
 "nbformat_minor": 5
}
