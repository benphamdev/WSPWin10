{
 "cells": [
  {
   "cell_type": "code",
   "execution_count": 4,
   "id": "b1eb2768",
   "metadata": {},
   "outputs": [
    {
     "name": "stdout",
     "output_type": "stream",
     "text": [
      "28 3\n",
      "7\n"
     ]
    }
   ],
   "source": [
    "from math import *\n",
    "\n",
    "def primeK(n, k) :\n",
    "    for i in range(2, isqrt(n) + 1) :\n",
    "        if n % i == 0 :\n",
    "            while n % i == 0 :\n",
    "                k -= 1\n",
    "                if k == 0 : \n",
    "                    return i\n",
    "                elif k < 0 : \n",
    "                    return -1\n",
    "                n //= i\n",
    "    if n != 1 and k == 1 : return n\n",
    "    return -1\n",
    "if __name__ == '__main__' :\n",
    "    n, k = map(int, input().split())\n",
    "    print(primeK(n, k))"
   ]
  }
 ],
 "metadata": {
  "kernelspec": {
   "display_name": "Python 3 (ipykernel)",
   "language": "python",
   "name": "python3"
  },
  "language_info": {
   "codemirror_mode": {
    "name": "ipython",
    "version": 3
   },
   "file_extension": ".py",
   "mimetype": "text/x-python",
   "name": "python",
   "nbconvert_exporter": "python",
   "pygments_lexer": "ipython3",
   "version": "3.10.9"
  }
 },
 "nbformat": 4,
 "nbformat_minor": 5
}
