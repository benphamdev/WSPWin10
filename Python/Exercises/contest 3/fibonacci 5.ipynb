{
 "cells": [
  {
   "cell_type": "code",
   "execution_count": 1,
   "id": "fb45a701",
   "metadata": {},
   "outputs": [
    {
     "name": "stdout",
     "output_type": "stream",
     "text": [
      "5\n",
      "89\n",
      "YES\n",
      "754\n",
      "NO\n",
      "1\n",
      "NO\n",
      "0\n",
      "NO\n",
      "1\n",
      "NO\n"
     ]
    }
   ],
   "source": [
    "def fibo(n) :\n",
    "    if n == 0 or n == 1 : return True\n",
    "    fn1, fn2 = 1, 1\n",
    "    for i in range(2, 93) :\n",
    "        fn = fn1 + fn2\n",
    "        if fn == n : return True\n",
    "        fn1, fn2 = fn, fn1\n",
    "    return False\n",
    "\n",
    "if __name__ == '__main__' :\n",
    "    n = int(input())\n",
    "    for i in range(n) :\n",
    "        k = int(input())\n",
    "        print(\"YES\" if fibo(k) else \"NO\")"
   ]
  }
 ],
 "metadata": {
  "kernelspec": {
   "display_name": "Python 3 (ipykernel)",
   "language": "python",
   "name": "python3"
  },
  "language_info": {
   "codemirror_mode": {
    "name": "ipython",
    "version": 3
   },
   "file_extension": ".py",
   "mimetype": "text/x-python",
   "name": "python",
   "nbconvert_exporter": "python",
   "pygments_lexer": "ipython3",
   "version": "3.10.9"
  }
 },
 "nbformat": 4,
 "nbformat_minor": 5
}
