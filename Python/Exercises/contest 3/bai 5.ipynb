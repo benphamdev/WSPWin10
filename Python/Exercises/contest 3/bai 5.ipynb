{
 "cells": [
  {
   "cell_type": "code",
   "execution_count": 5,
   "id": "2cda5e78",
   "metadata": {},
   "outputs": [
    {
     "name": "stdout",
     "output_type": "stream",
     "text": [
      "2\n",
      "6\n",
      "3 3\n",
      "10\n",
      "3 7\n",
      "5 5\n"
     ]
    }
   ],
   "source": [
    "from math import *\n",
    "\n",
    "def prime(n) :\n",
    "    for i in range(2, isqrt(n) + 1) :\n",
    "        if n % i == 0 :\n",
    "            return False\n",
    "    return n > 1\n",
    "\n",
    "if __name__ == '__main__' :\n",
    "    t = int(input())\n",
    "    while t :\n",
    "        n = int(input())\n",
    "        for i in range(2, n // 2 + 1) :\n",
    "            if prime(i) and prime(n - i) :\n",
    "                print (i, n - i)\n",
    "        t -= 1"
   ]
  }
 ],
 "metadata": {
  "kernelspec": {
   "display_name": "Python 3 (ipykernel)",
   "language": "python",
   "name": "python3"
  },
  "language_info": {
   "codemirror_mode": {
    "name": "ipython",
    "version": 3
   },
   "file_extension": ".py",
   "mimetype": "text/x-python",
   "name": "python",
   "nbconvert_exporter": "python",
   "pygments_lexer": "ipython3",
   "version": "3.10.9"
  }
 },
 "nbformat": 4,
 "nbformat_minor": 5
}
