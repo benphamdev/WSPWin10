{
 "cells": [
  {
   "cell_type": "code",
   "execution_count": 9,
   "id": "2866990b",
   "metadata": {},
   "outputs": [
    {
     "name": "stdout",
     "output_type": "stream",
     "text": [
      "200\n",
      "2 3 5 7 11 13 17 19 23 29 37 47 59 67 79 89 101 103 107 109 113 127 137 139 149 157 167 179 199 \n",
      "29\n"
     ]
    }
   ],
   "source": [
    "from math import *\n",
    "\n",
    "def prime(n) :\n",
    "    for i in range(2, isqrt(n) + 1) :\n",
    "        if n % i == 0 :\n",
    "            return False\n",
    "    return n > 1\n",
    "\n",
    "def maxDig(n) :\n",
    "    r = n % 10\n",
    "    while n :\n",
    "        if n % 10 > r : return False\n",
    "        n //= 10\n",
    "    return True\n",
    "\n",
    "if __name__ == '__main__' :\n",
    "    n = int(input())\n",
    "    cnt = 0\n",
    "    for i in range(2, n + 1) :\n",
    "        if(prime(i) and maxDig(i)) :\n",
    "            print(i, end = ' ')\n",
    "            cnt += 1\n",
    "    print('')\n",
    "    print(cnt)"
   ]
  }
 ],
 "metadata": {
  "kernelspec": {
   "display_name": "Python 3 (ipykernel)",
   "language": "python",
   "name": "python3"
  },
  "language_info": {
   "codemirror_mode": {
    "name": "ipython",
    "version": 3
   },
   "file_extension": ".py",
   "mimetype": "text/x-python",
   "name": "python",
   "nbconvert_exporter": "python",
   "pygments_lexer": "ipython3",
   "version": "3.10.9"
  }
 },
 "nbformat": 4,
 "nbformat_minor": 5
}
