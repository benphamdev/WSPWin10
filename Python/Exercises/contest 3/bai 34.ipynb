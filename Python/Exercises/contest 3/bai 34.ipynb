{
 "cells": [
  {
   "cell_type": "code",
   "execution_count": 17,
   "id": "59dab76b",
   "metadata": {},
   "outputs": [
    {
     "name": "stdout",
     "output_type": "stream",
     "text": [
      "2 3 5 4\n",
      "30\n",
      "1020\n"
     ]
    }
   ],
   "source": [
    "def gcd(a, b) :\n",
    "    while b :\n",
    "        a, b = b, a % b\n",
    "    return a\n",
    "\n",
    "def lcm(a, b) :\n",
    "    return a * b // gcd(a, b)\n",
    "\n",
    "def numDig(n) :\n",
    "    cnt = 0\n",
    "    while n :\n",
    "        cnt += 1\n",
    "        n //= 10\n",
    "    return cnt\n",
    "\n",
    "if __name__ == '__main__' :\n",
    "    x, y, z, n = map(int, input().split())\n",
    "    k = lcm(lcm(x, y), z)\n",
    "    d = numDig(k)\n",
    "    if d > n : print(-1)\n",
    "    else :\n",
    "        print((10 ** (n - 1) // k + 1) * k)"
   ]
  }
 ],
 "metadata": {
  "kernelspec": {
   "display_name": "Python 3 (ipykernel)",
   "language": "python",
   "name": "python3"
  },
  "language_info": {
   "codemirror_mode": {
    "name": "ipython",
    "version": 3
   },
   "file_extension": ".py",
   "mimetype": "text/x-python",
   "name": "python",
   "nbconvert_exporter": "python",
   "pygments_lexer": "ipython3",
   "version": "3.10.9"
  }
 },
 "nbformat": 4,
 "nbformat_minor": 5
}
