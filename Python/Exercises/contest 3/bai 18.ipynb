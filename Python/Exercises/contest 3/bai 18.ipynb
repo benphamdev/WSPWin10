{
 "cells": [
  {
   "cell_type": "code",
   "execution_count": 1,
   "id": "bf3c9a62",
   "metadata": {},
   "outputs": [
    {
     "name": "stdout",
     "output_type": "stream",
     "text": [
      "4 50\n",
      "4 8 9 12 16 18 20 24 25 27 28 32 36 40 44 45 48 49 50 "
     ]
    }
   ],
   "source": [
    "from math import *\n",
    "\n",
    "def prime(n) :\n",
    "    for i in range(2, isqrt(n) + 1) :\n",
    "        if n % i == 0 :\n",
    "            mu = 0\n",
    "            while n % i == 0 :\n",
    "                mu += 1\n",
    "                n //= i\n",
    "            if mu >= 2 : return True\n",
    "    return False\n",
    "\n",
    "if __name__ == '__main__' :\n",
    "    a, b = map(int, input().split())\n",
    "    for i in range(a, b + 1) :\n",
    "        if (prime(i)) :\n",
    "            print(i, end = ' ')\n"
   ]
  }
 ],
 "metadata": {
  "kernelspec": {
   "display_name": "Python 3 (ipykernel)",
   "language": "python",
   "name": "python3"
  },
  "language_info": {
   "codemirror_mode": {
    "name": "ipython",
    "version": 3
   },
   "file_extension": ".py",
   "mimetype": "text/x-python",
   "name": "python",
   "nbconvert_exporter": "python",
   "pygments_lexer": "ipython3",
   "version": "3.10.9"
  }
 },
 "nbformat": 4,
 "nbformat_minor": 5
}
