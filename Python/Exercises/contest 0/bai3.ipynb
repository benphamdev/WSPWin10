{
 "cells": [
  {
   "cell_type": "code",
   "execution_count": 4,
   "id": "caef1ab1",
   "metadata": {
    "scrolled": true
   },
   "outputs": [
    {
     "name": "stdout",
     "output_type": "stream",
     "text": [
      "1 2 3 4\n",
      "2,3,1,4\n",
      "10\n",
      "11\n"
     ]
    }
   ],
   "source": [
    "x, y, z, t = map(int, input().split())\n",
    "print(y, z, x, t, sep = ',')\n",
    "print(x + y + z + t, x - y + z * t, sep = '\\n')"
   ]
  }
 ],
 "metadata": {
  "kernelspec": {
   "display_name": "Python 3 (ipykernel)",
   "language": "python",
   "name": "python3"
  },
  "language_info": {
   "codemirror_mode": {
    "name": "ipython",
    "version": 3
   },
   "file_extension": ".py",
   "mimetype": "text/x-python",
   "name": "python",
   "nbconvert_exporter": "python",
   "pygments_lexer": "ipython3",
   "version": "3.10.9"
  }
 },
 "nbformat": 4,
 "nbformat_minor": 5
}
