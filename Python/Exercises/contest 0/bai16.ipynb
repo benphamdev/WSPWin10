{
 "cells": [
  {
   "cell_type": "code",
   "execution_count": 8,
   "id": "29a4a280",
   "metadata": {},
   "outputs": [
    {
     "name": "stdout",
     "output_type": "stream",
     "text": [
      "1 2 3 4\n",
      "1 2 3 4\n",
      "\n",
      "2--3--1--4\n",
      "\n",
      "2,6,12,20\n",
      "\n",
      "KET THUC !!\n"
     ]
    }
   ],
   "source": [
    "x, y, z, t = map(int, input().split())\n",
    "print(x, y, z, t, sep = \"  \", end = '\\n\\n')\n",
    "print(y, z, x, t, sep = '--', end = '\\n\\n')\n",
    "print(2 * x, 3 * y, 4 * z, 5 * t, sep = ',', end = '\\n\\n')\n",
    "print(\"KET THUC !!\")"
   ]
  }
 ],
 "metadata": {
  "kernelspec": {
   "display_name": "Python 3 (ipykernel)",
   "language": "python",
   "name": "python3"
  },
  "language_info": {
   "codemirror_mode": {
    "name": "ipython",
    "version": 3
   },
   "file_extension": ".py",
   "mimetype": "text/x-python",
   "name": "python",
   "nbconvert_exporter": "python",
   "pygments_lexer": "ipython3",
   "version": "3.10.9"
  }
 },
 "nbformat": 4,
 "nbformat_minor": 5
}
