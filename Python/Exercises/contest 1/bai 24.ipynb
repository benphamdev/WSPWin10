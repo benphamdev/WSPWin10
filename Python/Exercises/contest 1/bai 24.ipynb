{
 "cells": [
  {
   "cell_type": "code",
   "execution_count": 2,
   "id": "ef674f92",
   "metadata": {},
   "outputs": [
    {
     "name": "stdout",
     "output_type": "stream",
     "text": [
      "832 56 273\n",
      "658\n"
     ]
    }
   ],
   "source": [
    "d1, d2, d3 = map(int, input().split())\n",
    "\n",
    "print(min(d1 + d3 + d2, 2 * (d1 + d2), 2 * (d1 + d3), 2 * (d2 + d3)))"
   ]
  }
 ],
 "metadata": {
  "kernelspec": {
   "display_name": "Python 3 (ipykernel)",
   "language": "python",
   "name": "python3"
  },
  "language_info": {
   "codemirror_mode": {
    "name": "ipython",
    "version": 3
   },
   "file_extension": ".py",
   "mimetype": "text/x-python",
   "name": "python",
   "nbconvert_exporter": "python",
   "pygments_lexer": "ipython3",
   "version": "3.10.9"
  }
 },
 "nbformat": 4,
 "nbformat_minor": 5
}
