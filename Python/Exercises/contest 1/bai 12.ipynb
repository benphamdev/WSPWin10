{
 "cells": [
  {
   "cell_type": "code",
   "execution_count": null,
   "id": "8cb6d9bf",
   "metadata": {},
   "outputs": [],
   "source": [
    "m, y = map(int, input().split())\n",
    "\n",
    "if(m < 1 or m > 12 or y <= 0) : \n",
    "    print(\"INVALID\")\n",
    "else :\n",
    "    if m == 1 or m == 3 or m == 5 or m == 7 or m == 8 or m == 10 or m == 12 : \n",
    "        print(31)\n",
    "    elif m == 2 : \n",
    "        if y % 4 == 0 and y % 100 != 0 or y % 400 == 0 :\n",
    "            print(29)\n",
    "        else : \n",
    "            print(28)\n",
    "    else : \n",
    "        print(30)"
   ]
  }
 ],
 "metadata": {
  "kernelspec": {
   "display_name": "Python 3 (ipykernel)",
   "language": "python",
   "name": "python3"
  },
  "language_info": {
   "codemirror_mode": {
    "name": "ipython",
    "version": 3
   },
   "file_extension": ".py",
   "mimetype": "text/x-python",
   "name": "python",
   "nbconvert_exporter": "python",
   "pygments_lexer": "ipython3",
   "version": "3.10.9"
  }
 },
 "nbformat": 4,
 "nbformat_minor": 5
}
