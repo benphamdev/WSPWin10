{
 "cells": [
  {
   "cell_type": "code",
   "execution_count": 6,
   "id": "11a697db",
   "metadata": {},
   "outputs": [
    {
     "name": "stdout",
     "output_type": "stream",
     "text": [
      "1 -2 1\n",
      "1.00\n"
     ]
    }
   ],
   "source": [
    "from math import *\n",
    "a, b, c = map(int, input().split())\n",
    "if a == 0 :\n",
    "    if b == 0 :\n",
    "        if c == 0 : print (\"VO SO NGHIEM\")\n",
    "        else : print (\"VO NGHIEM\")\n",
    "    else :\n",
    "        print ('%.2f' % ((-1) * c / b))\n",
    "else :\n",
    "    denta = b ** 2 - 4 * a * c\n",
    "    b = (-1) * b\n",
    "    if denta < 0 :\n",
    "        print (\"VO NGHIEM\")\n",
    "    elif denta == 0 :\n",
    "        print ('{:.2f}'. format(b / (2 * a)))\n",
    "    else :\n",
    "        denta = sqrt(denta)\n",
    "        print ('{:.2f}'. format((b - denta) / (2 * a)), '%.2f' % ((b + denta) / (2 * a)))"
   ]
  }
 ],
 "metadata": {
  "kernelspec": {
   "display_name": "Python 3 (ipykernel)",
   "language": "python",
   "name": "python3"
  },
  "language_info": {
   "codemirror_mode": {
    "name": "ipython",
    "version": 3
   },
   "file_extension": ".py",
   "mimetype": "text/x-python",
   "name": "python",
   "nbconvert_exporter": "python",
   "pygments_lexer": "ipython3",
   "version": "3.10.9"
  }
 },
 "nbformat": 4,
 "nbformat_minor": 5
}
