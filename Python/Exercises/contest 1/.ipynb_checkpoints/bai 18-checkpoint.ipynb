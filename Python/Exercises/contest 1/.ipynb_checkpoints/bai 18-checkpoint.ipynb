{
 "cells": [
  {
   "cell_type": "code",
   "execution_count": 3,
   "id": "f7063a69",
   "metadata": {},
   "outputs": [
    {
     "name": "stdout",
     "output_type": "stream",
     "text": [
      "a\n",
      "A\n"
     ]
    }
   ],
   "source": [
    "res = input()\n",
    "tmp = ord(res)\n",
    "\n",
    "if tmp >= 65 and tmp <= 90 : \n",
    "    tmp += 32\n",
    "    print(chr(tmp))\n",
    "elif tmp >= 97 and tmp <= 122 : \n",
    "    tmp -= 32\n",
    "    print(chr(tmp))\n",
    "else : \n",
    "    print(res)"
   ]
  }
 ],
 "metadata": {
  "kernelspec": {
   "display_name": "Python 3 (ipykernel)",
   "language": "python",
   "name": "python3"
  },
  "language_info": {
   "codemirror_mode": {
    "name": "ipython",
    "version": 3
   },
   "file_extension": ".py",
   "mimetype": "text/x-python",
   "name": "python",
   "nbconvert_exporter": "python",
   "pygments_lexer": "ipython3",
   "version": "3.10.9"
  }
 },
 "nbformat": 4,
 "nbformat_minor": 5
}
