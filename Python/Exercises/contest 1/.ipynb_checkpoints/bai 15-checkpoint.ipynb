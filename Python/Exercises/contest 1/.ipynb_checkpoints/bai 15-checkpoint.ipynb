{
 "cells": [
  {
   "cell_type": "code",
   "execution_count": 7,
   "id": "8700bfb7",
   "metadata": {},
   "outputs": [
    {
     "name": "stdout",
     "output_type": "stream",
     "text": [
      "13 4 2\n",
      "6\n",
      "16\n"
     ]
    }
   ],
   "source": [
    "n, a, b = map (int, input().split())\n",
    "\n",
    "# print(13 // 2)\n",
    "\n",
    "if(a <= b / 2) : \n",
    "    print (n * a)\n",
    "else : \n",
    "    if n % 2 == 0 : \n",
    "        print (n // 2 * b)\n",
    "    else : \n",
    "        print((n - 1) // 2 * b + a)"
   ]
  }
 ],
 "metadata": {
  "kernelspec": {
   "display_name": "Python 3 (ipykernel)",
   "language": "python",
   "name": "python3"
  },
  "language_info": {
   "codemirror_mode": {
    "name": "ipython",
    "version": 3
   },
   "file_extension": ".py",
   "mimetype": "text/x-python",
   "name": "python",
   "nbconvert_exporter": "python",
   "pygments_lexer": "ipython3",
   "version": "3.10.9"
  }
 },
 "nbformat": 4,
 "nbformat_minor": 5
}
