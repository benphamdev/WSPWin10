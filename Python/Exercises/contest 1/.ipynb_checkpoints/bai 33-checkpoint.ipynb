{
 "cells": [
  {
   "cell_type": "code",
   "execution_count": null,
   "id": "791d34bc",
   "metadata": {},
   "outputs": [],
   "source": [
    "a, b, c, n = map(int, input().split())\n",
    "\n",
    "if (a + b + c + n) % 3 == 0 :\n",
    "    tmp = (a + b + c + n ) / 3\n",
    "    if(tmp >= a and tmp >= b and tmp >= c):\n",
    "        print (\"YES\")\n",
    "    else : print (\"NO\")\n",
    "else : print (\"NO\")"
   ]
  }
 ],
 "metadata": {
  "kernelspec": {
   "display_name": "Python 3 (ipykernel)",
   "language": "python",
   "name": "python3"
  },
  "language_info": {
   "codemirror_mode": {
    "name": "ipython",
    "version": 3
   },
   "file_extension": ".py",
   "mimetype": "text/x-python",
   "name": "python",
   "nbconvert_exporter": "python",
   "pygments_lexer": "ipython3",
   "version": "3.10.9"
  }
 },
 "nbformat": 4,
 "nbformat_minor": 5
}
