{
 "cells": [
  {
   "cell_type": "code",
   "execution_count": 5,
   "id": "d85d58ba",
   "metadata": {},
   "outputs": [
    {
     "name": "stdout",
     "output_type": "stream",
     "text": [
      "3455\n",
      "38\n"
     ]
    }
   ],
   "source": [
    "n = int(input())\n",
    "res = 0\n",
    "if n >= 100 :\n",
    "    res += (n // 100)\n",
    "    n %= 100\n",
    "if n >= 20 :\n",
    "    res += (n // 20)\n",
    "    n %= 20\n",
    "if n >= 10 :\n",
    "    res += (n // 10)\n",
    "    n %= 10\n",
    "if n >= 5 :\n",
    "    res += (n // 5)\n",
    "    n %= 5\n",
    "res += n\n",
    "print (res)"
   ]
  }
 ],
 "metadata": {
  "kernelspec": {
   "display_name": "Python 3 (ipykernel)",
   "language": "python",
   "name": "python3"
  },
  "language_info": {
   "codemirror_mode": {
    "name": "ipython",
    "version": 3
   },
   "file_extension": ".py",
   "mimetype": "text/x-python",
   "name": "python",
   "nbconvert_exporter": "python",
   "pygments_lexer": "ipython3",
   "version": "3.10.9"
  }
 },
 "nbformat": 4,
 "nbformat_minor": 5
}
