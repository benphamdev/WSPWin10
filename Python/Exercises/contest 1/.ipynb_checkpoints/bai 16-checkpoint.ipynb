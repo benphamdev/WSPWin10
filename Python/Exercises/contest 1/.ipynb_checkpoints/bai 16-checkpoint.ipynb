{
 "cells": [
  {
   "cell_type": "code",
   "execution_count": 28,
   "id": "f4050158",
   "metadata": {},
   "outputs": [
    {
     "name": "stdout",
     "output_type": "stream",
     "text": [
      "a\n",
      "b\n"
     ]
    }
   ],
   "source": [
    "# A -> Z : 65 -> 90\n",
    "# a -> z : 97 -> 127\n",
    "# 0 - 9 : 48 -> 57\n",
    "\n",
    "# print(ord('A'))\n",
    "# print(chr(65))\n",
    "\n",
    "res = input()\n",
    "if(res == 'z' or res == 'Z') : print ('a')\n",
    "else : \n",
    "    tmp = ord(res)\n",
    "    tmp += 1\n",
    "    print (chr(tmp).lower())"
   ]
  }
 ],
 "metadata": {
  "kernelspec": {
   "display_name": "Python 3 (ipykernel)",
   "language": "python",
   "name": "python3"
  },
  "language_info": {
   "codemirror_mode": {
    "name": "ipython",
    "version": 3
   },
   "file_extension": ".py",
   "mimetype": "text/x-python",
   "name": "python",
   "nbconvert_exporter": "python",
   "pygments_lexer": "ipython3",
   "version": "3.10.9"
  }
 },
 "nbformat": 4,
 "nbformat_minor": 5
}
