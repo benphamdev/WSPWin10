{
 "cells": [
  {
   "cell_type": "code",
   "execution_count": null,
   "id": "bde7ea3f",
   "metadata": {},
   "outputs": [],
   "source": [
    "ans = input()\n",
    "tmp = ord(ans)\n",
    "if tmp >= 65 and tmp <= 90 : \n",
    "    print (\"UPPER\")\n",
    "elif tmp >= 97 and tmp <= 122 : \n",
    "    print (\"LOWER\")\n",
    "elif tmp >= 48 and tmp <= 57 : \n",
    "    print (\"DIGIT\")\n",
    "else : \n",
    "    print (\"SPECIAL\")"
   ]
  }
 ],
 "metadata": {
  "kernelspec": {
   "display_name": "Python 3 (ipykernel)",
   "language": "python",
   "name": "python3"
  },
  "language_info": {
   "codemirror_mode": {
    "name": "ipython",
    "version": 3
   },
   "file_extension": ".py",
   "mimetype": "text/x-python",
   "name": "python",
   "nbconvert_exporter": "python",
   "pygments_lexer": "ipython3",
   "version": "3.10.9"
  }
 },
 "nbformat": 4,
 "nbformat_minor": 5
}
