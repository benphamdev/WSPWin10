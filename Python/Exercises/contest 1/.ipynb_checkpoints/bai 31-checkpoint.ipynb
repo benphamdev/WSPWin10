{
 "cells": [
  {
   "cell_type": "code",
   "execution_count": 1,
   "id": "ba51a955",
   "metadata": {},
   "outputs": [
    {
     "name": "stdout",
     "output_type": "stream",
     "text": [
      "46 76 52 40 60 67 \n",
      "11\n"
     ]
    },
    {
     "ename": "NameError",
     "evalue": "name 'ceil' is not defined",
     "output_type": "error",
     "traceback": [
      "\u001b[1;31m---------------------------------------------------------------------------\u001b[0m",
      "\u001b[1;31mNameError\u001b[0m                                 Traceback (most recent call last)",
      "Cell \u001b[1;32mIn[1], line 3\u001b[0m\n\u001b[0;32m      1\u001b[0m a1, a2, a3, b1, b2, b3 \u001b[38;5;241m=\u001b[39m \u001b[38;5;28mmap\u001b[39m(\u001b[38;5;28mint\u001b[39m, \u001b[38;5;28minput\u001b[39m()\u001b[38;5;241m.\u001b[39msplit())\n\u001b[0;32m      2\u001b[0m n \u001b[38;5;241m=\u001b[39m \u001b[38;5;28mint\u001b[39m(\u001b[38;5;28minput\u001b[39m())\n\u001b[1;32m----> 3\u001b[0m a \u001b[38;5;241m=\u001b[39m \u001b[43mceil\u001b[49m((a1 \u001b[38;5;241m+\u001b[39m a2 \u001b[38;5;241m+\u001b[39m a3) \u001b[38;5;241m/\u001b[39m \u001b[38;5;241m5\u001b[39m) \n\u001b[0;32m      4\u001b[0m b \u001b[38;5;241m=\u001b[39m ceil((b1 \u001b[38;5;241m+\u001b[39m b2 \u001b[38;5;241m+\u001b[39m b3) \u001b[38;5;241m/\u001b[39m \u001b[38;5;241m10\u001b[39m)\n\u001b[0;32m      5\u001b[0m \u001b[38;5;28;01mif\u001b[39;00m a \u001b[38;5;241m+\u001b[39m b \u001b[38;5;241m<\u001b[39m\u001b[38;5;241m=\u001b[39m n : \u001b[38;5;28mprint\u001b[39m (\u001b[38;5;124m\"\u001b[39m\u001b[38;5;124mYES\u001b[39m\u001b[38;5;124m\"\u001b[39m)\n",
      "\u001b[1;31mNameError\u001b[0m: name 'ceil' is not defined"
     ]
    }
   ],
   "source": [
    "from math import *\n",
    "a1, a2, a3, b1, b2, b3 = map(int, input().split())\n",
    "n = int(input())\n",
    "a = ceil((a1 + a2 + a3) / 5) \n",
    "b = ceil((b1 + b2 + b3) / 10)\n",
    "if a + b <= n : print (\"YES\")\n",
    "else : print(\"NO\")"
   ]
  }
 ],
 "metadata": {
  "kernelspec": {
   "display_name": "Python 3 (ipykernel)",
   "language": "python",
   "name": "python3"
  },
  "language_info": {
   "codemirror_mode": {
    "name": "ipython",
    "version": 3
   },
   "file_extension": ".py",
   "mimetype": "text/x-python",
   "name": "python",
   "nbconvert_exporter": "python",
   "pygments_lexer": "ipython3",
   "version": "3.10.9"
  }
 },
 "nbformat": 4,
 "nbformat_minor": 5
}
