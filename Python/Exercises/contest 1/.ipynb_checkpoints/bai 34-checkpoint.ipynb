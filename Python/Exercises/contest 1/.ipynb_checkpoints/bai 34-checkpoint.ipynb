{
 "cells": [
  {
   "cell_type": "code",
   "execution_count": null,
   "id": "4b0aa840",
   "metadata": {},
   "outputs": [],
   "source": [
    "c1, c2, c3, c4, c5 = map(int, input().split())\n",
    "tmp = (c1 + c2 + c3 + c4 + c5)\n",
    "if tmp % 5 == 0 and (tmp / 5 != 0) : print(tmp // 5)\n",
    "else : print (-1)"
   ]
  }
 ],
 "metadata": {
  "kernelspec": {
   "display_name": "Python 3 (ipykernel)",
   "language": "python",
   "name": "python3"
  },
  "language_info": {
   "codemirror_mode": {
    "name": "ipython",
    "version": 3
   },
   "file_extension": ".py",
   "mimetype": "text/x-python",
   "name": "python",
   "nbconvert_exporter": "python",
   "pygments_lexer": "ipython3",
   "version": "3.10.9"
  }
 },
 "nbformat": 4,
 "nbformat_minor": 5
}
