{
 "cells": [
  {
   "cell_type": "code",
   "execution_count": 1,
   "id": "705a903e",
   "metadata": {},
   "outputs": [
    {
     "name": "stdout",
     "output_type": "stream",
     "text": [
      "5 2 3\n",
      "8\n"
     ]
    }
   ],
   "source": [
    "a, b, k = map(int, input().split())\n",
    "\n",
    "if k % 2 == 0 : \n",
    "    print((a - b) * k // 2 )\n",
    "else : \n",
    "    print (a * (k + 1) // 2 - b * (k - 1) // 2)"
   ]
  }
 ],
 "metadata": {
  "kernelspec": {
   "display_name": "Python 3 (ipykernel)",
   "language": "python",
   "name": "python3"
  },
  "language_info": {
   "codemirror_mode": {
    "name": "ipython",
    "version": 3
   },
   "file_extension": ".py",
   "mimetype": "text/x-python",
   "name": "python",
   "nbconvert_exporter": "python",
   "pygments_lexer": "ipython3",
   "version": "3.10.9"
  }
 },
 "nbformat": 4,
 "nbformat_minor": 5
}
