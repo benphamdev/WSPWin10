{
 "cells": [
  {
   "cell_type": "code",
   "execution_count": null,
   "id": "f95d08a1",
   "metadata": {},
   "outputs": [],
   "source": [
    "a, b, c = map(int, input().split())\n",
    "\n",
    "x, y, z = pow(a, 2), pow(b, 2), pow(c, 2)\n",
    "\n",
    "if a + b > c and a + c > b and b + c > a : \n",
    "    if a == b and b == c : \n",
    "        print(1)\n",
    "    elif (a == b or b == c or c == a) : \n",
    "        print(2)\n",
    "    elif (x + y == z or x + z == y or y + z == x) : \n",
    "        print(3)\n",
    "    else :\n",
    "        print(4)\n",
    "else : \n",
    "    print(\"INVALID\")"
   ]
  }
 ],
 "metadata": {
  "kernelspec": {
   "display_name": "Python 3 (ipykernel)",
   "language": "python",
   "name": "python3"
  },
  "language_info": {
   "codemirror_mode": {
    "name": "ipython",
    "version": 3
   },
   "file_extension": ".py",
   "mimetype": "text/x-python",
   "name": "python",
   "nbconvert_exporter": "python",
   "pygments_lexer": "ipython3",
   "version": "3.10.9"
  }
 },
 "nbformat": 4,
 "nbformat_minor": 5
}
