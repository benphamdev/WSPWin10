{
 "cells": [
  {
   "cell_type": "code",
   "execution_count": 21,
   "id": "3213082f",
   "metadata": {},
   "outputs": [
    {
     "name": "stdout",
     "output_type": "stream",
     "text": [
      "6 6 4\n",
      "4\n"
     ]
    }
   ],
   "source": [
    "from math import *\n",
    "n, m, a = map(int, input().split())\n",
    "\n",
    "if n % a == 0 and m % a == 0 : \n",
    "    print (n * m // (a * a))\n",
    "else : \n",
    "    print(ceil(n / a) * ceil(m / a))"
   ]
  }
 ],
 "metadata": {
  "kernelspec": {
   "display_name": "Python 3 (ipykernel)",
   "language": "python",
   "name": "python3"
  },
  "language_info": {
   "codemirror_mode": {
    "name": "ipython",
    "version": 3
   },
   "file_extension": ".py",
   "mimetype": "text/x-python",
   "name": "python",
   "nbconvert_exporter": "python",
   "pygments_lexer": "ipython3",
   "version": "3.10.9"
  }
 },
 "nbformat": 4,
 "nbformat_minor": 5
}
