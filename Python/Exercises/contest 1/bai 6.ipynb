{
 "cells": [
  {
   "cell_type": "code",
   "execution_count": 5,
   "id": "c6c230c4",
   "metadata": {},
   "outputs": [
    {
     "name": "stdout",
     "output_type": "stream",
     "text": [
      "100\n",
      "YES\n",
      "NO\n",
      "NO\n",
      "NO\n",
      "NO\n",
      "YES\n",
      "NO\n",
      "NO\n",
      "YES\n",
      "YES\n"
     ]
    }
   ],
   "source": [
    "x = int(input())\n",
    "\n",
    "if x % 2 == 0 : \n",
    "    print(\"YES\")\n",
    "else :\n",
    "    print(\"NO\")\n",
    "\n",
    "if x % 3 == 0 and x % 5 == 0 : \n",
    "    print(\"YES\")\n",
    "else : \n",
    "    print(\"NO\")\n",
    "\n",
    "if x % 3 == 0 and x % 7 != 0 : \n",
    "    print(\"YES\")\n",
    "else : \n",
    "    print(\"NO\")\n",
    "\n",
    "if x % 3 == 0 or x % 7 == 0 : \n",
    "    print(\"YES\")\n",
    "else : \n",
    "    print(\"NO\")\n",
    "\n",
    "if x > 30 and x < 50 :\n",
    "    print(\"YES\")\n",
    "else : \n",
    "    print(\"NO\")\n",
    "\n",
    "if x >= 30 and (x % 2 == 0 or x % 3 == 0 or x % 5 == 0) : \n",
    "    print(\"YES\")\n",
    "else : \n",
    "    print(\"NO\")\n",
    "\n",
    "k = x % 10\n",
    "\n",
    "if x >= 10 and x <= 99 and (k == 2 or k == 3 or k == 5 or k == 7): \n",
    "    print(\"YES\")\n",
    "else : \n",
    "    print(\"NO\")\n",
    "\n",
    "if x <= 100 and x % 23 == 0 : \n",
    "    print(\"YES\")\n",
    "else : \n",
    "    print(\"NO\")\n",
    "\n",
    "if x < 10 or x > 20 : \n",
    "    print(\"YES\")\n",
    "else : \n",
    "    print(\"NO\")\n",
    "\n",
    "if k % 3 == 0 :\n",
    "    print(\"YES\")\n",
    "else : \n",
    "    print(\"NO\")\n"
   ]
  }
 ],
 "metadata": {
  "kernelspec": {
   "display_name": "Python 3 (ipykernel)",
   "language": "python",
   "name": "python3"
  },
  "language_info": {
   "codemirror_mode": {
    "name": "ipython",
    "version": 3
   },
   "file_extension": ".py",
   "mimetype": "text/x-python",
   "name": "python",
   "nbconvert_exporter": "python",
   "pygments_lexer": "ipython3",
   "version": "3.10.9"
  }
 },
 "nbformat": 4,
 "nbformat_minor": 5
}
