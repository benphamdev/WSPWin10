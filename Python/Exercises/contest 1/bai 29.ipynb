{
 "cells": [
  {
   "cell_type": "code",
   "execution_count": null,
   "id": "e62428d0",
   "metadata": {},
   "outputs": [],
   "source": [
    "a, b, c, d = map(int, input().split())\n",
    "\n",
    "cm = b / a\n",
    "if(b * cm == c && c * cm == d) : print(\"YES\")\n",
    "else : print (\"NO\")"
   ]
  }
 ],
 "metadata": {
  "kernelspec": {
   "display_name": "Python 3 (ipykernel)",
   "language": "python",
   "name": "python3"
  },
  "language_info": {
   "codemirror_mode": {
    "name": "ipython",
    "version": 3
   },
   "file_extension": ".py",
   "mimetype": "text/x-python",
   "name": "python",
   "nbconvert_exporter": "python",
   "pygments_lexer": "ipython3",
   "version": "3.10.9"
  }
 },
 "nbformat": 4,
 "nbformat_minor": 5
}
