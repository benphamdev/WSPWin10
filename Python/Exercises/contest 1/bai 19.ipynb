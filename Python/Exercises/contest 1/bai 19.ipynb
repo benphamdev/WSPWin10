{
 "cells": [
  {
   "cell_type": "code",
   "execution_count": 11,
   "id": "4df72fba",
   "metadata": {},
   "outputs": [
    {
     "name": "stdout",
     "output_type": "stream",
     "text": [
      "2 4\n",
      "4\n"
     ]
    }
   ],
   "source": [
    "r, c = map (int, input().split())\n",
    "ans = 0\n",
    "if r % 2 == 0 : \n",
    "    ans = c * (r // 2)\n",
    "else : \n",
    "    ans = c * (r - 1) // 2\n",
    "    ans += c // 2\n",
    "print(ans)"
   ]
  }
 ],
 "metadata": {
  "kernelspec": {
   "display_name": "Python 3 (ipykernel)",
   "language": "python",
   "name": "python3"
  },
  "language_info": {
   "codemirror_mode": {
    "name": "ipython",
    "version": 3
   },
   "file_extension": ".py",
   "mimetype": "text/x-python",
   "name": "python",
   "nbconvert_exporter": "python",
   "pygments_lexer": "ipython3",
   "version": "3.10.9"
  }
 },
 "nbformat": 4,
 "nbformat_minor": 5
}
