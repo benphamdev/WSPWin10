{
 "cells": [
  {
   "cell_type": "code",
   "execution_count": 4,
   "id": "d75c561b",
   "metadata": {},
   "outputs": [
    {
     "name": "stdout",
     "output_type": "stream",
     "text": [
      "3 + 5j\n"
     ]
    }
   ],
   "source": [
    "class complexNumber:\n",
    "    def __init__(self, re, imag) :\n",
    "        self.re = re\n",
    "        self.imag = imag\n",
    "    def __add__(self, other) : \n",
    "        self.re += other.re\n",
    "        self.imag += other.imag\n",
    "        return complexNumber(self.re, self.imag)\n",
    "    def __str__(self) : \n",
    "        return f'{self.re} + {self.imag}j'\n",
    "if __name__ == '__main__' : \n",
    "    s1 = complexNumber(1, 2)\n",
    "    s2 = complexNumber(2, 3)\n",
    "    s3 = s1 + s2\n",
    "    print(s3)"
   ]
  }
 ],
 "metadata": {
  "kernelspec": {
   "display_name": "Python 3 (ipykernel)",
   "language": "python",
   "name": "python3"
  },
  "language_info": {
   "codemirror_mode": {
    "name": "ipython",
    "version": 3
   },
   "file_extension": ".py",
   "mimetype": "text/x-python",
   "name": "python",
   "nbconvert_exporter": "python",
   "pygments_lexer": "ipython3",
   "version": "3.10.9"
  }
 },
 "nbformat": 4,
 "nbformat_minor": 5
}
