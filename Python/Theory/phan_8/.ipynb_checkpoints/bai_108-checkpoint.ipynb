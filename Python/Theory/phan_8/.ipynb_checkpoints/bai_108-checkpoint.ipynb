{
 "cells": [
  {
   "cell_type": "code",
   "execution_count": 7,
   "id": "3bcf78a8",
   "metadata": {},
   "outputs": [
    {
     "name": "stdout",
     "output_type": "stream",
     "text": [
      "Vu Thu\n"
     ]
    }
   ],
   "source": [
    "# attribute = data field\n",
    "# method = behavior\n",
    "#access modifier\n",
    "\n",
    "class Person : \n",
    "#     pass\n",
    "#     class attribute \n",
    "    nationality = 'Viet Nam'\n",
    "#     instance attribute \n",
    "    def __init__(self, name, job, address, salary) : \n",
    "        self.name = name # public\n",
    "        self.job = job # public\n",
    "        self._address = address # protected\n",
    "        self.__salary = salary # privated\n",
    "    def greet(self) : \n",
    "        print('hello oop!')\n",
    "    def showInfor(self) : \n",
    "        print('Name : {}, Job : {}, Address : {}, Salary : {}'.format(self.name, self.job, self._address, self.__salary) )\n",
    "    def get_address(self) :  \n",
    "        return self._address\n",
    "    def get_salary(self) : \n",
    "        return self.__salary\n",
    "    def set_address(self, address) : \n",
    "        self._address = address\n",
    "    def set_salary(self, salary) : \n",
    "        self.__salary = salary \n",
    "\n",
    "if __name__ == '__main__' : \n",
    "#     p = Person()\n",
    "#     print(type(p))\n",
    "\n",
    "    p1 = Person('pham duy chien', 'dev', 'Thai Binh', 3000)\n",
    "    p2 = Person('ti', 'engineer', 'Ba ria', 2000)\n",
    "#     print(p1.name, p2.name)\n",
    "#     p1.greet()\n",
    "#     p1.showInfor()\n",
    "    p1.set_address('Vu Thu')\n",
    "    print(p1.get_address())"
   ]
  }
 ],
 "metadata": {
  "kernelspec": {
   "display_name": "Python 3 (ipykernel)",
   "language": "python",
   "name": "python3"
  },
  "language_info": {
   "codemirror_mode": {
    "name": "ipython",
    "version": 3
   },
   "file_extension": ".py",
   "mimetype": "text/x-python",
   "name": "python",
   "nbconvert_exporter": "python",
   "pygments_lexer": "ipython3",
   "version": "3.10.9"
  }
 },
 "nbformat": 4,
 "nbformat_minor": 5
}
