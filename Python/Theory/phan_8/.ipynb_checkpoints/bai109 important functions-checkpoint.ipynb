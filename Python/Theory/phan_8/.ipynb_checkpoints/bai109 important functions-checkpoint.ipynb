{
 "cells": [
  {
   "cell_type": "code",
   "execution_count": 7,
   "id": "67464848",
   "metadata": {},
   "outputs": [
    {
     "name": "stdout",
     "output_type": "stream",
     "text": [
      "ben 01/05/2003\n",
      "<__main__.Person object at 0x0000022896602710>\n"
     ]
    }
   ],
   "source": [
    "class Person: \n",
    "    def __init__(self, name, birth): \n",
    "        self.name = name\n",
    "        self.birth = birth\n",
    "    def __str__(self) : \n",
    "        return f'{self.name} {self.birth}'\n",
    "\n",
    "if __name__ == '__main__' : \n",
    "    p = Person('ben', '01/05/2003')\n",
    "    print(p)\n",
    "    print(p.__repr__())"
   ]
  }
 ],
 "metadata": {
  "kernelspec": {
   "display_name": "Python 3 (ipykernel)",
   "language": "python",
   "name": "python3"
  },
  "language_info": {
   "codemirror_mode": {
    "name": "ipython",
    "version": 3
   },
   "file_extension": ".py",
   "mimetype": "text/x-python",
   "name": "python",
   "nbconvert_exporter": "python",
   "pygments_lexer": "ipython3",
   "version": "3.10.9"
  }
 },
 "nbformat": 4,
 "nbformat_minor": 5
}
