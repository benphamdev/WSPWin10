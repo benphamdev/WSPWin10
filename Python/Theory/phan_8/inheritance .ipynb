{
 "cells": [
  {
   "cell_type": "code",
   "execution_count": 5,
   "id": "1cb1051d",
   "metadata": {},
   "outputs": [
    {
     "name": "stdout",
     "output_type": "stream",
     "text": [
      "constructor derivedclass\n",
      "hello !\n"
     ]
    }
   ],
   "source": [
    "class person : \n",
    "    def __init__(self) : \n",
    "        print('constructor baseclass')\n",
    "    def greet(self) : \n",
    "        print('hello !')\n",
    "class student(person) : \n",
    "    def __init__(self): \n",
    "        print('constructor derivedclass')\n",
    "\n",
    "if __name__ == '__main__' : \n",
    "    s = student()\n",
    "    s.greet()"
   ]
  },
  {
   "cell_type": "code",
   "execution_count": null,
   "id": "38e4c920",
   "metadata": {},
   "outputs": [],
   "source": []
  }
 ],
 "metadata": {
  "kernelspec": {
   "display_name": "Python 3 (ipykernel)",
   "language": "python",
   "name": "python3"
  },
  "language_info": {
   "codemirror_mode": {
    "name": "ipython",
    "version": 3
   },
   "file_extension": ".py",
   "mimetype": "text/x-python",
   "name": "python",
   "nbconvert_exporter": "python",
   "pygments_lexer": "ipython3",
   "version": "3.10.9"
  }
 },
 "nbformat": 4,
 "nbformat_minor": 5
}
