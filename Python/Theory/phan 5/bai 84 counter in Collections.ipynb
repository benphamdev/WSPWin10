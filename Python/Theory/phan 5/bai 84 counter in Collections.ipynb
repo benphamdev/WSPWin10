{
 "cells": [
  {
   "cell_type": "code",
   "execution_count": 5,
   "id": "5e1d8bc5",
   "metadata": {},
   "outputs": [
    {
     "name": "stdout",
     "output_type": "stream",
     "text": [
      "[(1, 1), (2, 1), (3, 1), (4, 1), (5, 1)]\n",
      "Counter({'h': 2, ' ': 2, 'p': 1, 'a': 1, 'm': 1, 'd': 1, 'u': 1, 'y': 1, 'c': 1, 'i': 1, 'e': 1, 'n': 1})\n"
     ]
    }
   ],
   "source": [
    "from collections import Counter\n",
    "\n",
    "a = [1, 2, 3, 4, 5]\n",
    "b = list(dict(Counter(a)).items())\n",
    "print(b)\n",
    "\n",
    "s = 'pham duy chien'\n",
    "s1 = Counter(s)\n",
    "print(s1)"
   ]
  }
 ],
 "metadata": {
  "kernelspec": {
   "display_name": "Python 3 (ipykernel)",
   "language": "python",
   "name": "python3"
  },
  "language_info": {
   "codemirror_mode": {
    "name": "ipython",
    "version": 3
   },
   "file_extension": ".py",
   "mimetype": "text/x-python",
   "name": "python",
   "nbconvert_exporter": "python",
   "pygments_lexer": "ipython3",
   "version": "3.10.9"
  }
 },
 "nbformat": 4,
 "nbformat_minor": 5
}
