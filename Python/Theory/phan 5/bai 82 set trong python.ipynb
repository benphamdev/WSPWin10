{
 "cells": [
  {
   "cell_type": "code",
   "execution_count": 2,
   "id": "ce158068",
   "metadata": {},
   "outputs": [
    {
     "name": "stdout",
     "output_type": "stream",
     "text": [
      "3\n",
      "1 2 1\n",
      "2\n"
     ]
    }
   ],
   "source": [
    "# add remove \n",
    "# in O(1)\n",
    "# hashtable : bảng băm \n",
    "# các dạng bt liên quan đến giá trị khác nhau trong mảng, tìm kiếm nhanh..\n",
    "# vd : đếm số lượng pt khác nhau trong mảng\n",
    "if __name__ == '__main__' :\n",
    "    n = int(input())\n",
    "    a = list(map(int, input().split()))\n",
    "    s = set(a)\n",
    "    print(len(s))\n",
    "    "
   ]
  }
 ],
 "metadata": {
  "kernelspec": {
   "display_name": "Python 3 (ipykernel)",
   "language": "python",
   "name": "python3"
  },
  "language_info": {
   "codemirror_mode": {
    "name": "ipython",
    "version": 3
   },
   "file_extension": ".py",
   "mimetype": "text/x-python",
   "name": "python",
   "nbconvert_exporter": "python",
   "pygments_lexer": "ipython3",
   "version": "3.10.9"
  }
 },
 "nbformat": 4,
 "nbformat_minor": 5
}
