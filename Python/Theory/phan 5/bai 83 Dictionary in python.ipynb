{
 "cells": [
  {
   "cell_type": "code",
   "execution_count": 9,
   "id": "30b16e84",
   "metadata": {},
   "outputs": [
    {
     "name": "stdout",
     "output_type": "stream",
     "text": [
      "1 2\n",
      "2 1\n",
      "3 1\n",
      "4 1\n",
      "5 1\n",
      "[(1, 2), (2, 1), (3, 1), (4, 1), (5, 1)]\n"
     ]
    }
   ],
   "source": [
    "# in : O(1) key , value : O(n)\n",
    "if __name__ == '__main__' :\n",
    "#     infor = {'name' : 'pham duy chien', 'job' : 'devops', 'salary' : 5000}\n",
    "# #     print(infor.keys())\n",
    "# #     print(infor.values())\n",
    "# #     print(infor.items())\n",
    "#     for key in infor.keys() :\n",
    "#         print(key, infor[key])\n",
    "#     for key, value in infor.items() :\n",
    "#         print(key, value, sep = '->')\n",
    "#bai 1 : dem tan suat xuat hien \n",
    "    a = [1, 2, 3, 4, 5, 1]\n",
    "    d = {}\n",
    "    for x in a :\n",
    "        if x in d :\n",
    "            d[x] += 1\n",
    "        else :\n",
    "            d[x] = 1\n",
    "            \n",
    "    for val, fre in d.items() :\n",
    "        print(val, fre)\n",
    "    b = list(d.items())\n",
    "    b.sort(key = lambda x : x[0])\n",
    "    print(b)"
   ]
  }
 ],
 "metadata": {
  "kernelspec": {
   "display_name": "Python 3 (ipykernel)",
   "language": "python",
   "name": "python3"
  },
  "language_info": {
   "codemirror_mode": {
    "name": "ipython",
    "version": 3
   },
   "file_extension": ".py",
   "mimetype": "text/x-python",
   "name": "python",
   "nbconvert_exporter": "python",
   "pygments_lexer": "ipython3",
   "version": "3.10.9"
  }
 },
 "nbformat": 4,
 "nbformat_minor": 5
}
