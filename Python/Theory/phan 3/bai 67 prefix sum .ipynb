{
 "cells": [
  {
   "cell_type": "code",
   "execution_count": 7,
   "id": "6423292e",
   "metadata": {},
   "outputs": [
    {
     "name": "stdout",
     "output_type": "stream",
     "text": [
      "nhap n = 4\n",
      "1 2 3 4\n",
      "2\n",
      "0 2\n",
      "-4\n",
      "1 2\n",
      "5\n"
     ]
    }
   ],
   "source": [
    "from math import * \n",
    "#chu y khi l = 0 : prefix[r]\n",
    "#prefix[r] - prefex[l - 1]\n",
    "if __name__ == '__main__' :\n",
    "    n = int(input('nhap n = ', ))\n",
    "    a = list(map(int, input().split()))\n",
    "    prefix = [0] *  n\n",
    "    prefix[0] = a[0]\n",
    "    \n",
    "    for i in range(1, n):\n",
    "        prefix[i] = prefix[i - 1] + a[i]\n",
    "       \n",
    "    q = int(input())\n",
    "    \n",
    "    for i in range(q) :\n",
    "        l, r = map(int, input().split())\n",
    "        print(prefix[r] - prefix[l - 1])"
   ]
  }
 ],
 "metadata": {
  "kernelspec": {
   "display_name": "Python 3 (ipykernel)",
   "language": "python",
   "name": "python3"
  },
  "language_info": {
   "codemirror_mode": {
    "name": "ipython",
    "version": 3
   },
   "file_extension": ".py",
   "mimetype": "text/x-python",
   "name": "python",
   "nbconvert_exporter": "python",
   "pygments_lexer": "ipython3",
   "version": "3.10.9"
  }
 },
 "nbformat": 4,
 "nbformat_minor": 5
}
