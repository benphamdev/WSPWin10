{
 "cells": [
  {
   "cell_type": "code",
   "execution_count": 2,
   "id": "dd156839",
   "metadata": {},
   "outputs": [
    {
     "name": "stdout",
     "output_type": "stream",
     "text": [
      "5 2\n",
      "1 2 3 4 5\n",
      "3 5 7 9 "
     ]
    }
   ],
   "source": [
    "from math import *\n",
    "\n",
    "if __name__ == '__main__' :\n",
    "    n, k = map(int, input().split())\n",
    "    a = list(map(int, input().split()))\n",
    "    s = sum(a[:k])\n",
    "    print(s, end = ' ')\n",
    "    for i in range(1, n - k + 1) :\n",
    "        s = s - a[i - 1] + a[i + k - 1]\n",
    "        print(s, end = ' ')"
   ]
  }
 ],
 "metadata": {
  "kernelspec": {
   "display_name": "Python 3 (ipykernel)",
   "language": "python",
   "name": "python3"
  },
  "language_info": {
   "codemirror_mode": {
    "name": "ipython",
    "version": 3
   },
   "file_extension": ".py",
   "mimetype": "text/x-python",
   "name": "python",
   "nbconvert_exporter": "python",
   "pygments_lexer": "ipython3",
   "version": "3.10.9"
  }
 },
 "nbformat": 4,
 "nbformat_minor": 5
}
