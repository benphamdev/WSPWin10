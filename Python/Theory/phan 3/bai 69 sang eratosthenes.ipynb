{
 "cells": [
  {
   "cell_type": "code",
   "execution_count": 3,
   "id": "c4783431",
   "metadata": {},
   "outputs": [
    {
     "name": "stdout",
     "output_type": "stream",
     "text": [
      "2\n",
      "3\n",
      "5\n",
      "7\n",
      "11\n",
      "13\n",
      "17\n",
      "19\n",
      "23\n",
      "29\n",
      "31\n",
      "37\n",
      "41\n",
      "43\n",
      "47\n",
      "53\n",
      "59\n",
      "61\n",
      "67\n",
      "71\n",
      "73\n",
      "79\n",
      "83\n",
      "89\n",
      "97\n"
     ]
    }
   ],
   "source": [
    "from math import *\n",
    "\n",
    "# O(N * sqrt(n))\n",
    "# sang so nguyen to eratothenes O(N * loglogN)\n",
    "# buoc 1 : coi tat ca cac so tu 0 -> N deu la so nguyen to : prime[i] = True\n",
    "# buoc 2 : boi cua 1 so nguyen to se khong phai la so nguyen to\n",
    "\n",
    "prime = [True] * (10 ** 6 + 1)\n",
    "\n",
    "def sieve() :\n",
    "    prime[0], prime[1] = False, False\n",
    "    for i in range(2, isqrt(10 ** 6) + 1) : \n",
    "#         kiem tra i la so nguyen to => loai boi cua i\n",
    "        if(prime[i]) :\n",
    "#             duyet boi cua i tu i * i\n",
    "            for j in range(i * i, 10 ** 6 + 1, i) :\n",
    "                prime[j] = False\n",
    "\n",
    "if __name__ == '__main__' :\n",
    "    sieve()\n",
    "    for i in range(100) :\n",
    "        if(prime[i]) : # O(1)\n",
    "            print(i, end = ' ')"
   ]
  }
 ],
 "metadata": {
  "kernelspec": {
   "display_name": "Python 3 (ipykernel)",
   "language": "python",
   "name": "python3"
  },
  "language_info": {
   "codemirror_mode": {
    "name": "ipython",
    "version": 3
   },
   "file_extension": ".py",
   "mimetype": "text/x-python",
   "name": "python",
   "nbconvert_exporter": "python",
   "pygments_lexer": "ipython3",
   "version": "3.10.9"
  }
 },
 "nbformat": 4,
 "nbformat_minor": 5
}
