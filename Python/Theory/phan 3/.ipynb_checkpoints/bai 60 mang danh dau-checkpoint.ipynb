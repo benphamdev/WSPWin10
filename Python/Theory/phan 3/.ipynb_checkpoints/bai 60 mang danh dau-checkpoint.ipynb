{
 "cells": [
  {
   "cell_type": "code",
   "execution_count": 21,
   "id": "91338e67",
   "metadata": {},
   "outputs": [
    {
     "name": "stdout",
     "output_type": "stream",
     "text": [
      "4\n",
      "1 2 3 4\n",
      "4\n"
     ]
    }
   ],
   "source": [
    "# dang 1 : kiem tra cac phan tu trong list thoa man t/c nao do\n",
    "# dang 2 : tim max, min O(n)\n",
    "# dang 3 : kiem tra cap phan tu trong mang thoa man t/c : O(n ^ 2)\n",
    "# dang 4 : mang danh dau : su dung chi so cua mang de danh dau 1 gia tri tuong uong\n",
    "# + cac gia tri khac nhau trong mang : tim so luong khac nhau, liet ke\n",
    "# + tan suat\n",
    "# chi ap dung voi nhung phan tu >= 0 va <= 1e7\n",
    "\n",
    "# cho mang a[] n phan tu dem xem moi phan tu trong mang xuat hien bao nhieu lan?\n",
    "\n",
    "if __name__ == '__main__' :\n",
    "    n = int(input())\n",
    "    a = list(map(int, input().split()))\n",
    "    cnt = [0] * (int)(1e7 + 1)\n",
    "# bai toan 2\n",
    "#     for i in a : \n",
    "#         cnt[i] += 1\n",
    "#     l, r = min(a), max(a)\n",
    "#     for i in range(l, r + 1) :\n",
    "#         print(i, cnt[i])\n",
    "#     for x in a :\n",
    "#         if cnt[x] != 0 :\n",
    "#             print(x, cnt[x])\n",
    "#             cnt[x] = 0\n",
    "\n",
    "# bai toan 1\n",
    "    for x in a :\n",
    "        cnt[x] = 1\n",
    "    dem = 0\n",
    "    l, r = min(a), max(a)\n",
    "    for x in range(l, r + 1) :\n",
    "        if cnt[x] == 1 :\n",
    "            dem += 1\n",
    "    print(dem)"
   ]
  }
 ],
 "metadata": {
  "kernelspec": {
   "display_name": "Python 3 (ipykernel)",
   "language": "python",
   "name": "python3"
  },
  "language_info": {
   "codemirror_mode": {
    "name": "ipython",
    "version": 3
   },
   "file_extension": ".py",
   "mimetype": "text/x-python",
   "name": "python",
   "nbconvert_exporter": "python",
   "pygments_lexer": "ipython3",
   "version": "3.10.9"
  }
 },
 "nbformat": 4,
 "nbformat_minor": 5
}
