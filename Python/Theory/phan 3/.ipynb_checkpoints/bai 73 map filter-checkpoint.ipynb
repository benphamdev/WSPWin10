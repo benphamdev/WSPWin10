{
 "cells": [
  {
   "cell_type": "code",
   "execution_count": 31,
   "id": "f35682bc",
   "metadata": {},
   "outputs": [
    {
     "name": "stdout",
     "output_type": "stream",
     "text": [
      "[1, 2, 3, 4]\n",
      "[1, 3]\n"
     ]
    }
   ],
   "source": [
    "from math import *\n",
    "\n",
    "def nt(n) :\n",
    "    if n < 2 : return False\n",
    "    for i in range(2, isqrt(n) + 1) :\n",
    "        if n % i == 0 : \n",
    "            return False\n",
    "    return True\n",
    "\n",
    "if __name__ == '__main__' :\n",
    "    a = [1, 2, 3, 4]\n",
    "    b = list(filter(lambda x : x % 2 == 1, a))\n",
    "    print(a, b, sep = '\\n')"
   ]
  }
 ],
 "metadata": {
  "kernelspec": {
   "display_name": "Python 3 (ipykernel)",
   "language": "python",
   "name": "python3"
  },
  "language_info": {
   "codemirror_mode": {
    "name": "ipython",
    "version": 3
   },
   "file_extension": ".py",
   "mimetype": "text/x-python",
   "name": "python",
   "nbconvert_exporter": "python",
   "pygments_lexer": "ipython3",
   "version": "3.10.9"
  }
 },
 "nbformat": 4,
 "nbformat_minor": 5
}
