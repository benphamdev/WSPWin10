{
 "cells": [
  {
   "cell_type": "code",
   "execution_count": 3,
   "id": "4dd0bf26",
   "metadata": {},
   "outputs": [
    {
     "name": "stdout",
     "output_type": "stream",
     "text": [
      "100\n",
      "100\n"
     ]
    }
   ],
   "source": [
    "n = 500 # global\n",
    "\n",
    "def local_scope() :\n",
    "    global n\n",
    "    n = 10\n",
    "    print(n)\n",
    "\n",
    "if __name__ == '__main__' :\n",
    "    if True :\n",
    "        x = 100\n",
    "        print(x)\n",
    "    print(x)\n",
    "#     trong if, else , while , for khai bao van su dung dc ben ngoai"
   ]
  }
 ],
 "metadata": {
  "kernelspec": {
   "display_name": "Python 3 (ipykernel)",
   "language": "python",
   "name": "python3"
  },
  "language_info": {
   "codemirror_mode": {
    "name": "ipython",
    "version": 3
   },
   "file_extension": ".py",
   "mimetype": "text/x-python",
   "name": "python",
   "nbconvert_exporter": "python",
   "pygments_lexer": "ipython3",
   "version": "3.10.9"
  }
 },
 "nbformat": 4,
 "nbformat_minor": 5
}
