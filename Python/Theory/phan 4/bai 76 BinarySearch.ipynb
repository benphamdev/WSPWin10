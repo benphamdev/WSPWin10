{
 "cells": [
  {
   "cell_type": "code",
   "execution_count": 2,
   "id": "9aeaedd0",
   "metadata": {},
   "outputs": [
    {
     "name": "stdout",
     "output_type": "stream",
     "text": [
      "YES\n"
     ]
    }
   ],
   "source": [
    "# linear search O(N)\n",
    "# binary search O(logN) : phai dc sap xep \n",
    "\n",
    "# tư tưởng : tìm kiếm trong đoạn [l, r] => tính m = (l + r) / 2\n",
    "# 1. a[m] = x => True\n",
    "# 2. a[m] < x : tìm ở bên phải (l = m + 1)\n",
    "# 3. a[m] > x : tìm ở bên trái (r = m - 1)\n",
    "\n",
    "def binarySearch(a, l, r, x) :\n",
    "    while(l <= r) :\n",
    "        m = (l + r) // 2\n",
    "        if(a[m] == x) : return True\n",
    "        elif (a[m] > x) : r = m - 1\n",
    "        else : l = m + 1\n",
    "    return False\n",
    "\n",
    "if __name__ == '__main__' :\n",
    "    a = [1, 1, 2, 2, 4, 5]\n",
    "    print(\"YES\" if binarySearch(a, 0, len(a) - 1, 5) else \"NO\")"
   ]
  }
 ],
 "metadata": {
  "kernelspec": {
   "display_name": "Python 3 (ipykernel)",
   "language": "python",
   "name": "python3"
  },
  "language_info": {
   "codemirror_mode": {
    "name": "ipython",
    "version": 3
   },
   "file_extension": ".py",
   "mimetype": "text/x-python",
   "name": "python",
   "nbconvert_exporter": "python",
   "pygments_lexer": "ipython3",
   "version": "3.10.9"
  }
 },
 "nbformat": 4,
 "nbformat_minor": 5
}
