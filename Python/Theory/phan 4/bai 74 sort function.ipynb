{
 "cells": [
  {
   "cell_type": "code",
   "execution_count": 2,
   "id": "e4ab64a1",
   "metadata": {},
   "outputs": [
    {
     "name": "stdout",
     "output_type": "stream",
     "text": [
      "[['chien', 5000], ['linh', 1000], ['nga', 200]]\n"
     ]
    }
   ],
   "source": [
    "# tim sort : O(nlogn) = mergesort + insertionsort\n",
    "# sort, key, reverse, stable\n",
    "# sort vs lambda \n",
    "# sorted\n",
    "def sumDig(n) :\n",
    "    sum = 0\n",
    "    while n :\n",
    "        sum += n % 10\n",
    "        n //= 10\n",
    "    return sum\n",
    "\n",
    "if __name__ == '__main__' :\n",
    "    \n",
    "#     a = [-2, -1, 22, 344, 334]\n",
    "#     a.sort(key = abs)\n",
    "#     b = a[:]\n",
    "#     b.sort(key = lambda x : abs(x), reverse = True)\n",
    "#     c = [x for x in c]\n",
    "\n",
    "    a = [['chien', 5000], ['nga', 200], ['linh', 1000]]\n",
    "    a.sort(key = lambda x : -x[1])\n",
    "print(a)"
   ]
  }
 ],
 "metadata": {
  "kernelspec": {
   "display_name": "Python 3 (ipykernel)",
   "language": "python",
   "name": "python3"
  },
  "language_info": {
   "codemirror_mode": {
    "name": "ipython",
    "version": 3
   },
   "file_extension": ".py",
   "mimetype": "text/x-python",
   "name": "python",
   "nbconvert_exporter": "python",
   "pygments_lexer": "ipython3",
   "version": "3.10.9"
  }
 },
 "nbformat": 4,
 "nbformat_minor": 5
}
