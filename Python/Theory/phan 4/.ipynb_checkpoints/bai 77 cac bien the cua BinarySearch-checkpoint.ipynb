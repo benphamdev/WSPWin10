{
 "cells": [
  {
   "cell_type": "code",
   "execution_count": 13,
   "id": "f594b207",
   "metadata": {},
   "outputs": [
    {
     "name": "stdout",
     "output_type": "stream",
     "text": [
      "1\n",
      "4\n",
      "1\n",
      "5\n"
     ]
    }
   ],
   "source": [
    "# tìm vị trí xuất hiện đầu tiên của phần tử có giá trị x trong mảng đã tăng dần\n",
    "\n",
    "def firstPos(a, l, r, x) :\n",
    "    res = -1\n",
    "    while l <= r :\n",
    "        m = (l + r) // 2\n",
    "        if(a[m] == x) :\n",
    "            res = m\n",
    "            r = m - 1\n",
    "        elif(a[m] < x) :\n",
    "            l = m + 1\n",
    "        else :\n",
    "            r = m - 1\n",
    "    return res\n",
    "\n",
    "# tìm vị trí xuất hiện cuối cùng n của phần tử có giá trị x trong mảng đã tăng dần\n",
    "\n",
    "def lastPos(a, l, r, x) :\n",
    "    res = -1\n",
    "    while l <= r :\n",
    "        m = (l + r) // 2\n",
    "        if(a[m] == x) :\n",
    "            res = m\n",
    "            l = m + 1\n",
    "        elif(a[m] < x) :\n",
    "            l = m + 1\n",
    "        else :\n",
    "            r = m - 1\n",
    "    return res\n",
    "\n",
    "# tìm vị trí xuất hiện dau tien n của phần tử có giá trị >= x trong mảng đã tăng dần\n",
    "\n",
    "def firstPos1(a, l, r, x) :\n",
    "    res = -1\n",
    "    while l <= r :\n",
    "        m = (l + r) // 2\n",
    "        if(a[m] >= x) :\n",
    "            res = m\n",
    "            r = m - 1\n",
    "        else :\n",
    "            l = m + 1\n",
    "    return res\n",
    "\n",
    "# tìm vị trí xuất hiện dau tien n của phần tử có giá trị > x trong mảng đã tăng dần\n",
    "\n",
    "def firstPos2(a, l, r, x) :\n",
    "    res = -1\n",
    "    while l <= r :\n",
    "        m = (l + r) // 2\n",
    "        if(a[m] > x) :\n",
    "            res = m\n",
    "            r = m - 1\n",
    "        else :\n",
    "            l = m + 1\n",
    "    return res\n",
    "\n",
    "if __name__ == '__main__' :\n",
    "    a = [1, 2, 2, 2, 2, 4, 5, 6]\n",
    "    print(firstPos(a, 0, len(a) - 1, 2))\n",
    "    print(lastPos(a, 0, len(a) - 1, 2))\n",
    "    print(firstPos1(a, 0, len(a) - 1, 2))\n",
    "    print(firstPos2(a, 0, len(a) - 1, 2))"
   ]
  }
 ],
 "metadata": {
  "kernelspec": {
   "display_name": "Python 3 (ipykernel)",
   "language": "python",
   "name": "python3"
  },
  "language_info": {
   "codemirror_mode": {
    "name": "ipython",
    "version": 3
   },
   "file_extension": ".py",
   "mimetype": "text/x-python",
   "name": "python",
   "nbconvert_exporter": "python",
   "pygments_lexer": "ipython3",
   "version": "3.10.9"
  }
 },
 "nbformat": 4,
 "nbformat_minor": 5
}
