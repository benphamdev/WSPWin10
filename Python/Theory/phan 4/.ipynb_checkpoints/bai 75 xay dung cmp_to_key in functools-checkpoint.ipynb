{
 "cells": [
  {
   "cell_type": "code",
   "execution_count": null,
   "id": "10823d0a",
   "metadata": {},
   "outputs": [],
   "source": [
    "from math import *\n",
    "from functools import cmp_to_key\n",
    "\n",
    "# -1 1 0\n",
    "# neu a la thang dung truoc, b la thang dung sau sau khi ma ban sap xep\n",
    "# nếu a và b đã đúng thứ tự mà bạn muốn thì trả về -1, ngược lại các bạn trả về 1\n",
    "# comparision function : comparator\n",
    "\n",
    "def cmp(a, b) :\n",
    "#     if a < b : \n",
    "#         return -1\n",
    "#     else :\n",
    "#         return 1\n",
    "#     return a - b\n",
    "    \n",
    "#     if a > b : \n",
    "#         return -1\n",
    "#     else : return 1\n",
    "    return b - a\n",
    "    \n",
    "# sắp xếp các phần tử trong mảng theo tổng chữ số tăng dần , nếu 2 số có cùng tổng chữ số thì \n",
    "# số nhỏ hơn sẽ xếp trước\n",
    "\n",
    "def sumDig(n) :\n",
    "    res = 0\n",
    "    while n :\n",
    "        res += n % 10\n",
    "        n //= 10\n",
    "    return res\n",
    "\n",
    "def cmp1(a, b) :\n",
    "    sum1, sum2 = sumDig(a), sumDig(b)\n",
    "    if sum1 != sum2 :\n",
    "        return sum1 - sum2\n",
    "    return a - b\n",
    "\n",
    "a = [1, 25, 322, 44443, 52, 2236, 3000]\n",
    "a.sort(key = cmp_to_key(cmp1))\n",
    "print(a)"
   ]
  },
  {
   "cell_type": "code",
   "execution_count": null,
   "id": "ceb51f6f",
   "metadata": {},
   "outputs": [],
   "source": []
  }
 ],
 "metadata": {
  "kernelspec": {
   "display_name": "Python 3 (ipykernel)",
   "language": "python",
   "name": "python3"
  },
  "language_info": {
   "codemirror_mode": {
    "name": "ipython",
    "version": 3
   },
   "file_extension": ".py",
   "mimetype": "text/x-python",
   "name": "python",
   "nbconvert_exporter": "python",
   "pygments_lexer": "ipython3",
   "version": "3.10.9"
  }
 },
 "nbformat": 4,
 "nbformat_minor": 5
}
