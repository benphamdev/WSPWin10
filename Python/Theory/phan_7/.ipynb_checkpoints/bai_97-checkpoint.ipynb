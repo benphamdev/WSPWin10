{
 "cells": [
  {
   "cell_type": "code",
   "execution_count": 26,
   "id": "17a0527b",
   "metadata": {},
   "outputs": [
    {
     "name": "stdout",
     "output_type": "stream",
     "text": [
      "dict_items([('p', 1), ('h', 2), ('a', 1), ('m', 1), (' ', 2), ('d', 1), ('u', 1), ('y', 1), ('c', 1), ('i', 1), ('e', 1), ('n', 1)])\n"
     ]
    }
   ],
   "source": [
    "# bai96\n",
    "# print(ord('A'))\n",
    "# print(chr(65))\n",
    "\n",
    "# dạng 1 : các bài toán liên quan đến tần suất của các kí tự trong xâu\n",
    "\n",
    "# cách 1 : dùng mảng đánh dấu , mảng đếm \n",
    "def way() : \n",
    "    s = 'pham duy chien'\n",
    "    cnt = [0] * 256\n",
    "    for x in s : \n",
    "        cnt[ord(x)] += 1\n",
    "        \n",
    "#     for x in range(256) : \n",
    "#         if cnt[x] != 0 : \n",
    "#             print(chr(x), cnt[x])\n",
    "    for x in s : \n",
    "        if cnt[ord(x)] != 0 : \n",
    "            print(x, cnt[ord(x)])\n",
    "            cnt[ord(x)] = 0\n",
    "\n",
    "# cách 2 : dùng dictionary\n",
    "def way1() : \n",
    "    s = 'pham duy chien'\n",
    "    d = dict({})\n",
    "    for x in s : \n",
    "        if x in d : \n",
    "            d[x] += 1\n",
    "        else : d[x] = 1\n",
    "#     for x, y in d.items() : \n",
    "#         print(x, y)\n",
    "    print(sorted(d))\n",
    "    for x in sorted(d): \n",
    "        print(x, d[x])\n",
    "\n",
    "# cách 3 : dùng counter        \n",
    " \n",
    "from collections import Counter\n",
    "def way2 () : \n",
    "    s = 'pham duy chien' \n",
    "    d = dict(Counter(s)).items()\n",
    "    print(d)\n",
    "if __name__ == '__main__' : \n",
    "#     way()\n",
    "#     way1()\n",
    "    way2()"
   ]
  }
 ],
 "metadata": {
  "kernelspec": {
   "display_name": "Python 3 (ipykernel)",
   "language": "python",
   "name": "python3"
  },
  "language_info": {
   "codemirror_mode": {
    "name": "ipython",
    "version": 3
   },
   "file_extension": ".py",
   "mimetype": "text/x-python",
   "name": "python",
   "nbconvert_exporter": "python",
   "pygments_lexer": "ipython3",
   "version": "3.10.9"
  }
 },
 "nbformat": 4,
 "nbformat_minor": 5
}
