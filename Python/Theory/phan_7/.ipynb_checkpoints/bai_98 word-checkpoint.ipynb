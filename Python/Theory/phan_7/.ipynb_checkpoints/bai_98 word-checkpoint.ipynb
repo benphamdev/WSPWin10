{
 "cells": [
  {
   "cell_type": "code",
   "execution_count": 7,
   "id": "11cf3b20",
   "metadata": {},
   "outputs": [
    {
     "name": "stdout",
     "output_type": "stream",
     "text": [
      "121313141414\n",
      "26\n"
     ]
    }
   ],
   "source": [
    "# dạng 2 : tách từ => đếm tần suất, sắp xếp, ...\n",
    "\n",
    "def way() : \n",
    "#     s = 'pham duy chien'\n",
    "#     a = list(s.split())\n",
    "#     print(len(set(a)))\n",
    "\n",
    "    s = 'pham,duy,chien!thaibinh'\n",
    "    delim = '!.,'\n",
    "    for x in delim : \n",
    "        s = s.replace(x, ' ')\n",
    "    print(s)\n",
    "\n",
    "# dạng 3 : số nguyên lớn \n",
    "def way1() : \n",
    "    s = input()\n",
    "    aggregate = 0\n",
    "    for x in s : \n",
    "        aggregate += int(x)\n",
    "    print(aggregate)\n",
    "if __name__ == '__main__' : \n",
    "#     way()\n",
    "    way1()"
   ]
  }
 ],
 "metadata": {
  "kernelspec": {
   "display_name": "Python 3 (ipykernel)",
   "language": "python",
   "name": "python3"
  },
  "language_info": {
   "codemirror_mode": {
    "name": "ipython",
    "version": 3
   },
   "file_extension": ".py",
   "mimetype": "text/x-python",
   "name": "python",
   "nbconvert_exporter": "python",
   "pygments_lexer": "ipython3",
   "version": "3.10.9"
  }
 },
 "nbformat": 4,
 "nbformat_minor": 5
}
