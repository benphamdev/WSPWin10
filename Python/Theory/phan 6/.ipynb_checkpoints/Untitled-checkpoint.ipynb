{
 "cells": [
  {
   "cell_type": "code",
   "execution_count": 8,
   "id": "c83329d9",
   "metadata": {},
   "outputs": [
    {
     "name": "stdout",
     "output_type": "stream",
     "text": [
      "2 2 2\n",
      "1 2\n",
      "3 4\n",
      "1 2 \n",
      "3 4\n",
      "[[7, 10], [15, 22]]\n"
     ]
    }
   ],
   "source": [
    "n, m, p = map(int, input().split())\n",
    "a, b = [0] * n, [0] * m\n",
    "c = [[0 for _ in range(n)] for _ in range(p)]\n",
    "for i in range(n) :\n",
    "    a[i] = list(map(int, input().split()))\n",
    "for i in range(m) :\n",
    "    b[i] = list(map(int, input().split()))\n",
    "for i in range(n) : \n",
    "    for j in range(p) : \n",
    "        for k in range(m) : \n",
    "            c[i][j] += a[i][k] * b[k][j]\n",
    "print(c)"
   ]
  }
 ],
 "metadata": {
  "kernelspec": {
   "display_name": "Python 3 (ipykernel)",
   "language": "python",
   "name": "python3"
  },
  "language_info": {
   "codemirror_mode": {
    "name": "ipython",
    "version": 3
   },
   "file_extension": ".py",
   "mimetype": "text/x-python",
   "name": "python",
   "nbconvert_exporter": "python",
   "pygments_lexer": "ipython3",
   "version": "3.10.9"
  }
 },
 "nbformat": 4,
 "nbformat_minor": 5
}
