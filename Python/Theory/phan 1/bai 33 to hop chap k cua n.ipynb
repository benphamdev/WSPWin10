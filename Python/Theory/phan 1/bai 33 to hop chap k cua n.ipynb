{
 "cells": [
  {
   "cell_type": "code",
   "execution_count": 5,
   "id": "aced0061",
   "metadata": {},
   "outputs": [
    {
     "name": "stdout",
     "output_type": "stream",
     "text": [
      "45 45\n"
     ]
    }
   ],
   "source": [
    "# to hop \n",
    "\n",
    "from math import *\n",
    "\n",
    "def tohop(n, k) :\n",
    "    return factorial(n) // (factorial(k) * factorial(n - k))\n",
    "\n",
    "if __name__ == '__main__' :\n",
    "    print(comb(10, 2), tohop(10, 2))\n",
    "\n",
    "# nC2 = (n - 1) * n // 2"
   ]
  }
 ],
 "metadata": {
  "kernelspec": {
   "display_name": "Python 3 (ipykernel)",
   "language": "python",
   "name": "python3"
  },
  "language_info": {
   "codemirror_mode": {
    "name": "ipython",
    "version": 3
   },
   "file_extension": ".py",
   "mimetype": "text/x-python",
   "name": "python",
   "nbconvert_exporter": "python",
   "pygments_lexer": "ipython3",
   "version": "3.10.9"
  }
 },
 "nbformat": 4,
 "nbformat_minor": 5
}
