{
 "cells": [
  {
   "cell_type": "code",
   "execution_count": 13,
   "id": "a2e077ac",
   "metadata": {},
   "outputs": [
    {
     "name": "stdout",
     "output_type": "stream",
     "text": [
      "40\n",
      "8\n",
      "90\n"
     ]
    }
   ],
   "source": [
    "# tinh tong uoc va dem uoc : duyet den can bac 2 cua n la du\n",
    "from math import *\n",
    "\n",
    "def countDivisor(n) :\n",
    "    cnt = 0\n",
    "    for i in range (1, n + 1) :\n",
    "        if n % i == 0 : \n",
    "            cnt += 1\n",
    "    return cnt\n",
    "\n",
    "def countDivisor1(n) :\n",
    "    cnt = 0\n",
    "    for i in range (1, isqrt(n) + 1) :\n",
    "        if n % i == 0 :\n",
    "            cnt += 1\n",
    "            if (i != n // i) : cnt += 1\n",
    "    return cnt\n",
    "\n",
    "def sumDivisor(n) :\n",
    "    sum = 0\n",
    "    for i in range (1, n + 1) :\n",
    "        if n % i == 0 : sum += i\n",
    "    return sum\n",
    "\n",
    "def sumDivisor1(n) :\n",
    "    sum = 0 \n",
    "    for i in range (1, isqrt(n) + 1) :\n",
    "        if n % i == 0 :\n",
    "            sum += i\n",
    "            if i != n // i : sum += n // i\n",
    "    return sum\n",
    "\n",
    "if __name__ == '__main__' :\n",
    "    n = int(input())\n",
    "    print (countDivisor1(n))\n",
    "    print (sumDivisor1(n))\n",
    "    "
   ]
  }
 ],
 "metadata": {
  "kernelspec": {
   "display_name": "Python 3 (ipykernel)",
   "language": "python",
   "name": "python3"
  },
  "language_info": {
   "codemirror_mode": {
    "name": "ipython",
    "version": 3
   },
   "file_extension": ".py",
   "mimetype": "text/x-python",
   "name": "python",
   "nbconvert_exporter": "python",
   "pygments_lexer": "ipython3",
   "version": "3.10.9"
  }
 },
 "nbformat": 4,
 "nbformat_minor": 5
}
