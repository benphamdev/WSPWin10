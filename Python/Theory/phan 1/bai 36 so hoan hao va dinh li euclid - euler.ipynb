{
 "cells": [
  {
   "cell_type": "code",
   "execution_count": 13,
   "id": "fa890e28",
   "metadata": {},
   "outputs": [
    {
     "name": "stdout",
     "output_type": "stream",
     "text": [
      "28\n",
      "True\n"
     ]
    }
   ],
   "source": [
    "from math import *\n",
    "\n",
    "def perfect(n) :\n",
    "    sum = 1\n",
    "    for i in range(2, isqrt(n) + 1) :\n",
    "        if n % i == 0 :\n",
    "            sum += i\n",
    "            if n // i != i :\n",
    "                sum  += n // i\n",
    "    return sum == n\n",
    "\n",
    "#dinh li euclid -euler\n",
    "# neu p la so nguyen to va 2 ^ p - 1 cung la so nguyen to \n",
    "# => (2 ^ p - 1) * 2 ^ (p - 1) la so hoan hao\n",
    "\n",
    "def prime(n) :\n",
    "    for i in range(2, isqrt(n) + 1) :\n",
    "        if n % i == 0 : return False\n",
    "    return n > 1\n",
    "\n",
    "def perfectNumber(n) :\n",
    "    for p in range(2, 32) :\n",
    "        if prime(p) and prime(2 ** p - 1) :\n",
    "            if ((2 ** p - 1) * (2 ** (p - 1))) == n :\n",
    "                return True\n",
    "    return False\n",
    "        \n",
    "if __name__ == '__main__' :\n",
    "    n = int(input())\n",
    "    print(perfectNumber(n))"
   ]
  }
 ],
 "metadata": {
  "kernelspec": {
   "display_name": "Python 3 (ipykernel)",
   "language": "python",
   "name": "python3"
  },
  "language_info": {
   "codemirror_mode": {
    "name": "ipython",
    "version": 3
   },
   "file_extension": ".py",
   "mimetype": "text/x-python",
   "name": "python",
   "nbconvert_exporter": "python",
   "pygments_lexer": "ipython3",
   "version": "3.10.9"
  }
 },
 "nbformat": 4,
 "nbformat_minor": 5
}
