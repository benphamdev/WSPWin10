{
 "cells": [
  {
   "cell_type": "code",
   "execution_count": 12,
   "id": "a73e99ce",
   "metadata": {},
   "outputs": [
    {
     "name": "stdout",
     "output_type": "stream",
     "text": [
      "1000\n",
      "10\n",
      "OKE\n"
     ]
    }
   ],
   "source": [
    "# square number\n",
    "\n",
    "from math import *\n",
    "\n",
    "def square (n) :\n",
    "    can = isqrt(n)\n",
    "    return can * can == n\n",
    "def cube (n) :\n",
    "    can = int(pow(n, 1 / 3) + 0.5) # nguy hiem \n",
    "    print(can)\n",
    "    return can ** 3 == n\n",
    "\n",
    "if __name__ == '__main__' :\n",
    "    n = int(input())\n",
    "    if (cube(n)) : print (\"OKE\")\n",
    "    else : print (\"NO\")"
   ]
  }
 ],
 "metadata": {
  "kernelspec": {
   "display_name": "Python 3 (ipykernel)",
   "language": "python",
   "name": "python3"
  },
  "language_info": {
   "codemirror_mode": {
    "name": "ipython",
    "version": 3
   },
   "file_extension": ".py",
   "mimetype": "text/x-python",
   "name": "python",
   "nbconvert_exporter": "python",
   "pygments_lexer": "ipython3",
   "version": "3.10.9"
  }
 },
 "nbformat": 4,
 "nbformat_minor": 5
}
