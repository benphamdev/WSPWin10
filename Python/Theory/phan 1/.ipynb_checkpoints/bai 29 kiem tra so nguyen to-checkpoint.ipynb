{
 "cells": [
  {
   "cell_type": "code",
   "execution_count": 12,
   "id": "65122d3c",
   "metadata": {},
   "outputs": [
    {
     "name": "stdout",
     "output_type": "stream",
     "text": [
      "5\n",
      "2 3 5 "
     ]
    }
   ],
   "source": [
    "# luu y khi code kiem tra dung sai -> nen co gang kiem  tra no sai \n",
    "# ket luan = cau lenh return\n",
    "\n",
    "from math import *\n",
    "\n",
    "def prime(n) :\n",
    "    for i in range (2, isqrt(n) + 1) :\n",
    "        if n % i == 0 : return False\n",
    "    return n > 1\n",
    "\n",
    "if __name__ == '__main__' :\n",
    "    n = int(input())\n",
    "    for i in range(1, n + 1) : \n",
    "        if prime(i) : \n",
    "            print(i, end = ' ')"
   ]
  }
 ],
 "metadata": {
  "kernelspec": {
   "display_name": "Python 3 (ipykernel)",
   "language": "python",
   "name": "python3"
  },
  "language_info": {
   "codemirror_mode": {
    "name": "ipython",
    "version": 3
   },
   "file_extension": ".py",
   "mimetype": "text/x-python",
   "name": "python",
   "nbconvert_exporter": "python",
   "pygments_lexer": "ipython3",
   "version": "3.10.9"
  }
 },
 "nbformat": 4,
 "nbformat_minor": 5
}
