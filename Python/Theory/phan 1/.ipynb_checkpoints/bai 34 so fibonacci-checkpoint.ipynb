{
 "cells": [
  {
   "cell_type": "code",
   "execution_count": 18,
   "id": "40b8ceca",
   "metadata": {},
   "outputs": [
    {
     "name": "stdout",
     "output_type": "stream",
     "text": [
      "3\n",
      "2\n"
     ]
    }
   ],
   "source": [
    "# so fibonacci : 0, 1, 1, 2, 3, 5, 8, ...\n",
    "# kiem tra 1 so co phai la so fibo , in ra so fibo thu n, hoac in ra so fibo \n",
    "# dau tien\n",
    "\n",
    "# de tu ra : n >= 2\n",
    "def fibo(n) :\n",
    "    print('0 1', end = ' ')\n",
    "    fn2, fn1 = 0, 1\n",
    "    for i in range(2, n) :\n",
    "        fn = fn2 + fn1\n",
    "        print(fn, end = ' ')\n",
    "        fn2, fn1 = fn1, fn\n",
    "\n",
    "def checkFibo(n) :\n",
    "    if n == 0 or n == 1 : return True\n",
    "    fn1, fn2 = 1, 0\n",
    "    for i in range(2, 93) :\n",
    "        fn = fn2 + fn1\n",
    "        if fn == n : return True\n",
    "        fn2, fn1 = fn1, fn\n",
    "    return False\n",
    "\n",
    "def printFibo(n) :\n",
    "    if n == 0 or n == 1 : \n",
    "         return n\n",
    "    fn1, fn2 = 1, 0\n",
    "    for i in range(2, n + 1) :\n",
    "        fn = fn2 + fn1 \n",
    "        fn2, fn1 = fn1, fn\n",
    "    return fn\n",
    "\n",
    "if __name__ == '__main__' :\n",
    "    n = int(input())\n",
    "#     fibo(n)\n",
    "#     print(checkFibo(n))\n",
    "    print(printFibo(n))\n",
    "    "
   ]
  }
 ],
 "metadata": {
  "kernelspec": {
   "display_name": "Python 3 (ipykernel)",
   "language": "python",
   "name": "python3"
  },
  "language_info": {
   "codemirror_mode": {
    "name": "ipython",
    "version": 3
   },
   "file_extension": ".py",
   "mimetype": "text/x-python",
   "name": "python",
   "nbconvert_exporter": "python",
   "pygments_lexer": "ipython3",
   "version": "3.10.9"
  }
 },
 "nbformat": 4,
 "nbformat_minor": 5
}
