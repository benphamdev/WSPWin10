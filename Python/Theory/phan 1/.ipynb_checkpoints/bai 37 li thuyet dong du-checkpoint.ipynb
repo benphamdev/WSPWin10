{
 "cells": [
  {
   "cell_type": "code",
   "execution_count": 21,
   "id": "77cd5ccf",
   "metadata": {
    "scrolled": true
   },
   "outputs": [
    {
     "name": "stdout",
     "output_type": "stream",
     "text": [
      "10000000\n",
      "682498929\n"
     ]
    }
   ],
   "source": [
    "#li thuyet dong du\n",
    "# (A + B) % C = ((A % C) + (B % C)) % C\n",
    "# (A - B) % C = ((A % C) - (B % C) + C) % C\n",
    "# (A * B) % C = ((A % C) * (B % C)) % C\n",
    "# (A / B) % C = ((A % C) * (B^-1 % C)) % C\n",
    "\n",
    "#khi bai toan chia du ket qua cho 1 so nao do => tinh den dau chia du den do\n",
    "\n",
    "from math import *\n",
    "\n",
    "# tinh N! chia du cho 1e9 + 7\n",
    "\n",
    "if __name__ == '__main__' :\n",
    "    n = int(input())\n",
    "    res = 1\n",
    "    for i in range (1, n + 1) :\n",
    "        res *= i\n",
    "        res %= (10 ** 9 + 7)\n",
    "    print (res % (10 ** 9 + 7))"
   ]
  }
 ],
 "metadata": {
  "kernelspec": {
   "display_name": "Python 3 (ipykernel)",
   "language": "python",
   "name": "python3"
  },
  "language_info": {
   "codemirror_mode": {
    "name": "ipython",
    "version": 3
   },
   "file_extension": ".py",
   "mimetype": "text/x-python",
   "name": "python",
   "nbconvert_exporter": "python",
   "pygments_lexer": "ipython3",
   "version": "3.10.9"
  }
 },
 "nbformat": 4,
 "nbformat_minor": 5
}
