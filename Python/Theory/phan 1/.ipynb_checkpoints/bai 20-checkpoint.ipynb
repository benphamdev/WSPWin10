{
 "cells": [
  {
   "cell_type": "code",
   "execution_count": 28,
   "id": "252e1b68",
   "metadata": {},
   "outputs": [
    {
     "name": "stdout",
     "output_type": "stream",
     "text": [
      "10 4321\n"
     ]
    }
   ],
   "source": [
    "# chu so cua 1 so nguyen \n",
    "# tinh tong chu so , dem chu so , dem chu so chan, so le, chu so nguyen to'\n",
    "# so thuan nghich, so loc phat\n",
    "\n",
    "n = 1234\n",
    "cnt = 0\n",
    "rev = 0\n",
    "while n: \n",
    "    cnt += n % 10\n",
    "    rev = rev * 10 + n % 10\n",
    "    n //= 10\n",
    "print (cnt, rev)"
   ]
  }
 ],
 "metadata": {
  "kernelspec": {
   "display_name": "Python 3 (ipykernel)",
   "language": "python",
   "name": "python3"
  },
  "language_info": {
   "codemirror_mode": {
    "name": "ipython",
    "version": 3
   },
   "file_extension": ".py",
   "mimetype": "text/x-python",
   "name": "python",
   "nbconvert_exporter": "python",
   "pygments_lexer": "ipython3",
   "version": "3.10.9"
  }
 },
 "nbformat": 4,
 "nbformat_minor": 5
}
