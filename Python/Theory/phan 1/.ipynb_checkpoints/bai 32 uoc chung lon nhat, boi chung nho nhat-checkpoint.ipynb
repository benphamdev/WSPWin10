{
 "cells": [
  {
   "cell_type": "code",
   "execution_count": 9,
   "id": "ed60ac60",
   "metadata": {},
   "outputs": [
    {
     "name": "stdout",
     "output_type": "stream",
     "text": [
      "10 15 20\n",
      "5 60\n"
     ]
    }
   ],
   "source": [
    "# ucln, bcnn\n",
    "# thuat toan euclid\n",
    "\n",
    "def gcd (a, b) :\n",
    "    while b : \n",
    "#         doi a, b => b, a % b \n",
    "        a, b, = b, a % b \n",
    "    return a\n",
    "\n",
    "def lcm (a, b) :\n",
    "    return a // gcd(a, b) * b\n",
    "\n",
    "if __name__ == '__main__' :\n",
    "    a, b, c = map(int, input().split())\n",
    "    print(gcd(gcd(a,b), c), lcm(lcm(a, b), c))"
   ]
  }
 ],
 "metadata": {
  "kernelspec": {
   "display_name": "Python 3 (ipykernel)",
   "language": "python",
   "name": "python3"
  },
  "language_info": {
   "codemirror_mode": {
    "name": "ipython",
    "version": 3
   },
   "file_extension": ".py",
   "mimetype": "text/x-python",
   "name": "python",
   "nbconvert_exporter": "python",
   "pygments_lexer": "ipython3",
   "version": "3.10.9"
  }
 },
 "nbformat": 4,
 "nbformat_minor": 5
}
