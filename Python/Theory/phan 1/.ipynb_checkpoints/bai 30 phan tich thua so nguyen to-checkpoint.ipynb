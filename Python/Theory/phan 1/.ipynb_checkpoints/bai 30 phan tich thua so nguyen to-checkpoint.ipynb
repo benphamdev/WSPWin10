{
 "cells": [
  {
   "cell_type": "code",
   "execution_count": 2,
   "id": "94c2b8c9",
   "metadata": {},
   "outputs": [
    {
     "name": "stdout",
     "output_type": "stream",
     "text": [
      "30\n",
      "2 3 5 "
     ]
    }
   ],
   "source": [
    "from math import *\n",
    "\n",
    "def pt (n) :\n",
    "    for i in range (2, isqrt(n) + 1) :\n",
    "        if n % i == 0 :\n",
    "            while n % i == 0 :\n",
    "                print (i, end = ' ')\n",
    "                n //= i\n",
    "    if n != 1 : print (n)\n",
    "        \n",
    "if __name__ == '__main__' :\n",
    "    n = int(input())\n",
    "    pt (n)"
   ]
  }
 ],
 "metadata": {
  "kernelspec": {
   "display_name": "Python 3 (ipykernel)",
   "language": "python",
   "name": "python3"
  },
  "language_info": {
   "codemirror_mode": {
    "name": "ipython",
    "version": 3
   },
   "file_extension": ".py",
   "mimetype": "text/x-python",
   "name": "python",
   "nbconvert_exporter": "python",
   "pygments_lexer": "ipython3",
   "version": "3.10.9"
  }
 },
 "nbformat": 4,
 "nbformat_minor": 5
}
