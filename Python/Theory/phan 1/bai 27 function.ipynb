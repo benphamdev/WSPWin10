{
 "cells": [
  {
   "cell_type": "code",
   "execution_count": 11,
   "id": "96e4a2b8",
   "metadata": {},
   "outputs": [
    {
     "name": "stdout",
     "output_type": "stream",
     "text": [
      "5 40\n",
      "45\n",
      "45\n",
      "chien dev\n",
      "python \n",
      "oke\n",
      "45 -35\n"
     ]
    }
   ],
   "source": [
    "#function\n",
    "#parameter : tham so hinh thuc\n",
    "# mac dinh ham tra ve None\n",
    "# ham co nhung doi so gi ? -> thong tin ban gui cho ham\n",
    "# ham cua ban tra ve gi tri gi, co kieu du lieu la gi ?\n",
    "#kiem tra dung sai tra ve True, False\n",
    "\n",
    "def sum (a, b) :\n",
    "    return a + b\n",
    "\n",
    "def infor(name, job = 'dev') :\n",
    "    print(name, job)\n",
    "\n",
    "# viet ham tinh giai thua\n",
    "def gt(a, b) :\n",
    "    res = 1\n",
    "    for i in range(1, b + 1) :\n",
    "        res *= i\n",
    "    return res\n",
    "\n",
    "# viet ham tinh a ^ b :\n",
    "def pow(a, b) :\n",
    "    res = 1\n",
    "    while b : \n",
    "        if b % 2 == 1 :\n",
    "            res *= a\n",
    "        b /= 2\n",
    "        a *= a\n",
    "    return res\n",
    "\n",
    "#viet ham in ra dong chu python\n",
    "def xinchao() :\n",
    "    print(\"\"\"python \n",
    "oke\"\"\")\n",
    "\n",
    "\n",
    "\"\"\"viet ham kiem tra so vua chia het cho 3 va chia het cho 5\n",
    "neu dung in yes, sai in no\"\"\"\n",
    "\n",
    "def solve(n) :\n",
    "    if n % 3 == 0 and n % 5 == 0 : \n",
    "        return True\n",
    "    return False\n",
    "\n",
    "def sumdif(a, b) :\n",
    "    return a + b, a - b\n",
    "\n",
    "#code de chay chuong trinh\n",
    "if __name__ == '__main__' :\n",
    "    #code\n",
    "    x, y = map(int, input().split())\n",
    "    print (sum (x, y)) # positional argument \n",
    "    print (sum(b = y, a = x)) # keyword argument \n",
    "    \n",
    "    infor('chien')\n",
    "    xinchao()\n",
    "\n",
    "    tong, hieu = sumdif(x, y)\n",
    "    print(tong, hieu)"
   ]
  }
 ],
 "metadata": {
  "kernelspec": {
   "display_name": "Python 3 (ipykernel)",
   "language": "python",
   "name": "python3"
  },
  "language_info": {
   "codemirror_mode": {
    "name": "ipython",
    "version": 3
   },
   "file_extension": ".py",
   "mimetype": "text/x-python",
   "name": "python",
   "nbconvert_exporter": "python",
   "pygments_lexer": "ipython3",
   "version": "3.10.9"
  }
 },
 "nbformat": 4,
 "nbformat_minor": 5
}
