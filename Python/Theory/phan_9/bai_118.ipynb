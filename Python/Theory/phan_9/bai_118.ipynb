{
 "cells": [
  {
   "cell_type": "code",
   "execution_count": 23,
   "id": "9217ff9c",
   "metadata": {},
   "outputs": [
    {
     "name": "stdout",
     "output_type": "stream",
     "text": [
      "FOUND\n"
     ]
    }
   ],
   "source": [
    "import os\n",
    "\n",
    "f = open('input.txt', 'r')\n",
    "f1 = open('output.txt', 'w')\n",
    "# print(f.read())\n",
    "for line in f : \n",
    "#     print(line)\n",
    "    f1.write(line)\n",
    "f.close()\n",
    "f1.close()\n",
    "if os.path.exists('output.txt') : \n",
    "    print('FOUND')\n",
    "#     os.remove(\"output.txt\")\n",
    "else : \n",
    "    print('NOT FOUND')\n"
   ]
  }
 ],
 "metadata": {
  "kernelspec": {
   "display_name": "Python 3 (ipykernel)",
   "language": "python",
   "name": "python3"
  },
  "language_info": {
   "codemirror_mode": {
    "name": "ipython",
    "version": 3
   },
   "file_extension": ".py",
   "mimetype": "text/x-python",
   "name": "python",
   "nbconvert_exporter": "python",
   "pygments_lexer": "ipython3",
   "version": "3.10.9"
  }
 },
 "nbformat": 4,
 "nbformat_minor": 5
}
